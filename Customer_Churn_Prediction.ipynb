{
  "cells": [
    {
      "cell_type": "markdown",
      "id": "8vJdjaxP-Gbd",
      "metadata": {
        "id": "8vJdjaxP-Gbd"
      },
      "source": [
        "# Customer Churn Prediction\n",
        "\n",
        "The Customer Churn table contains information on all 7,043 customers from a Telecommunications company in California in Q2 2022\n",
        "\n",
        "\n",
        "Each record represents one customer, and contains details about their demographics, location, tenure, subscription services, status for the quarter (joined, stayed, or churned), and more!\n",
        "\n",
        "The Zip Code Population table contains complimentary information on the estimated populations for the California zip codes in the Customer Churn table"
      ]
    },
    {
      "cell_type": "markdown",
      "id": "gNIM1vZE-YW5",
      "metadata": {
        "id": "gNIM1vZE-YW5"
      },
      "source": [
        "Importing necessary files"
      ]
    },
    {
      "cell_type": "code",
      "execution_count": 38,
      "id": "4cb4af63",
      "metadata": {
        "execution": {
          "iopub.execute_input": "2022-10-14T19:27:23.253267Z",
          "iopub.status.busy": "2022-10-14T19:27:23.252325Z",
          "iopub.status.idle": "2022-10-14T19:27:25.759109Z",
          "shell.execute_reply": "2022-10-14T19:27:25.758166Z"
        },
        "id": "4cb4af63",
        "papermill": {
          "duration": 2.529653,
          "end_time": "2022-10-14T19:27:25.761969",
          "exception": false,
          "start_time": "2022-10-14T19:27:23.232316",
          "status": "completed"
        },
        "tags": []
      },
      "outputs": [],
      "source": [
        "import numpy as np\n",
        "import pandas as pd"
      ]
    },
    {
      "cell_type": "code",
      "execution_count": 39,
      "id": "b199eff7",
      "metadata": {
        "execution": {
          "iopub.execute_input": "2022-10-14T19:27:25.797197Z",
          "iopub.status.busy": "2022-10-14T19:27:25.796517Z",
          "iopub.status.idle": "2022-10-14T19:27:25.898493Z",
          "shell.execute_reply": "2022-10-14T19:27:25.897627Z"
        },
        "id": "b199eff7",
        "papermill": {
          "duration": 0.121309,
          "end_time": "2022-10-14T19:27:25.900901",
          "exception": false,
          "start_time": "2022-10-14T19:27:25.779592",
          "status": "completed"
        },
        "tags": []
      },
      "outputs": [],
      "source": [
        "df=pd.read_csv(r'C:\\Python projects\\Customer-Churn-Prediction-main\\Customer-Churn-Prediction-main\\Datasets\\telecom_customer_churn.csv')"
      ]
    },
    {
      "cell_type": "code",
      "execution_count": 40,
      "id": "e0d91ef1",
      "metadata": {
        "colab": {
          "base_uri": "https://localhost:8080/",
          "height": 456
        },
        "execution": {
          "iopub.execute_input": "2022-10-14T19:27:25.934303Z",
          "iopub.status.busy": "2022-10-14T19:27:25.933887Z",
          "iopub.status.idle": "2022-10-14T19:27:25.972119Z",
          "shell.execute_reply": "2022-10-14T19:27:25.971117Z"
        },
        "id": "e0d91ef1",
        "outputId": "35bc57ac-2222-4655-b39d-b82b89c05780",
        "papermill": {
          "duration": 0.057997,
          "end_time": "2022-10-14T19:27:25.974680",
          "exception": false,
          "start_time": "2022-10-14T19:27:25.916683",
          "status": "completed"
        },
        "tags": []
      },
      "outputs": [
        {
          "data": {
            "text/html": [
              "<div>\n",
              "<style scoped>\n",
              "    .dataframe tbody tr th:only-of-type {\n",
              "        vertical-align: middle;\n",
              "    }\n",
              "\n",
              "    .dataframe tbody tr th {\n",
              "        vertical-align: top;\n",
              "    }\n",
              "\n",
              "    .dataframe thead th {\n",
              "        text-align: right;\n",
              "    }\n",
              "</style>\n",
              "<table border=\"1\" class=\"dataframe\">\n",
              "  <thead>\n",
              "    <tr style=\"text-align: right;\">\n",
              "      <th></th>\n",
              "      <th>Customer ID</th>\n",
              "      <th>Gender</th>\n",
              "      <th>Age</th>\n",
              "      <th>Married</th>\n",
              "      <th>Number of Dependents</th>\n",
              "      <th>City</th>\n",
              "      <th>Zip Code</th>\n",
              "      <th>Latitude</th>\n",
              "      <th>Longitude</th>\n",
              "      <th>Number of Referrals</th>\n",
              "      <th>...</th>\n",
              "      <th>Payment Method</th>\n",
              "      <th>Monthly Charge</th>\n",
              "      <th>Total Charges</th>\n",
              "      <th>Total Refunds</th>\n",
              "      <th>Total Extra Data Charges</th>\n",
              "      <th>Total Long Distance Charges</th>\n",
              "      <th>Total Revenue</th>\n",
              "      <th>Customer Status</th>\n",
              "      <th>Churn Category</th>\n",
              "      <th>Churn Reason</th>\n",
              "    </tr>\n",
              "  </thead>\n",
              "  <tbody>\n",
              "    <tr>\n",
              "      <th>0</th>\n",
              "      <td>0002-ORFBO</td>\n",
              "      <td>Female</td>\n",
              "      <td>37</td>\n",
              "      <td>Yes</td>\n",
              "      <td>0</td>\n",
              "      <td>Frazier Park</td>\n",
              "      <td>93225</td>\n",
              "      <td>34.827662</td>\n",
              "      <td>-118.999073</td>\n",
              "      <td>2</td>\n",
              "      <td>...</td>\n",
              "      <td>Credit Card</td>\n",
              "      <td>65.6</td>\n",
              "      <td>593.30</td>\n",
              "      <td>0.00</td>\n",
              "      <td>0</td>\n",
              "      <td>381.51</td>\n",
              "      <td>974.81</td>\n",
              "      <td>Stayed</td>\n",
              "      <td>NaN</td>\n",
              "      <td>NaN</td>\n",
              "    </tr>\n",
              "    <tr>\n",
              "      <th>1</th>\n",
              "      <td>0003-MKNFE</td>\n",
              "      <td>Male</td>\n",
              "      <td>46</td>\n",
              "      <td>No</td>\n",
              "      <td>0</td>\n",
              "      <td>Glendale</td>\n",
              "      <td>91206</td>\n",
              "      <td>34.162515</td>\n",
              "      <td>-118.203869</td>\n",
              "      <td>0</td>\n",
              "      <td>...</td>\n",
              "      <td>Credit Card</td>\n",
              "      <td>-4.0</td>\n",
              "      <td>542.40</td>\n",
              "      <td>38.33</td>\n",
              "      <td>10</td>\n",
              "      <td>96.21</td>\n",
              "      <td>610.28</td>\n",
              "      <td>Stayed</td>\n",
              "      <td>NaN</td>\n",
              "      <td>NaN</td>\n",
              "    </tr>\n",
              "    <tr>\n",
              "      <th>2</th>\n",
              "      <td>0004-TLHLJ</td>\n",
              "      <td>Male</td>\n",
              "      <td>50</td>\n",
              "      <td>No</td>\n",
              "      <td>0</td>\n",
              "      <td>Costa Mesa</td>\n",
              "      <td>92627</td>\n",
              "      <td>33.645672</td>\n",
              "      <td>-117.922613</td>\n",
              "      <td>0</td>\n",
              "      <td>...</td>\n",
              "      <td>Bank Withdrawal</td>\n",
              "      <td>73.9</td>\n",
              "      <td>280.85</td>\n",
              "      <td>0.00</td>\n",
              "      <td>0</td>\n",
              "      <td>134.60</td>\n",
              "      <td>415.45</td>\n",
              "      <td>Churned</td>\n",
              "      <td>Competitor</td>\n",
              "      <td>Competitor had better devices</td>\n",
              "    </tr>\n",
              "    <tr>\n",
              "      <th>3</th>\n",
              "      <td>0011-IGKFF</td>\n",
              "      <td>Male</td>\n",
              "      <td>78</td>\n",
              "      <td>Yes</td>\n",
              "      <td>0</td>\n",
              "      <td>Martinez</td>\n",
              "      <td>94553</td>\n",
              "      <td>38.014457</td>\n",
              "      <td>-122.115432</td>\n",
              "      <td>1</td>\n",
              "      <td>...</td>\n",
              "      <td>Bank Withdrawal</td>\n",
              "      <td>98.0</td>\n",
              "      <td>1237.85</td>\n",
              "      <td>0.00</td>\n",
              "      <td>0</td>\n",
              "      <td>361.66</td>\n",
              "      <td>1599.51</td>\n",
              "      <td>Churned</td>\n",
              "      <td>Dissatisfaction</td>\n",
              "      <td>Product dissatisfaction</td>\n",
              "    </tr>\n",
              "    <tr>\n",
              "      <th>4</th>\n",
              "      <td>0013-EXCHZ</td>\n",
              "      <td>Female</td>\n",
              "      <td>75</td>\n",
              "      <td>Yes</td>\n",
              "      <td>0</td>\n",
              "      <td>Camarillo</td>\n",
              "      <td>93010</td>\n",
              "      <td>34.227846</td>\n",
              "      <td>-119.079903</td>\n",
              "      <td>3</td>\n",
              "      <td>...</td>\n",
              "      <td>Credit Card</td>\n",
              "      <td>83.9</td>\n",
              "      <td>267.40</td>\n",
              "      <td>0.00</td>\n",
              "      <td>0</td>\n",
              "      <td>22.14</td>\n",
              "      <td>289.54</td>\n",
              "      <td>Churned</td>\n",
              "      <td>Dissatisfaction</td>\n",
              "      <td>Network reliability</td>\n",
              "    </tr>\n",
              "  </tbody>\n",
              "</table>\n",
              "<p>5 rows × 38 columns</p>\n",
              "</div>"
            ],
            "text/plain": [
              "  Customer ID  Gender  Age Married  Number of Dependents          City  \\\n",
              "0  0002-ORFBO  Female   37     Yes                     0  Frazier Park   \n",
              "1  0003-MKNFE    Male   46      No                     0      Glendale   \n",
              "2  0004-TLHLJ    Male   50      No                     0    Costa Mesa   \n",
              "3  0011-IGKFF    Male   78     Yes                     0      Martinez   \n",
              "4  0013-EXCHZ  Female   75     Yes                     0     Camarillo   \n",
              "\n",
              "   Zip Code   Latitude   Longitude  Number of Referrals  ...   Payment Method  \\\n",
              "0     93225  34.827662 -118.999073                    2  ...      Credit Card   \n",
              "1     91206  34.162515 -118.203869                    0  ...      Credit Card   \n",
              "2     92627  33.645672 -117.922613                    0  ...  Bank Withdrawal   \n",
              "3     94553  38.014457 -122.115432                    1  ...  Bank Withdrawal   \n",
              "4     93010  34.227846 -119.079903                    3  ...      Credit Card   \n",
              "\n",
              "  Monthly Charge Total Charges  Total Refunds Total Extra Data Charges  \\\n",
              "0           65.6        593.30           0.00                        0   \n",
              "1           -4.0        542.40          38.33                       10   \n",
              "2           73.9        280.85           0.00                        0   \n",
              "3           98.0       1237.85           0.00                        0   \n",
              "4           83.9        267.40           0.00                        0   \n",
              "\n",
              "  Total Long Distance Charges Total Revenue  Customer Status   Churn Category  \\\n",
              "0                      381.51        974.81           Stayed              NaN   \n",
              "1                       96.21        610.28           Stayed              NaN   \n",
              "2                      134.60        415.45          Churned       Competitor   \n",
              "3                      361.66       1599.51          Churned  Dissatisfaction   \n",
              "4                       22.14        289.54          Churned  Dissatisfaction   \n",
              "\n",
              "                    Churn Reason  \n",
              "0                            NaN  \n",
              "1                            NaN  \n",
              "2  Competitor had better devices  \n",
              "3        Product dissatisfaction  \n",
              "4            Network reliability  \n",
              "\n",
              "[5 rows x 38 columns]"
            ]
          },
          "execution_count": 40,
          "metadata": {},
          "output_type": "execute_result"
        }
      ],
      "source": [
        "df.head(5)"
      ]
    },
    {
      "cell_type": "markdown",
      "id": "z3T_3jpB-mGC",
      "metadata": {
        "id": "z3T_3jpB-mGC"
      },
      "source": [
        "Overviewing all the columns in the dataset"
      ]
    },
    {
      "cell_type": "code",
      "execution_count": 41,
      "id": "12ec80d7",
      "metadata": {
        "colab": {
          "base_uri": "https://localhost:8080/"
        },
        "execution": {
          "iopub.execute_input": "2022-10-14T19:27:26.007978Z",
          "iopub.status.busy": "2022-10-14T19:27:26.007580Z",
          "iopub.status.idle": "2022-10-14T19:27:26.014975Z",
          "shell.execute_reply": "2022-10-14T19:27:26.013893Z"
        },
        "id": "12ec80d7",
        "outputId": "49056031-643f-4cc5-c48c-abbca0003a45",
        "papermill": {
          "duration": 0.026493,
          "end_time": "2022-10-14T19:27:26.017126",
          "exception": false,
          "start_time": "2022-10-14T19:27:25.990633",
          "status": "completed"
        },
        "tags": []
      },
      "outputs": [
        {
          "data": {
            "text/plain": [
              "Index(['Customer ID', 'Gender', 'Age', 'Married', 'Number of Dependents',\n",
              "       'City', 'Zip Code', 'Latitude', 'Longitude', 'Number of Referrals',\n",
              "       'Tenure in Months', 'Offer', 'Phone Service',\n",
              "       'Avg Monthly Long Distance Charges', 'Multiple Lines',\n",
              "       'Internet Service', 'Internet Type', 'Avg Monthly GB Download',\n",
              "       'Online Security', 'Online Backup', 'Device Protection Plan',\n",
              "       'Premium Tech Support', 'Streaming TV', 'Streaming Movies',\n",
              "       'Streaming Music', 'Unlimited Data', 'Contract', 'Paperless Billing',\n",
              "       'Payment Method', 'Monthly Charge', 'Total Charges', 'Total Refunds',\n",
              "       'Total Extra Data Charges', 'Total Long Distance Charges',\n",
              "       'Total Revenue', 'Customer Status', 'Churn Category', 'Churn Reason'],\n",
              "      dtype='object')"
            ]
          },
          "execution_count": 41,
          "metadata": {},
          "output_type": "execute_result"
        }
      ],
      "source": [
        "df.columns"
      ]
    },
    {
      "cell_type": "code",
      "execution_count": 42,
      "id": "17b9cf43",
      "metadata": {
        "execution": {
          "iopub.execute_input": "2022-10-14T19:27:26.050770Z",
          "iopub.status.busy": "2022-10-14T19:27:26.050337Z",
          "iopub.status.idle": "2022-10-14T19:27:26.056648Z",
          "shell.execute_reply": "2022-10-14T19:27:26.055424Z"
        },
        "id": "17b9cf43",
        "papermill": {
          "duration": 0.025636,
          "end_time": "2022-10-14T19:27:26.058968",
          "exception": false,
          "start_time": "2022-10-14T19:27:26.033332",
          "status": "completed"
        },
        "tags": []
      },
      "outputs": [],
      "source": [
        "df1 = df.copy()"
      ]
    },
    {
      "cell_type": "markdown",
      "id": "zlwI7pSd-xk9",
      "metadata": {
        "id": "zlwI7pSd-xk9"
      },
      "source": [
        "Creating a copy of the Dataset"
      ]
    },
    {
      "cell_type": "code",
      "execution_count": 43,
      "id": "484bfe2b",
      "metadata": {
        "colab": {
          "base_uri": "https://localhost:8080/",
          "height": 553
        },
        "execution": {
          "iopub.execute_input": "2022-10-14T19:27:26.092326Z",
          "iopub.status.busy": "2022-10-14T19:27:26.091898Z",
          "iopub.status.idle": "2022-10-14T19:27:26.120641Z",
          "shell.execute_reply": "2022-10-14T19:27:26.119526Z"
        },
        "id": "484bfe2b",
        "outputId": "669a9eec-adab-4bd3-8979-3d3be0ceac76",
        "papermill": {
          "duration": 0.048132,
          "end_time": "2022-10-14T19:27:26.122840",
          "exception": false,
          "start_time": "2022-10-14T19:27:26.074708",
          "status": "completed"
        },
        "tags": []
      },
      "outputs": [
        {
          "data": {
            "text/html": [
              "<div>\n",
              "<style scoped>\n",
              "    .dataframe tbody tr th:only-of-type {\n",
              "        vertical-align: middle;\n",
              "    }\n",
              "\n",
              "    .dataframe tbody tr th {\n",
              "        vertical-align: top;\n",
              "    }\n",
              "\n",
              "    .dataframe thead th {\n",
              "        text-align: right;\n",
              "    }\n",
              "</style>\n",
              "<table border=\"1\" class=\"dataframe\">\n",
              "  <thead>\n",
              "    <tr style=\"text-align: right;\">\n",
              "      <th></th>\n",
              "      <th>Customer ID</th>\n",
              "      <th>Gender</th>\n",
              "      <th>Age</th>\n",
              "      <th>Married</th>\n",
              "      <th>Number of Dependents</th>\n",
              "      <th>City</th>\n",
              "      <th>Zip Code</th>\n",
              "      <th>Latitude</th>\n",
              "      <th>Longitude</th>\n",
              "      <th>Number of Referrals</th>\n",
              "      <th>...</th>\n",
              "      <th>Payment Method</th>\n",
              "      <th>Monthly Charge</th>\n",
              "      <th>Total Charges</th>\n",
              "      <th>Total Refunds</th>\n",
              "      <th>Total Extra Data Charges</th>\n",
              "      <th>Total Long Distance Charges</th>\n",
              "      <th>Total Revenue</th>\n",
              "      <th>Customer Status</th>\n",
              "      <th>Churn Category</th>\n",
              "      <th>Churn Reason</th>\n",
              "    </tr>\n",
              "  </thead>\n",
              "  <tbody>\n",
              "    <tr>\n",
              "      <th>0</th>\n",
              "      <td>0002-ORFBO</td>\n",
              "      <td>Female</td>\n",
              "      <td>37</td>\n",
              "      <td>Yes</td>\n",
              "      <td>0</td>\n",
              "      <td>Frazier Park</td>\n",
              "      <td>93225</td>\n",
              "      <td>34.827662</td>\n",
              "      <td>-118.999073</td>\n",
              "      <td>2</td>\n",
              "      <td>...</td>\n",
              "      <td>Credit Card</td>\n",
              "      <td>65.6</td>\n",
              "      <td>593.30</td>\n",
              "      <td>0.00</td>\n",
              "      <td>0</td>\n",
              "      <td>381.51</td>\n",
              "      <td>974.81</td>\n",
              "      <td>Stayed</td>\n",
              "      <td>NaN</td>\n",
              "      <td>NaN</td>\n",
              "    </tr>\n",
              "    <tr>\n",
              "      <th>1</th>\n",
              "      <td>0003-MKNFE</td>\n",
              "      <td>Male</td>\n",
              "      <td>46</td>\n",
              "      <td>No</td>\n",
              "      <td>0</td>\n",
              "      <td>Glendale</td>\n",
              "      <td>91206</td>\n",
              "      <td>34.162515</td>\n",
              "      <td>-118.203869</td>\n",
              "      <td>0</td>\n",
              "      <td>...</td>\n",
              "      <td>Credit Card</td>\n",
              "      <td>-4.0</td>\n",
              "      <td>542.40</td>\n",
              "      <td>38.33</td>\n",
              "      <td>10</td>\n",
              "      <td>96.21</td>\n",
              "      <td>610.28</td>\n",
              "      <td>Stayed</td>\n",
              "      <td>NaN</td>\n",
              "      <td>NaN</td>\n",
              "    </tr>\n",
              "    <tr>\n",
              "      <th>2</th>\n",
              "      <td>0004-TLHLJ</td>\n",
              "      <td>Male</td>\n",
              "      <td>50</td>\n",
              "      <td>No</td>\n",
              "      <td>0</td>\n",
              "      <td>Costa Mesa</td>\n",
              "      <td>92627</td>\n",
              "      <td>33.645672</td>\n",
              "      <td>-117.922613</td>\n",
              "      <td>0</td>\n",
              "      <td>...</td>\n",
              "      <td>Bank Withdrawal</td>\n",
              "      <td>73.9</td>\n",
              "      <td>280.85</td>\n",
              "      <td>0.00</td>\n",
              "      <td>0</td>\n",
              "      <td>134.60</td>\n",
              "      <td>415.45</td>\n",
              "      <td>Churned</td>\n",
              "      <td>Competitor</td>\n",
              "      <td>Competitor had better devices</td>\n",
              "    </tr>\n",
              "    <tr>\n",
              "      <th>3</th>\n",
              "      <td>0011-IGKFF</td>\n",
              "      <td>Male</td>\n",
              "      <td>78</td>\n",
              "      <td>Yes</td>\n",
              "      <td>0</td>\n",
              "      <td>Martinez</td>\n",
              "      <td>94553</td>\n",
              "      <td>38.014457</td>\n",
              "      <td>-122.115432</td>\n",
              "      <td>1</td>\n",
              "      <td>...</td>\n",
              "      <td>Bank Withdrawal</td>\n",
              "      <td>98.0</td>\n",
              "      <td>1237.85</td>\n",
              "      <td>0.00</td>\n",
              "      <td>0</td>\n",
              "      <td>361.66</td>\n",
              "      <td>1599.51</td>\n",
              "      <td>Churned</td>\n",
              "      <td>Dissatisfaction</td>\n",
              "      <td>Product dissatisfaction</td>\n",
              "    </tr>\n",
              "    <tr>\n",
              "      <th>4</th>\n",
              "      <td>0013-EXCHZ</td>\n",
              "      <td>Female</td>\n",
              "      <td>75</td>\n",
              "      <td>Yes</td>\n",
              "      <td>0</td>\n",
              "      <td>Camarillo</td>\n",
              "      <td>93010</td>\n",
              "      <td>34.227846</td>\n",
              "      <td>-119.079903</td>\n",
              "      <td>3</td>\n",
              "      <td>...</td>\n",
              "      <td>Credit Card</td>\n",
              "      <td>83.9</td>\n",
              "      <td>267.40</td>\n",
              "      <td>0.00</td>\n",
              "      <td>0</td>\n",
              "      <td>22.14</td>\n",
              "      <td>289.54</td>\n",
              "      <td>Churned</td>\n",
              "      <td>Dissatisfaction</td>\n",
              "      <td>Network reliability</td>\n",
              "    </tr>\n",
              "    <tr>\n",
              "      <th>5</th>\n",
              "      <td>0013-MHZWF</td>\n",
              "      <td>Female</td>\n",
              "      <td>23</td>\n",
              "      <td>No</td>\n",
              "      <td>3</td>\n",
              "      <td>Midpines</td>\n",
              "      <td>95345</td>\n",
              "      <td>37.581496</td>\n",
              "      <td>-119.972762</td>\n",
              "      <td>0</td>\n",
              "      <td>...</td>\n",
              "      <td>Credit Card</td>\n",
              "      <td>69.4</td>\n",
              "      <td>571.45</td>\n",
              "      <td>0.00</td>\n",
              "      <td>0</td>\n",
              "      <td>150.93</td>\n",
              "      <td>722.38</td>\n",
              "      <td>Stayed</td>\n",
              "      <td>NaN</td>\n",
              "      <td>NaN</td>\n",
              "    </tr>\n",
              "    <tr>\n",
              "      <th>6</th>\n",
              "      <td>0013-SMEOE</td>\n",
              "      <td>Female</td>\n",
              "      <td>67</td>\n",
              "      <td>Yes</td>\n",
              "      <td>0</td>\n",
              "      <td>Lompoc</td>\n",
              "      <td>93437</td>\n",
              "      <td>34.757477</td>\n",
              "      <td>-120.550507</td>\n",
              "      <td>1</td>\n",
              "      <td>...</td>\n",
              "      <td>Bank Withdrawal</td>\n",
              "      <td>109.7</td>\n",
              "      <td>7904.25</td>\n",
              "      <td>0.00</td>\n",
              "      <td>0</td>\n",
              "      <td>707.16</td>\n",
              "      <td>8611.41</td>\n",
              "      <td>Stayed</td>\n",
              "      <td>NaN</td>\n",
              "      <td>NaN</td>\n",
              "    </tr>\n",
              "  </tbody>\n",
              "</table>\n",
              "<p>7 rows × 38 columns</p>\n",
              "</div>"
            ],
            "text/plain": [
              "  Customer ID  Gender  Age Married  Number of Dependents          City  \\\n",
              "0  0002-ORFBO  Female   37     Yes                     0  Frazier Park   \n",
              "1  0003-MKNFE    Male   46      No                     0      Glendale   \n",
              "2  0004-TLHLJ    Male   50      No                     0    Costa Mesa   \n",
              "3  0011-IGKFF    Male   78     Yes                     0      Martinez   \n",
              "4  0013-EXCHZ  Female   75     Yes                     0     Camarillo   \n",
              "5  0013-MHZWF  Female   23      No                     3      Midpines   \n",
              "6  0013-SMEOE  Female   67     Yes                     0        Lompoc   \n",
              "\n",
              "   Zip Code   Latitude   Longitude  Number of Referrals  ...   Payment Method  \\\n",
              "0     93225  34.827662 -118.999073                    2  ...      Credit Card   \n",
              "1     91206  34.162515 -118.203869                    0  ...      Credit Card   \n",
              "2     92627  33.645672 -117.922613                    0  ...  Bank Withdrawal   \n",
              "3     94553  38.014457 -122.115432                    1  ...  Bank Withdrawal   \n",
              "4     93010  34.227846 -119.079903                    3  ...      Credit Card   \n",
              "5     95345  37.581496 -119.972762                    0  ...      Credit Card   \n",
              "6     93437  34.757477 -120.550507                    1  ...  Bank Withdrawal   \n",
              "\n",
              "  Monthly Charge Total Charges  Total Refunds Total Extra Data Charges  \\\n",
              "0           65.6        593.30           0.00                        0   \n",
              "1           -4.0        542.40          38.33                       10   \n",
              "2           73.9        280.85           0.00                        0   \n",
              "3           98.0       1237.85           0.00                        0   \n",
              "4           83.9        267.40           0.00                        0   \n",
              "5           69.4        571.45           0.00                        0   \n",
              "6          109.7       7904.25           0.00                        0   \n",
              "\n",
              "  Total Long Distance Charges Total Revenue  Customer Status   Churn Category  \\\n",
              "0                      381.51        974.81           Stayed              NaN   \n",
              "1                       96.21        610.28           Stayed              NaN   \n",
              "2                      134.60        415.45          Churned       Competitor   \n",
              "3                      361.66       1599.51          Churned  Dissatisfaction   \n",
              "4                       22.14        289.54          Churned  Dissatisfaction   \n",
              "5                      150.93        722.38           Stayed              NaN   \n",
              "6                      707.16       8611.41           Stayed              NaN   \n",
              "\n",
              "                    Churn Reason  \n",
              "0                            NaN  \n",
              "1                            NaN  \n",
              "2  Competitor had better devices  \n",
              "3        Product dissatisfaction  \n",
              "4            Network reliability  \n",
              "5                            NaN  \n",
              "6                            NaN  \n",
              "\n",
              "[7 rows x 38 columns]"
            ]
          },
          "execution_count": 43,
          "metadata": {},
          "output_type": "execute_result"
        }
      ],
      "source": [
        "df1.head(7)"
      ]
    },
    {
      "cell_type": "code",
      "execution_count": 44,
      "id": "724b3ccf",
      "metadata": {
        "colab": {
          "base_uri": "https://localhost:8080/"
        },
        "execution": {
          "iopub.execute_input": "2022-10-14T19:27:26.157466Z",
          "iopub.status.busy": "2022-10-14T19:27:26.157067Z",
          "iopub.status.idle": "2022-10-14T19:27:26.163616Z",
          "shell.execute_reply": "2022-10-14T19:27:26.162720Z"
        },
        "id": "724b3ccf",
        "outputId": "5caab482-784d-4b03-a9e7-cf97d5af72e7",
        "papermill": {
          "duration": 0.026416,
          "end_time": "2022-10-14T19:27:26.165920",
          "exception": false,
          "start_time": "2022-10-14T19:27:26.139504",
          "status": "completed"
        },
        "tags": []
      },
      "outputs": [
        {
          "data": {
            "text/plain": [
              "Index(['Customer ID', 'Gender', 'Age', 'Married', 'Number of Dependents',\n",
              "       'City', 'Zip Code', 'Latitude', 'Longitude', 'Number of Referrals',\n",
              "       'Tenure in Months', 'Offer', 'Phone Service',\n",
              "       'Avg Monthly Long Distance Charges', 'Multiple Lines',\n",
              "       'Internet Service', 'Internet Type', 'Avg Monthly GB Download',\n",
              "       'Online Security', 'Online Backup', 'Device Protection Plan',\n",
              "       'Premium Tech Support', 'Streaming TV', 'Streaming Movies',\n",
              "       'Streaming Music', 'Unlimited Data', 'Contract', 'Paperless Billing',\n",
              "       'Payment Method', 'Monthly Charge', 'Total Charges', 'Total Refunds',\n",
              "       'Total Extra Data Charges', 'Total Long Distance Charges',\n",
              "       'Total Revenue', 'Customer Status', 'Churn Category', 'Churn Reason'],\n",
              "      dtype='object')"
            ]
          },
          "execution_count": 44,
          "metadata": {},
          "output_type": "execute_result"
        }
      ],
      "source": [
        "df1.columns"
      ]
    },
    {
      "cell_type": "markdown",
      "id": "wBTNftKpAfAa",
      "metadata": {
        "id": "wBTNftKpAfAa"
      },
      "source": [
        "# Exploratory Data Analysis"
      ]
    },
    {
      "cell_type": "markdown",
      "id": "IqkjBRzXJeMe",
      "metadata": {
        "id": "IqkjBRzXJeMe"
      },
      "source": [
        "## Data Preprocessing"
      ]
    },
    {
      "cell_type": "markdown",
      "id": "ND0zlMh--1C5",
      "metadata": {
        "id": "ND0zlMh--1C5"
      },
      "source": [
        "Dropping unwanted columns from the dataset"
      ]
    },
    {
      "cell_type": "code",
      "execution_count": 45,
      "id": "aa5a442b",
      "metadata": {
        "execution": {
          "iopub.execute_input": "2022-10-14T19:27:26.200508Z",
          "iopub.status.busy": "2022-10-14T19:27:26.200085Z",
          "iopub.status.idle": "2022-10-14T19:27:26.211255Z",
          "shell.execute_reply": "2022-10-14T19:27:26.210195Z"
        },
        "id": "aa5a442b",
        "papermill": {
          "duration": 0.03111,
          "end_time": "2022-10-14T19:27:26.213514",
          "exception": false,
          "start_time": "2022-10-14T19:27:26.182404",
          "status": "completed"
        },
        "tags": []
      },
      "outputs": [],
      "source": [
        "df1.drop(['Customer ID','Total Refunds','Zip Code','Latitude', 'Longitude','Churn Category', 'Churn Reason'],axis='columns',inplace=True)\n"
      ]
    },
    {
      "cell_type": "code",
      "execution_count": 46,
      "id": "e7850514",
      "metadata": {
        "colab": {
          "base_uri": "https://localhost:8080/"
        },
        "execution": {
          "iopub.execute_input": "2022-10-14T19:27:26.249035Z",
          "iopub.status.busy": "2022-10-14T19:27:26.248594Z",
          "iopub.status.idle": "2022-10-14T19:27:26.255323Z",
          "shell.execute_reply": "2022-10-14T19:27:26.254284Z"
        },
        "id": "e7850514",
        "outputId": "2a86f31f-1bc6-4e86-cd92-181a4cc351ff",
        "papermill": {
          "duration": 0.027386,
          "end_time": "2022-10-14T19:27:26.257719",
          "exception": false,
          "start_time": "2022-10-14T19:27:26.230333",
          "status": "completed"
        },
        "tags": []
      },
      "outputs": [
        {
          "data": {
            "text/plain": [
              "(7043, 31)"
            ]
          },
          "execution_count": 46,
          "metadata": {},
          "output_type": "execute_result"
        }
      ],
      "source": [
        "df1.shape"
      ]
    },
    {
      "cell_type": "code",
      "execution_count": 47,
      "id": "73a95259",
      "metadata": {
        "colab": {
          "base_uri": "https://localhost:8080/"
        },
        "execution": {
          "iopub.execute_input": "2022-10-14T19:27:26.293478Z",
          "iopub.status.busy": "2022-10-14T19:27:26.292410Z",
          "iopub.status.idle": "2022-10-14T19:27:26.301203Z",
          "shell.execute_reply": "2022-10-14T19:27:26.300430Z"
        },
        "id": "73a95259",
        "outputId": "189930d0-9847-4148-a579-737d885cce2a",
        "papermill": {
          "duration": 0.028485,
          "end_time": "2022-10-14T19:27:26.303190",
          "exception": false,
          "start_time": "2022-10-14T19:27:26.274705",
          "status": "completed"
        },
        "tags": []
      },
      "outputs": [
        {
          "data": {
            "text/plain": [
              "Gender                                object\n",
              "Age                                    int64\n",
              "Married                               object\n",
              "Number of Dependents                   int64\n",
              "City                                  object\n",
              "Number of Referrals                    int64\n",
              "Tenure in Months                       int64\n",
              "Offer                                 object\n",
              "Phone Service                         object\n",
              "Avg Monthly Long Distance Charges    float64\n",
              "Multiple Lines                        object\n",
              "Internet Service                      object\n",
              "Internet Type                         object\n",
              "Avg Monthly GB Download              float64\n",
              "Online Security                       object\n",
              "Online Backup                         object\n",
              "Device Protection Plan                object\n",
              "Premium Tech Support                  object\n",
              "Streaming TV                          object\n",
              "Streaming Movies                      object\n",
              "Streaming Music                       object\n",
              "Unlimited Data                        object\n",
              "Contract                              object\n",
              "Paperless Billing                     object\n",
              "Payment Method                        object\n",
              "Monthly Charge                       float64\n",
              "Total Charges                        float64\n",
              "Total Extra Data Charges               int64\n",
              "Total Long Distance Charges          float64\n",
              "Total Revenue                        float64\n",
              "Customer Status                       object\n",
              "dtype: object"
            ]
          },
          "execution_count": 47,
          "metadata": {},
          "output_type": "execute_result"
        }
      ],
      "source": [
        "df1.dtypes"
      ]
    },
    {
      "cell_type": "markdown",
      "id": "6WdVAT8q_ItC",
      "metadata": {
        "id": "6WdVAT8q_ItC"
      },
      "source": [
        "Checking the number of unique values in each column"
      ]
    },
    {
      "cell_type": "code",
      "execution_count": 48,
      "id": "c3cc4efc",
      "metadata": {
        "colab": {
          "base_uri": "https://localhost:8080/"
        },
        "execution": {
          "iopub.execute_input": "2022-10-14T19:27:26.339139Z",
          "iopub.status.busy": "2022-10-14T19:27:26.338766Z",
          "iopub.status.idle": "2022-10-14T19:27:26.364436Z",
          "shell.execute_reply": "2022-10-14T19:27:26.363436Z"
        },
        "id": "c3cc4efc",
        "outputId": "2cba5181-c7f6-455d-f1b6-7a385d693ac0",
        "papermill": {
          "duration": 0.046929,
          "end_time": "2022-10-14T19:27:26.367478",
          "exception": false,
          "start_time": "2022-10-14T19:27:26.320549",
          "status": "completed"
        },
        "tags": []
      },
      "outputs": [
        {
          "name": "stdout",
          "output_type": "stream",
          "text": [
            "Gender--->2\n",
            "Age--->62\n",
            "Married--->2\n",
            "Number of Dependents--->10\n",
            "City--->1106\n",
            "Number of Referrals--->12\n",
            "Tenure in Months--->72\n",
            "Offer--->5\n",
            "Phone Service--->2\n",
            "Avg Monthly Long Distance Charges--->3583\n",
            "Multiple Lines--->2\n",
            "Internet Service--->2\n",
            "Internet Type--->3\n",
            "Avg Monthly GB Download--->49\n",
            "Online Security--->2\n",
            "Online Backup--->2\n",
            "Device Protection Plan--->2\n",
            "Premium Tech Support--->2\n",
            "Streaming TV--->2\n",
            "Streaming Movies--->2\n",
            "Streaming Music--->2\n",
            "Unlimited Data--->2\n",
            "Contract--->3\n",
            "Paperless Billing--->2\n",
            "Payment Method--->3\n",
            "Monthly Charge--->1591\n",
            "Total Charges--->6540\n",
            "Total Extra Data Charges--->16\n",
            "Total Long Distance Charges--->6068\n",
            "Total Revenue--->6975\n",
            "Customer Status--->3\n"
          ]
        }
      ],
      "source": [
        "features = df1.columns\n",
        "for feature in features:\n",
        "     print(f'{feature}--->{df[feature].nunique()}')"
      ]
    },
    {
      "cell_type": "markdown",
      "id": "05f_SZX2_lPS",
      "metadata": {
        "id": "05f_SZX2_lPS"
      },
      "source": [
        "Getting the percentge of Null Values in each Column"
      ]
    },
    {
      "cell_type": "code",
      "execution_count": 49,
      "id": "bd43e0ea",
      "metadata": {
        "colab": {
          "base_uri": "https://localhost:8080/"
        },
        "execution": {
          "iopub.execute_input": "2022-10-14T19:27:26.461127Z",
          "iopub.status.busy": "2022-10-14T19:27:26.460146Z",
          "iopub.status.idle": "2022-10-14T19:27:26.476917Z",
          "shell.execute_reply": "2022-10-14T19:27:26.475722Z"
        },
        "id": "bd43e0ea",
        "outputId": "67c8bf91-d35c-47c7-c2bd-ace46cb8e700",
        "papermill": {
          "duration": 0.037639,
          "end_time": "2022-10-14T19:27:26.479376",
          "exception": false,
          "start_time": "2022-10-14T19:27:26.441737",
          "status": "completed"
        },
        "tags": []
      },
      "outputs": [
        {
          "data": {
            "text/plain": [
              "Gender                               0.000000\n",
              "Age                                  0.000000\n",
              "Married                              0.000000\n",
              "Number of Dependents                 0.000000\n",
              "City                                 0.000000\n",
              "Number of Referrals                  0.000000\n",
              "Tenure in Months                     0.000000\n",
              "Offer                                0.550476\n",
              "Phone Service                        0.000000\n",
              "Avg Monthly Long Distance Charges    0.096834\n",
              "Multiple Lines                       0.096834\n",
              "Internet Service                     0.000000\n",
              "Internet Type                        0.216669\n",
              "Avg Monthly GB Download              0.216669\n",
              "Online Security                      0.216669\n",
              "Online Backup                        0.216669\n",
              "Device Protection Plan               0.216669\n",
              "Premium Tech Support                 0.216669\n",
              "Streaming TV                         0.216669\n",
              "Streaming Movies                     0.216669\n",
              "Streaming Music                      0.216669\n",
              "Unlimited Data                       0.216669\n",
              "Contract                             0.000000\n",
              "Paperless Billing                    0.000000\n",
              "Payment Method                       0.000000\n",
              "Monthly Charge                       0.000000\n",
              "Total Charges                        0.000000\n",
              "Total Extra Data Charges             0.000000\n",
              "Total Long Distance Charges          0.000000\n",
              "Total Revenue                        0.000000\n",
              "Customer Status                      0.000000\n",
              "dtype: float64"
            ]
          },
          "execution_count": 49,
          "metadata": {},
          "output_type": "execute_result"
        }
      ],
      "source": [
        "df1.isnull().sum() / df1.shape[0]"
      ]
    },
    {
      "cell_type": "markdown",
      "id": "o55Sin2wAidR",
      "metadata": {
        "id": "o55Sin2wAidR"
      },
      "source": [
        "Cleaning Function for the Dataset"
      ]
    },
    {
      "cell_type": "code",
      "execution_count": 50,
      "id": "2816b44d",
      "metadata": {
        "execution": {
          "iopub.execute_input": "2022-10-14T19:27:26.515492Z",
          "iopub.status.busy": "2022-10-14T19:27:26.514786Z",
          "iopub.status.idle": "2022-10-14T19:27:26.520775Z",
          "shell.execute_reply": "2022-10-14T19:27:26.519761Z"
        },
        "id": "2816b44d",
        "papermill": {
          "duration": 0.026484,
          "end_time": "2022-10-14T19:27:26.522949",
          "exception": false,
          "start_time": "2022-10-14T19:27:26.496465",
          "status": "completed"
        },
        "tags": []
      },
      "outputs": [],
      "source": [
        "def clean_dataset(df):\n",
        "    assert isinstance(df, pd.DataFrame)\n",
        "    df.dropna(inplace=True)\n",
        "    indices_to_keep = ~df.isin([np.nan, np.inf, -np.inf]).any(1)\n",
        "    return df[indices_to_keep].astype(np.float64)"
      ]
    },
    {
      "cell_type": "code",
      "execution_count": 51,
      "id": "22c4bb55",
      "metadata": {
        "execution": {
          "iopub.execute_input": "2022-10-14T19:27:26.559022Z",
          "iopub.status.busy": "2022-10-14T19:27:26.558642Z",
          "iopub.status.idle": "2022-10-14T19:27:26.569858Z",
          "shell.execute_reply": "2022-10-14T19:27:26.568662Z"
        },
        "id": "22c4bb55",
        "papermill": {
          "duration": 0.032272,
          "end_time": "2022-10-14T19:27:26.572322",
          "exception": false,
          "start_time": "2022-10-14T19:27:26.540050",
          "status": "completed"
        },
        "tags": []
      },
      "outputs": [
        {
          "name": "stderr",
          "output_type": "stream",
          "text": [
            "C:\\Users\\samar\\AppData\\Local\\Temp\\ipykernel_14464\\3346565851.py:1: FutureWarning:\n",
            "\n",
            "DataFrame.interpolate with object dtype is deprecated and will raise in a future version. Call obj.infer_objects(copy=False) before interpolating instead.\n",
            "\n"
          ]
        }
      ],
      "source": [
        "df1=df1.interpolate()"
      ]
    },
    {
      "cell_type": "code",
      "execution_count": 52,
      "id": "1ae721af",
      "metadata": {
        "colab": {
          "base_uri": "https://localhost:8080/",
          "height": 456
        },
        "execution": {
          "iopub.execute_input": "2022-10-14T19:27:26.608326Z",
          "iopub.status.busy": "2022-10-14T19:27:26.607893Z",
          "iopub.status.idle": "2022-10-14T19:27:26.625557Z",
          "shell.execute_reply": "2022-10-14T19:27:26.624120Z"
        },
        "id": "1ae721af",
        "outputId": "b96d05f6-723a-47c3-ec34-dd164ec2ab5d",
        "papermill": {
          "duration": 0.038252,
          "end_time": "2022-10-14T19:27:26.627712",
          "exception": false,
          "start_time": "2022-10-14T19:27:26.589460",
          "status": "completed"
        },
        "tags": []
      },
      "outputs": [
        {
          "data": {
            "text/html": [
              "<div>\n",
              "<style scoped>\n",
              "    .dataframe tbody tr th:only-of-type {\n",
              "        vertical-align: middle;\n",
              "    }\n",
              "\n",
              "    .dataframe tbody tr th {\n",
              "        vertical-align: top;\n",
              "    }\n",
              "\n",
              "    .dataframe thead th {\n",
              "        text-align: right;\n",
              "    }\n",
              "</style>\n",
              "<table border=\"1\" class=\"dataframe\">\n",
              "  <thead>\n",
              "    <tr style=\"text-align: right;\">\n",
              "      <th></th>\n",
              "      <th>Customer ID</th>\n",
              "      <th>Gender</th>\n",
              "      <th>Age</th>\n",
              "      <th>Married</th>\n",
              "      <th>Number of Dependents</th>\n",
              "      <th>City</th>\n",
              "      <th>Zip Code</th>\n",
              "      <th>Latitude</th>\n",
              "      <th>Longitude</th>\n",
              "      <th>Number of Referrals</th>\n",
              "      <th>...</th>\n",
              "      <th>Payment Method</th>\n",
              "      <th>Monthly Charge</th>\n",
              "      <th>Total Charges</th>\n",
              "      <th>Total Refunds</th>\n",
              "      <th>Total Extra Data Charges</th>\n",
              "      <th>Total Long Distance Charges</th>\n",
              "      <th>Total Revenue</th>\n",
              "      <th>Customer Status</th>\n",
              "      <th>Churn Category</th>\n",
              "      <th>Churn Reason</th>\n",
              "    </tr>\n",
              "  </thead>\n",
              "  <tbody>\n",
              "    <tr>\n",
              "      <th>0</th>\n",
              "      <td>0002-ORFBO</td>\n",
              "      <td>Female</td>\n",
              "      <td>37</td>\n",
              "      <td>Yes</td>\n",
              "      <td>0</td>\n",
              "      <td>Frazier Park</td>\n",
              "      <td>93225</td>\n",
              "      <td>34.827662</td>\n",
              "      <td>-118.999073</td>\n",
              "      <td>2</td>\n",
              "      <td>...</td>\n",
              "      <td>Credit Card</td>\n",
              "      <td>65.6</td>\n",
              "      <td>593.30</td>\n",
              "      <td>0.00</td>\n",
              "      <td>0</td>\n",
              "      <td>381.51</td>\n",
              "      <td>974.81</td>\n",
              "      <td>Stayed</td>\n",
              "      <td>NaN</td>\n",
              "      <td>NaN</td>\n",
              "    </tr>\n",
              "    <tr>\n",
              "      <th>1</th>\n",
              "      <td>0003-MKNFE</td>\n",
              "      <td>Male</td>\n",
              "      <td>46</td>\n",
              "      <td>No</td>\n",
              "      <td>0</td>\n",
              "      <td>Glendale</td>\n",
              "      <td>91206</td>\n",
              "      <td>34.162515</td>\n",
              "      <td>-118.203869</td>\n",
              "      <td>0</td>\n",
              "      <td>...</td>\n",
              "      <td>Credit Card</td>\n",
              "      <td>-4.0</td>\n",
              "      <td>542.40</td>\n",
              "      <td>38.33</td>\n",
              "      <td>10</td>\n",
              "      <td>96.21</td>\n",
              "      <td>610.28</td>\n",
              "      <td>Stayed</td>\n",
              "      <td>NaN</td>\n",
              "      <td>NaN</td>\n",
              "    </tr>\n",
              "    <tr>\n",
              "      <th>2</th>\n",
              "      <td>0004-TLHLJ</td>\n",
              "      <td>Male</td>\n",
              "      <td>50</td>\n",
              "      <td>No</td>\n",
              "      <td>0</td>\n",
              "      <td>Costa Mesa</td>\n",
              "      <td>92627</td>\n",
              "      <td>33.645672</td>\n",
              "      <td>-117.922613</td>\n",
              "      <td>0</td>\n",
              "      <td>...</td>\n",
              "      <td>Bank Withdrawal</td>\n",
              "      <td>73.9</td>\n",
              "      <td>280.85</td>\n",
              "      <td>0.00</td>\n",
              "      <td>0</td>\n",
              "      <td>134.60</td>\n",
              "      <td>415.45</td>\n",
              "      <td>Churned</td>\n",
              "      <td>Competitor</td>\n",
              "      <td>Competitor had better devices</td>\n",
              "    </tr>\n",
              "    <tr>\n",
              "      <th>3</th>\n",
              "      <td>0011-IGKFF</td>\n",
              "      <td>Male</td>\n",
              "      <td>78</td>\n",
              "      <td>Yes</td>\n",
              "      <td>0</td>\n",
              "      <td>Martinez</td>\n",
              "      <td>94553</td>\n",
              "      <td>38.014457</td>\n",
              "      <td>-122.115432</td>\n",
              "      <td>1</td>\n",
              "      <td>...</td>\n",
              "      <td>Bank Withdrawal</td>\n",
              "      <td>98.0</td>\n",
              "      <td>1237.85</td>\n",
              "      <td>0.00</td>\n",
              "      <td>0</td>\n",
              "      <td>361.66</td>\n",
              "      <td>1599.51</td>\n",
              "      <td>Churned</td>\n",
              "      <td>Dissatisfaction</td>\n",
              "      <td>Product dissatisfaction</td>\n",
              "    </tr>\n",
              "    <tr>\n",
              "      <th>4</th>\n",
              "      <td>0013-EXCHZ</td>\n",
              "      <td>Female</td>\n",
              "      <td>75</td>\n",
              "      <td>Yes</td>\n",
              "      <td>0</td>\n",
              "      <td>Camarillo</td>\n",
              "      <td>93010</td>\n",
              "      <td>34.227846</td>\n",
              "      <td>-119.079903</td>\n",
              "      <td>3</td>\n",
              "      <td>...</td>\n",
              "      <td>Credit Card</td>\n",
              "      <td>83.9</td>\n",
              "      <td>267.40</td>\n",
              "      <td>0.00</td>\n",
              "      <td>0</td>\n",
              "      <td>22.14</td>\n",
              "      <td>289.54</td>\n",
              "      <td>Churned</td>\n",
              "      <td>Dissatisfaction</td>\n",
              "      <td>Network reliability</td>\n",
              "    </tr>\n",
              "  </tbody>\n",
              "</table>\n",
              "<p>5 rows × 38 columns</p>\n",
              "</div>"
            ],
            "text/plain": [
              "  Customer ID  Gender  Age Married  Number of Dependents          City  \\\n",
              "0  0002-ORFBO  Female   37     Yes                     0  Frazier Park   \n",
              "1  0003-MKNFE    Male   46      No                     0      Glendale   \n",
              "2  0004-TLHLJ    Male   50      No                     0    Costa Mesa   \n",
              "3  0011-IGKFF    Male   78     Yes                     0      Martinez   \n",
              "4  0013-EXCHZ  Female   75     Yes                     0     Camarillo   \n",
              "\n",
              "   Zip Code   Latitude   Longitude  Number of Referrals  ...   Payment Method  \\\n",
              "0     93225  34.827662 -118.999073                    2  ...      Credit Card   \n",
              "1     91206  34.162515 -118.203869                    0  ...      Credit Card   \n",
              "2     92627  33.645672 -117.922613                    0  ...  Bank Withdrawal   \n",
              "3     94553  38.014457 -122.115432                    1  ...  Bank Withdrawal   \n",
              "4     93010  34.227846 -119.079903                    3  ...      Credit Card   \n",
              "\n",
              "  Monthly Charge Total Charges  Total Refunds Total Extra Data Charges  \\\n",
              "0           65.6        593.30           0.00                        0   \n",
              "1           -4.0        542.40          38.33                       10   \n",
              "2           73.9        280.85           0.00                        0   \n",
              "3           98.0       1237.85           0.00                        0   \n",
              "4           83.9        267.40           0.00                        0   \n",
              "\n",
              "  Total Long Distance Charges Total Revenue  Customer Status   Churn Category  \\\n",
              "0                      381.51        974.81           Stayed              NaN   \n",
              "1                       96.21        610.28           Stayed              NaN   \n",
              "2                      134.60        415.45          Churned       Competitor   \n",
              "3                      361.66       1599.51          Churned  Dissatisfaction   \n",
              "4                       22.14        289.54          Churned  Dissatisfaction   \n",
              "\n",
              "                    Churn Reason  \n",
              "0                            NaN  \n",
              "1                            NaN  \n",
              "2  Competitor had better devices  \n",
              "3        Product dissatisfaction  \n",
              "4            Network reliability  \n",
              "\n",
              "[5 rows x 38 columns]"
            ]
          },
          "execution_count": 52,
          "metadata": {},
          "output_type": "execute_result"
        }
      ],
      "source": [
        "df1=df1.dropna()\n",
        "df.head()"
      ]
    },
    {
      "cell_type": "code",
      "execution_count": 53,
      "id": "e585d090",
      "metadata": {
        "colab": {
          "base_uri": "https://localhost:8080/"
        },
        "execution": {
          "iopub.execute_input": "2022-10-14T19:27:26.663809Z",
          "iopub.status.busy": "2022-10-14T19:27:26.663408Z",
          "iopub.status.idle": "2022-10-14T19:27:26.672276Z",
          "shell.execute_reply": "2022-10-14T19:27:26.671250Z"
        },
        "id": "e585d090",
        "outputId": "3c3fe98f-ebef-4a7e-deb3-171d613d31cc",
        "papermill": {
          "duration": 0.029618,
          "end_time": "2022-10-14T19:27:26.674621",
          "exception": false,
          "start_time": "2022-10-14T19:27:26.645003",
          "status": "completed"
        },
        "tags": []
      },
      "outputs": [
        {
          "data": {
            "text/plain": [
              "0       Yes\n",
              "1        No\n",
              "2       Yes\n",
              "3       Yes\n",
              "4       Yes\n",
              "       ... \n",
              "7038    Yes\n",
              "7039    Yes\n",
              "7040    Yes\n",
              "7041    Yes\n",
              "7042    Yes\n",
              "Name: Unlimited Data, Length: 7043, dtype: object"
            ]
          },
          "execution_count": 53,
          "metadata": {},
          "output_type": "execute_result"
        }
      ],
      "source": [
        "df['Unlimited Data'] "
      ]
    },
    {
      "cell_type": "code",
      "execution_count": 54,
      "id": "1d64b399",
      "metadata": {
        "execution": {
          "iopub.execute_input": "2022-10-14T19:27:26.711172Z",
          "iopub.status.busy": "2022-10-14T19:27:26.710377Z",
          "iopub.status.idle": "2022-10-14T19:27:26.715476Z",
          "shell.execute_reply": "2022-10-14T19:27:26.714584Z"
        },
        "id": "1d64b399",
        "papermill": {
          "duration": 0.025667,
          "end_time": "2022-10-14T19:27:26.717594",
          "exception": false,
          "start_time": "2022-10-14T19:27:26.691927",
          "status": "completed"
        },
        "tags": []
      },
      "outputs": [],
      "source": [
        "number_columns=['Age','Number of Dependents','Number of Referrals','Tenure in Months','Avg Monthly Long Distance Charges','Avg Monthly GB Download','Monthly Charge','Total Charges','Total Extra Data Charges','Total Long Distance Charges','Total Revenue']"
      ]
    },
    {
      "cell_type": "markdown",
      "id": "dB0uWTGiA4fz",
      "metadata": {
        "id": "dB0uWTGiA4fz"
      },
      "source": [
        "Checking the unique values of column having datatype: 'object'"
      ]
    },
    {
      "cell_type": "code",
      "execution_count": 55,
      "id": "18753379",
      "metadata": {
        "execution": {
          "iopub.execute_input": "2022-10-14T19:27:26.753541Z",
          "iopub.status.busy": "2022-10-14T19:27:26.753109Z",
          "iopub.status.idle": "2022-10-14T19:27:26.758536Z",
          "shell.execute_reply": "2022-10-14T19:27:26.757499Z"
        },
        "id": "18753379",
        "papermill": {
          "duration": 0.025832,
          "end_time": "2022-10-14T19:27:26.760700",
          "exception": false,
          "start_time": "2022-10-14T19:27:26.734868",
          "status": "completed"
        },
        "tags": []
      },
      "outputs": [],
      "source": [
        "def unique_values_names(df):\n",
        "    for column in df:\n",
        "        if df[column].dtype=='object':\n",
        "            print(f'{column}:{df[column].unique()}')"
      ]
    },
    {
      "cell_type": "code",
      "execution_count": 56,
      "id": "556dd6e0",
      "metadata": {
        "colab": {
          "base_uri": "https://localhost:8080/"
        },
        "execution": {
          "iopub.execute_input": "2022-10-14T19:27:26.797858Z",
          "iopub.status.busy": "2022-10-14T19:27:26.797476Z",
          "iopub.status.idle": "2022-10-14T19:27:26.816769Z",
          "shell.execute_reply": "2022-10-14T19:27:26.815264Z"
        },
        "id": "556dd6e0",
        "outputId": "5f5f61dd-f9d1-48fd-81a7-13bf03fb1efc",
        "papermill": {
          "duration": 0.040934,
          "end_time": "2022-10-14T19:27:26.819798",
          "exception": false,
          "start_time": "2022-10-14T19:27:26.778864",
          "status": "completed"
        },
        "tags": []
      },
      "outputs": [
        {
          "name": "stdout",
          "output_type": "stream",
          "text": [
            "Gender:['Male' 'Female']\n",
            "Married:['No' 'Yes']\n",
            "City:['Costa Mesa' 'Martinez' 'Midpines' 'Lompoc' 'Napa' 'Simi Valley'\n",
            " 'La Mesa' 'Woodlake' 'San Marcos' 'Alpaugh' 'Moss Beach' 'Stockton'\n",
            " 'Los Angeles' 'Yermo' 'Fremont' 'El Portal' 'Calistoga' 'North Hollywood'\n",
            " 'Inverness' 'Modesto' 'Kenwood' 'Morongo Valley' 'Palo Verde' 'Valyermo'\n",
            " 'Monterey Park' 'Big Oak Flat' 'Glenhaven' 'Lodi' 'Fairfield' 'Moorpark'\n",
            " 'Solvang' 'Del Rey' 'Armona' 'Mckinleyville' 'Calimesa' 'Garden Grove'\n",
            " 'Indio' 'San Diego' 'Escondido' 'Chino' 'Calexico' 'Groveland'\n",
            " 'Los Gatos' 'Clovis' 'Buellton' 'Midway City' 'Folsom' 'San Clemente'\n",
            " 'Bodega Bay' 'Challenge' 'Ludlow' 'Santa Clara' 'Rescue' 'Lotus'\n",
            " 'Harbor City' 'Death Valley' 'Riverdale' 'Claremont' 'Upland'\n",
            " 'Santa Rosa' 'Long Beach' 'Samoa' 'Milford' 'Anderson' 'Orange'\n",
            " 'San Francisco' 'Santa Cruz' 'Lake Hughes' 'Paramount'\n",
            " 'San Juan Capistrano' 'Copperopolis' 'Cypress' 'Lancaster' 'San Ysidro'\n",
            " 'Gilroy' 'San Jose' 'Stanford' 'Turlock' 'Los Alamitos' 'Encinitas'\n",
            " 'Sacramento' 'La Habra' 'Visalia' 'Whittier' 'Grass Valley' 'Herlong'\n",
            " 'Mojave' 'Denair' 'Monterey' 'Palo Alto' 'Lomita' 'Kelseyville'\n",
            " 'Pinecrest' 'Beale Afb' 'Greenville' 'Poway' 'Korbel' 'Pine Valley'\n",
            " 'Bangor' 'Canyon Dam' 'Anza' 'Forest Ranch' 'Jamul' 'Petaluma' 'Hornitos'\n",
            " 'Lafayette' 'Beverly Hills' 'Chester' 'Hilmar' 'Riverside' 'Etna'\n",
            " 'Castro Valley' 'Comptche' 'Wasco' 'Irvine' 'Newhall' 'Murphys' 'Ceres'\n",
            " 'Elk Grove' 'Wilton' 'Douglas City' 'White Water' 'Merced' 'Alviso'\n",
            " 'Palm Springs' 'Rancho Cucamonga' 'Orleans' 'Elk' 'Bakersfield'\n",
            " 'Placentia' 'Redwood City' 'Buena Park' 'Richmond' 'Yreka' 'Elverta'\n",
            " 'Santa Barbara' 'Dutch Flat' 'Mi Wuk Village' 'Milpitas' 'West Hollywood'\n",
            " 'Norco' 'Gold Run' 'Grover Beach' 'Covina' 'Adin' 'Mecca' 'Inglewood'\n",
            " 'Temecula' 'June Lake' 'Brawley' 'Big Bear Lake' 'Grenada' 'Woodland'\n",
            " 'Corona Del Mar' 'Newport Beach' 'Saratoga' 'Concord' 'Trinidad'\n",
            " 'Columbia' 'Hamilton City' 'Pine Grove' 'Livermore' 'Lucerne Valley'\n",
            " 'Honeydew' 'Coalinga' 'Cressey' 'Pittsburg' 'Sun City' 'Paradise'\n",
            " 'Westlake Village' 'Felton' 'Klamath' 'Chico' 'Santa Ana' 'Winters'\n",
            " 'Hesperia' 'Encino' 'Palmdale' 'Pleasant Grove' 'Thousand Palms'\n",
            " 'Bodfish' 'Glendale' 'Fiddletown' 'Forbestown' 'Glen Ellen' 'Santee'\n",
            " 'Acampo' 'Burbank' 'Sierra City' 'Cobb' 'El Dorado' 'Angelus Oaks'\n",
            " 'Westwood' 'Shaver Lake' 'Fawnskin' 'Boonville' 'Pioneertown'\n",
            " 'Klamath River' 'Grimes' 'Hood' 'Fresno' 'Byron' 'Winchester'\n",
            " 'Oregon House' 'Fall River Mills' 'Shoshone' 'Garberville'\n",
            " 'Desert Hot Springs' 'Torrance' 'Squaw Valley' 'Palermo'\n",
            " 'Capistrano Beach' 'La Puente' 'Posey' 'Lakehead' 'Rodeo' 'San Joaquin'\n",
            " 'Avila Beach' 'Santa Margarita' 'Montara' 'Planada' 'La Grange' 'Alamo'\n",
            " 'Lee Vining' 'Huntington Park' 'Foothill Ranch' 'Ladera Ranch' 'Rio Dell'\n",
            " 'Somis' 'National City' 'Old Station' 'Fellows' 'Emeryville'\n",
            " 'Pearblossom' 'Palomar Mountain' 'Lake Forest' 'Woodbridge'\n",
            " 'Canyon Country' 'Cottonwood' 'Mission Viejo' 'Firebaugh' 'San Lucas'\n",
            " 'San Ramon' 'Santa Monica' 'San Bernardino' 'Downey' 'Madison'\n",
            " 'Lemon Grove' 'Deer Park' 'Shasta' 'Walnut Creek' 'Gerber' 'Los Molinos'\n",
            " 'Shafter' 'Guerneville' 'Cantua Creek' 'Bethel Island' 'Victorville'\n",
            " 'Dos Palos' 'Calpine' 'Mentone' 'Freedom' 'Ojai' 'Citrus Heights'\n",
            " 'Oakley' 'Rohnert Park' 'Fallbrook' 'Atherton' 'Wheatland' 'West Covina'\n",
            " 'Cupertino' 'Tecate' 'Hickman' 'San Dimas' 'Pacoima' 'Wallace' 'Topanga'\n",
            " 'Carlotta' 'Shingle Springs' 'Mira Loma' 'La Quinta' 'Salinas' 'Guinda'\n",
            " 'Artesia' 'Penryn' 'Glenn' 'Westport' 'Imperial Beach' 'Lockwood'\n",
            " 'Dana Point' 'Mountain View' 'Gridley' 'Pauma Valley' 'Hemet' 'Corcoran'\n",
            " 'Dorris' 'Vacaville' 'Madera' 'Somerset' 'Perris' 'Upper Lake'\n",
            " 'South El Monte' 'Orangevale' 'Pomona' 'Mad River' 'Redlands' 'Tujunga'\n",
            " 'Cerritos' 'Coronado' 'Fish Camp' 'Placerville' 'Laytonville'\n",
            " 'Forest Knolls' 'Templeton' 'Greenwood' 'Menlo Park' 'San Pedro' 'Igo'\n",
            " 'Exeter' 'Woodland Hills' 'Malibu' 'Big Bend' 'Pasadena' 'Novato'\n",
            " 'Compton' 'Sequoia National Park' 'Yuba City' 'Rio Vista' 'Millbrae'\n",
            " 'Carson' 'Corona' 'Camino' 'Ranchita' 'San Mateo' 'Banning' 'Stevinson'\n",
            " 'Davis' 'Anaheim' 'San Leandro' 'Chilcoot' 'Hume' 'Sunnyvale' 'Colusa'\n",
            " 'Carmel' 'Sultana' 'Fountain Valley' 'Piru' 'Badger' 'Castella' 'Covelo'\n",
            " 'Sun Valley' 'San Carlos' 'Ventura' 'Roseville' 'Clipper Mills' 'Piercy'\n",
            " 'Chula Vista' 'Running Springs' 'Bonita' 'Sylmar' 'Meadow Vista'\n",
            " 'Lakewood' 'Rancho Cordova' 'Manchester' 'Big Bear City' 'Gualala'\n",
            " 'Dublin' 'California City' 'Santa Clarita' 'Mammoth Lakes' 'Vista'\n",
            " 'Likely' 'Catheys Valley' 'Mc Farland' 'Sunset Beach' 'Murrieta' 'Benton'\n",
            " 'Tehachapi' 'Santa Maria' 'Blythe' 'March Air Reserve Base' 'Graton'\n",
            " 'Bayside' 'Meridian' 'Pope Valley' 'Mount Laguna' 'Termo' 'Tahoe Vista'\n",
            " 'Chualar' 'Bloomington' 'Newport Coast' 'Oroville' 'Sheep Ranch' 'Traver'\n",
            " 'Olancha' 'Ione' 'Raymond' 'Mccloud' 'Sloughhouse' 'El Cajon' 'Vallejo'\n",
            " 'Menifee' 'La Jolla' 'Manteca' 'Rancho Santa Fe' 'Paso Robles'\n",
            " 'Greenview' 'Oceanside' 'Redding' 'Los Banos' 'Bonsall' 'Jamestown'\n",
            " 'Altadena' 'Hopland' 'Platina' 'Mc Kittrick' 'Sutter Creek' 'Van Nuys'\n",
            " 'Willows' 'Morro Bay' 'Salyer' 'Guadalupe' 'Potrero' 'Fontana' 'Sonora'\n",
            " 'Ramona' 'Scott Bar' 'Independence' 'Ballico' 'Cedar Glen' 'Granite Bay'\n",
            " 'Doyle' 'Berkeley' 'South Pasadena' 'Barstow' 'Myers Flat' 'Dulzura'\n",
            " 'Sierraville' 'Ontario' 'Fullerton' 'Angels Camp' 'Valencia' 'Tollhouse'\n",
            " 'Five Points' 'Hathaway Pines' 'Kyburz' 'Grizzly Flats' 'Alpine'\n",
            " 'Paicines' 'Pollock Pines' 'Venice' 'Valley Ford' 'Crockett'\n",
            " 'South Dos Palos' 'Redwood Valley' 'Soledad' 'Hydesville' 'Clements'\n",
            " 'Orange Cove' 'Jolon' 'Standish' 'Borrego Springs' 'Diamond Springs'\n",
            " 'Dobbins' 'Playa Del Rey' 'Montrose' 'Campo Seco' 'Blue Lake'\n",
            " 'Pebble Beach' 'Mill Creek' 'El Monte' 'Knights Landing' 'Glennville'\n",
            " 'Hayward' 'Fowler' 'Travis Afb' 'Reseda' 'Monrovia' 'Lincoln' 'Aromas'\n",
            " 'Thermal' 'King City' 'Whitmore' 'Ukiah' 'Oceano' 'Yorba Linda' 'Alturas'\n",
            " 'Brea' 'Phillipsville' 'Carmel By The Sea' 'Sausalito' 'Coarsegold'\n",
            " 'Homewood' 'La Verne' 'Belmont' 'Forks Of Salmon' 'Nuevo' 'Willits'\n",
            " 'Keene' 'Ducor' 'Brownsville' 'Nipton' 'Junction City' 'Santa Paula'\n",
            " 'Weed' 'Tustin' 'Rowland Heights' 'Smartville' 'Porter Ranch' 'Marina'\n",
            " 'Castaic' 'Trabuco Canyon' 'Crows Landing' 'Tehama' 'Helendale'\n",
            " 'Saint Helena' 'Paynes Creek' 'Bella Vista' 'Alhambra' 'Somes Bar'\n",
            " 'San Gabriel' 'Camp Nelson' 'Downieville' 'Hanford' 'Escalon' 'Campo'\n",
            " 'Long Barn' 'Janesville' 'Hermosa Beach' 'Aguanga' 'Shingletown'\n",
            " 'Thousand Oaks' 'Bishop' 'Atwater' 'Yucaipa' 'Kneeland' 'Rancho Mirage'\n",
            " 'Forest Falls' 'Goleta' 'Bell' 'Hawaiian Gardens' 'Glencoe' 'Rialto'\n",
            " 'Daggett' 'La Palma' 'Pinon Hills' 'Davis Creek' 'Oakland' 'Bass Lake'\n",
            " 'French Camp' 'Callahan' 'Olema' 'Biola' 'Raisin City' 'Litchfield'\n",
            " 'San Quentin' 'Temple City' 'Tupman' 'Pacific Palisades' 'Yucca Valley'\n",
            " 'Boulder Creek' 'Greenfield' 'Pismo Beach' 'Arroyo Grande'\n",
            " 'Lake Elsinore' 'Port Costa' 'Lemon Cove' 'San Gregorio' 'Pico Rivera'\n",
            " 'Wildomar' 'Springville' 'Manhattan Beach' 'Avalon' 'Glendora' 'Lindsay'\n",
            " 'Manton' 'Maywood' 'Darwin' 'North San Juan' 'Daly City' 'Summerland'\n",
            " 'Fair Oaks' 'Atascadero' 'Witter Springs' 'Walnut' 'Frazier Park'\n",
            " 'Norwalk' 'Fortuna' 'Phelan' 'Port Hueneme' 'Fillmore' 'Petrolia'\n",
            " 'Gasquet' 'Cloverdale' 'Gustine' 'California Hot Springs' 'Twain Harte'\n",
            " 'Live Oak' 'Union City' 'Forestville' 'Bieber' 'Redondo Beach' 'Tuolumne'\n",
            " 'Miranda' 'Delano' 'Butte City' 'Lockeford' 'Silverado' 'Farmersville'\n",
            " 'O Neals' 'Penngrove' 'Miramonte' 'Occidental' 'La Canada Flintridge'\n",
            " 'Mount Hermon' 'Westminster' 'Hornbrook' 'Dunnigan' 'Hercules'\n",
            " 'Echo Lake' 'Friant' 'Half Moon Bay' 'West Sacramento' 'Huntington Beach'\n",
            " 'Los Osos' 'Tahoe City' 'Pioneer' 'Grand Terrace' 'Mcarthur' 'Corning'\n",
            " 'Spring Valley' 'Moreno Valley' 'Lynwood' 'San Jacinto' 'El Cerrito'\n",
            " 'Caliente' 'Edwards' 'Winnetka' 'Lakeshore' 'Thornton' 'Niland' 'Woody'\n",
            " 'Applegate' 'Weaverville' 'Le Grand' 'Calipatria' 'Montclair'\n",
            " 'Santa Ynez' 'Gardena' 'Greenbrae' 'Carlsbad' 'Smith River' 'Surfside'\n",
            " 'Burney' 'Canoga Park' 'Suisun City' 'El Segundo' 'Reedley'\n",
            " 'Santa Ysabel' 'Alderpoint' 'Delhi' 'Ahwahnee' 'Rocklin' 'Twin Bridges'\n",
            " 'Redcrest' 'Topaz' 'Winton' 'Goodyears Bar' 'Aliso Viejo' 'San Rafael'\n",
            " 'Winterhaven' 'Dixon' 'Moraga' 'Canby' 'Cambria' 'Valley Village'\n",
            " 'Stonyford' 'Seal Beach' 'Pescadero' 'Landers' 'Birds Landing' 'Antioch'\n",
            " 'San Marino' 'Pilot Hill' 'Fort Bidwell' 'Danville' 'Marshall' 'Lakeside'\n",
            " 'Sutter' 'Chino Hills' 'Desert Center' 'Big Bar' 'Sierra Madre'\n",
            " 'Pleasant Hill' 'Oak View' 'Heber' 'Potter Valley' 'Hughson'\n",
            " 'Valley Springs' 'Oakhurst' 'Essex' 'Esparto' 'Clio' 'Pacifica'\n",
            " 'Madeline' 'Orosi' 'Beaumont' 'Twentynine Palms' 'Markleeville' 'Angwin'\n",
            " 'Mariposa' 'Lebec' 'South San Francisco' 'Maxwell' 'Rosemead'\n",
            " 'Oro Grande' 'Albion' 'Plymouth' 'Sherman Oaks' 'Cardiff By The Sea'\n",
            " 'Navarro' 'Mountain Center' 'Cabazon' 'Indian Wells' 'Earlimart' 'Galt'\n",
            " 'Loma Linda' 'Leggett' 'Fort Bragg' 'San Lorenzo' 'Joshua Tree'\n",
            " 'Palo Cedro' 'Eagleville' 'Livingston' 'Fulton' 'Adelanto' 'Mt Baldy'\n",
            " 'Pleasanton' 'Orinda' 'Kings Beach' 'Vina' 'Big Pine' 'West Point'\n",
            " 'Creston' 'North Palm Springs' 'French Gulch' 'Three Rivers' 'Cayucos'\n",
            " 'Wilseyville' 'Albany' 'San Fernando' 'Gonzales' 'El Dorado Hills'\n",
            " 'Clarksburg' 'Portola Valley' 'Lathrop' 'Laguna Hills' 'Cool' 'Paskenta'\n",
            " 'San Andreas' 'Mendocino' 'Montebello' 'Lytle Creek' 'Loleta'\n",
            " 'South Gate' 'Baldwin Park' 'Coulterville' 'Northridge' 'Bodega'\n",
            " 'Ocotillo' 'Shandon' 'Rancho Santa Margarita' 'Branscomb' 'Red Bluff'\n",
            " 'Cathedral City' 'Weott' 'Olympic Valley' 'Willow Creek' 'Portola'\n",
            " 'Laguna Niguel' 'Patterson' 'Granada Hills' 'Auberry' 'Lawndale' 'Caspar'\n",
            " 'Hat Creek' 'San Simeon' 'Los Altos' 'Azusa' 'San Martin' 'Pala' 'Burson'\n",
            " 'Diamond Bar' 'Fields Landing' 'Moss Landing' 'North Hills' 'Davenport'\n",
            " 'Oxnard' 'Newcastle' 'Brentwood' 'Shasta Lake' 'Herald' 'San Bruno'\n",
            " 'Selma' 'Sugarloaf' 'Point Reyes Station' 'Parker Dam' 'Lemoore'\n",
            " 'Mill Valley' 'Bellflower' 'Mather' 'Keeler' 'Millville' 'Wrightwood'\n",
            " 'Lucerne' 'Yorkville' 'Rancho Palos Verdes' 'Crestline' 'El Nido'\n",
            " 'Kettleman City' 'Stirling City' 'El Sobrante' 'Mineral' 'Stanton'\n",
            " 'Newark' 'Lake Isabella' 'Stinson Beach' 'Arnold' 'Bridgeport'\n",
            " 'Marina Del Rey' 'Soulsbyville' 'Twain' 'Coachella' 'Annapolis' 'Duarte'\n",
            " 'Morgan Hill' 'Pinole' 'Seeley' 'San Pablo' 'Nicasio' 'Philo' 'Rosamond'\n",
            " 'Porterville' 'Nice' 'Lake Arrowhead' 'Huron' 'Littlerock' 'Healdsburg'\n",
            " 'Garden Valley' 'Carpinteria' 'Redway' 'Wilmington' 'Camptonville'\n",
            " 'Jacumba' 'North Highlands' 'Stratford' 'Vallecito' 'Wendel'\n",
            " 'Walnut Grove' 'Palm Desert' 'Los Olivos' 'Los Alamos' 'Kirkwood'\n",
            " 'Princeton' 'Avenal' 'La Honda' 'Volcano' 'San Ardo' 'Lewiston'\n",
            " 'Dos Rios' 'Solana Beach' 'Monte Rio' 'Seaside' 'Lamont' 'Casmalia'\n",
            " 'Penn Valley' 'West Hills' 'Carmichael' 'Salida' 'Valley Center'\n",
            " 'South Lake Tahoe' 'Brooks' 'Burlingame' 'Studio City' 'La Mirada'\n",
            " 'Kingsburg' 'Palos Verdes Peninsula' 'Llano' 'Riverbank']\n",
            "Offer:['Offer E' 'Offer D' 'Offer A' 'Offer B' 'Offer C']\n",
            "Phone Service:['Yes']\n",
            "Multiple Lines:['No' 'Yes']\n",
            "Internet Service:['Yes']\n",
            "Internet Type:['Fiber Optic' 'Cable' 'DSL']\n",
            "Online Security:['No' 'Yes']\n",
            "Online Backup:['No' 'Yes']\n",
            "Device Protection Plan:['Yes' 'No']\n",
            "Premium Tech Support:['No' 'Yes']\n",
            "Streaming TV:['No' 'Yes']\n",
            "Streaming Movies:['No' 'Yes']\n",
            "Streaming Music:['No' 'Yes']\n",
            "Unlimited Data:['Yes' 'No']\n",
            "Contract:['Month-to-Month' 'Two Year' 'One Year']\n",
            "Paperless Billing:['Yes' 'No']\n",
            "Payment Method:['Bank Withdrawal' 'Credit Card' 'Mailed Check']\n",
            "Customer Status:['Churned' 'Stayed' 'Joined']\n"
          ]
        }
      ],
      "source": [
        "unique_values_names(df1)"
      ]
    },
    {
      "cell_type": "markdown",
      "id": "15IbAOg0BFD7",
      "metadata": {
        "id": "15IbAOg0BFD7"
      },
      "source": [
        "# Data Visualization"
      ]
    },
    {
      "cell_type": "code",
      "execution_count": 57,
      "id": "wMAqD8ke7chz",
      "metadata": {
        "id": "wMAqD8ke7chz"
      },
      "outputs": [],
      "source": [
        "import plotly.express as px "
      ]
    },
    {
      "cell_type": "markdown",
      "id": "FWQDS8cEBUTh",
      "metadata": {
        "id": "FWQDS8cEBUTh"
      },
      "source": [
        "Visualizing Column 'Age' in the dataset"
      ]
    },
    {
      "cell_type": "code",
      "execution_count": 58,
      "id": "21698d97",
      "metadata": {
        "colab": {
          "base_uri": "https://localhost:8080/",
          "height": 542
        },
        "execution": {
          "iopub.execute_input": "2022-10-14T19:27:26.857460Z",
          "iopub.status.busy": "2022-10-14T19:27:26.857078Z",
          "iopub.status.idle": "2022-10-14T19:27:27.978228Z",
          "shell.execute_reply": "2022-10-14T19:27:27.977132Z"
        },
        "id": "21698d97",
        "outputId": "612f18d5-3759-40df-b43f-e014558c18db",
        "papermill": {
          "duration": 1.142146,
          "end_time": "2022-10-14T19:27:27.980543",
          "exception": false,
          "start_time": "2022-10-14T19:27:26.838397",
          "status": "completed"
        },
        "tags": []
      },
      "outputs": [
        {
          "data": {
            "application/vnd.plotly.v1+json": {
              "config": {
                "plotlyServerURL": "https://plot.ly"
              },
              "data": [
                {
                  "bingroup": "x",
                  "hovertemplate": "Age=%{x}<br>count=%{y}<extra></extra>",
                  "legendgroup": "",
                  "marker": {
                    "color": "#636efa",
                    "pattern": {
                      "shape": ""
                    }
                  },
                  "name": "",
                  "orientation": "v",
                  "showlegend": false,
                  "type": "histogram",
                  "x": {
                    "bdata": "Mk4XQzREIDpIHhclPDwUJjZOHhQ3RzE9Pio3ORkrMDg4Gh4/NBYaOkJJLig1LT4ZRUAsOh0WNUw5LTEoJiMdGS4VPjA3TUVGNhYcOjc4PxgVHypATBk6FUsjQDosKyIiFU4vQE8nID5GLz86Sjo9HD0pGUYkQkI7GiszIEwTFT8pKSgjPDYcMiEeKCccRS0gIiM4UE4UPSFKGD0qKTgtHE84IDQ2KSMwNSxAJx8rHTgxIRsYK0EwTCE4HT81Ih4vPiAVNzkdKx1KHSUjN0YXSigsNhgWQxwoFyYuHiAoO0c2SUIvPydPMyUZJDgwPyMuIS8TKkNDJCckKSAwNSQjNztCPRYqITwsIzcVNkYYNjg2MRtNM0QaKUZALigeOEJQRjRFORs+Hkk6MDEhOxYWFzgsLhlQPkElH0EbFh1NLUQ+LD4zMCofJz0jTic3J0stPxkVORUkFx8iOjUVGSdARh8aJE9MNScqTB1NLShHMkA5IBwbNiwrNSweLBhBFk8vHiogKCceUBNGSR8cUBYWOz8fHxsjIxcyRjs6HEctFE0jGhVHFycXKi8fPjlBFUlDMz4sTi0gFzEvGDAzM0cyIE0xTiofITw4MTksQiU/MTNGFRsqFBlFHRZEHxY8Jkc6PiMpJhYVHTgUOiIWGCEVGy4qLCY/RRcnMxk+N0YuJjw0FjEcKzYtKEw9KUoZKEIrHSA+LU8gIU9EQx4TSBQkSkIoRRQuPB4aGjcmLkYzGR43MDkUIDYYGTdERBYtMUZBOkcrTzohSUxJHCBPLyIwRBxBSTQaLR1PKigWIClKNjw8NEsxPB4dQxpAJS4WHk0nGxU+QzIxKUBFQD0aLiQYHSVAQCwWHTs4LTgcIkohOUAmLiA6GzopTEUZSTY6LBkgFUA5HjMjJDQlHSgmLzchHCIgSTwzKiIVIEsgOyhHPSM5LRQ5GhcvL0AcQigrTRtNHEo6RTxIJi5PFyIYHUA6RkU9FzpGJkEYRik3Kio9LDUtSkwoHEkoKFBHOU4tThQ5LzA8OSQnOy48JBMsICk3K0o5PRoVNEQqJjIoOx48FyVOExtJKUQZNDo8GjA4LzkuRzMiOz9GTDE+JRROMjlPGT8UFxdJJk1FNRVKNzsjFxwcKhgVODYgKTgXIxs0FRswMyE3Mi0ySzEZSioeNzE+GSE7IRQ2IzEhPBsZKjUiShUqMyNGOE02NxcfIDc/IUdMIx5EPjcgHRlQSEJQKTdHKSo6Qk1QLBgzJDcoPzYZOCpOKy4bPT9EEx4kJRsXHUk9QCVANCZEJTFDOUg3ORYkUCYXHjUyKUE0FRkqSx9JFx4VIDMVLBowIxo0HkseJT4pPzwXTjNKITsjFBcUPDgiQCBIJDY5LRcxPDpJUCcVRRcxOxwXKBQgE0gqIURAGEtAGzM2SDMuFR1LQDItHlA7I0FQHk0hGTEfFilQLhksUDFANRcdTzYoUBpEKSgbHhcvRicjRDIjIyoyNzYnIE0xSRYWRig1PkkWPkslLBYzNCNBGyElF0AyJiU4MR4gNEgnFTI1OCkvFkQzLyEbJB9QMBNKTkUjFEo5HxROKxwZLyFPSSxBKxYrPDMrFCoaGCMaM0g2JxUkNDVBRTA9QD9KFjEiSx84NRMiIjkaIzZOUEYkND9DFSk+MDAsGTMzHEdMIi1CSBMeExUpHR84RBwiTy4dQBYZFzo5N04jITApTi89KTkoShQtJzgYFUgzNyI2PjZDGzclGS89KBQgMzYeNRMTNUhLQykbIBUkOzpIFE4tGyguJzdERiBJTEQvIS81LDgbLSkqNSUkFSEURUcuKi0xEzkTN08aKyJHNi5AHi41HTIoRSoTKRs6Jk0WRCE+FCEVIRQqOjgqMSUcEz4aMjcwMBcwLDInFCExHic/NjMVRy8yND1IPUMTFj0vH0QdJjI7RDseQj0TQk8TLj4/Rz82FBMXMzgyQB0aNiovPSgrKjkuTTUiRi4fPyZPMD5PG0owGRQeIkAfFCJKL0YcLy8mSCUtQjcbQhU4OTdGRTUvSCAcThonHj40UBlLTh47GlAfSzIpL0cnQjAtHS84Ih0hI04qLTc+HzgaKTcXIjwfRRYaGB8sOxw7IjUmOz4cNkFFS0kgNjAqN0IzPEtMGRM5TxM1NC88HipLHxQeIjwgLx05JhMuLUkZKjA0K1AjMT8aPiEeNRlBFU4XMSYzJUxMITg/SjkdREoqFB8eLUcnRTQlPjAxGx4bNjQsJkw7Sxc9QxQ9ExMbKjI/KVAyFzgVJEkxIiExO0AUHx5LPS87FTwpNjs9SC85L0AxJSI0Fis2RBkpJhsgTy48RyEZIiYTIiEXFj8vIzogMy0sLRccIkETPRo+FBM+Tzg4SUE1TTJISCA8HTJDFkhMSSMsUEQnRzsUFShLJy45PUo9FE0ZKzFCGh4bOFA+KyctGzxLHiwkLDpJMzUuLR45RichN0kYNydMIjkZLjNESBoWLTFAKBMxKTAsTDg+GCkgPSQePi9FKhUkMz4pIhgxJTNAPBgvKC42KU1QKDMgTyMnNEEUKzseLxkmNiEqIyIaTigsGD9FFS0UIj5QFSxNQSQXQSwZPjVBJxgVHDY4NzUhG04vJygWGxUoKjgpFjE9LSMUGSVLPxc6Ty4/GU5GPz8qRDtEIxk1JzAYFBdAPSc6IzwkFS4bExpFSzMmKTI+Iy1BJioqOR4XRBkUFzImFzozLyEaODQuHUo3NiI5PjIcJiU7SjxHMzElNRNGTSYqGTQ+FSsaJyghFhg+MxkcRSwjI04pTEk0PzUeMTwgGSAfOTlAKCY0HTU9JiEwSDI0IRsxMDkaMBcqS0MjKhQXOz8zTRwzLzwzNiU7Ozw+Ji0pTzs0MkEyKzA9Pzo1NEk6OyYzQR83GyUqQjwgST8cPCY3IS01NzomOjVLN0EaHxQ1FCgWFQ==",
                    "dtype": "i1"
                  },
                  "xaxis": "x",
                  "yaxis": "y"
                }
              ],
              "layout": {
                "barmode": "relative",
                "legend": {
                  "tracegroupgap": 0
                },
                "margin": {
                  "t": 60
                },
                "template": {
                  "data": {
                    "bar": [
                      {
                        "error_x": {
                          "color": "#2a3f5f"
                        },
                        "error_y": {
                          "color": "#2a3f5f"
                        },
                        "marker": {
                          "line": {
                            "color": "#E5ECF6",
                            "width": 0.5
                          },
                          "pattern": {
                            "fillmode": "overlay",
                            "size": 10,
                            "solidity": 0.2
                          }
                        },
                        "type": "bar"
                      }
                    ],
                    "barpolar": [
                      {
                        "marker": {
                          "line": {
                            "color": "#E5ECF6",
                            "width": 0.5
                          },
                          "pattern": {
                            "fillmode": "overlay",
                            "size": 10,
                            "solidity": 0.2
                          }
                        },
                        "type": "barpolar"
                      }
                    ],
                    "carpet": [
                      {
                        "aaxis": {
                          "endlinecolor": "#2a3f5f",
                          "gridcolor": "white",
                          "linecolor": "white",
                          "minorgridcolor": "white",
                          "startlinecolor": "#2a3f5f"
                        },
                        "baxis": {
                          "endlinecolor": "#2a3f5f",
                          "gridcolor": "white",
                          "linecolor": "white",
                          "minorgridcolor": "white",
                          "startlinecolor": "#2a3f5f"
                        },
                        "type": "carpet"
                      }
                    ],
                    "choropleth": [
                      {
                        "colorbar": {
                          "outlinewidth": 0,
                          "ticks": ""
                        },
                        "type": "choropleth"
                      }
                    ],
                    "contour": [
                      {
                        "colorbar": {
                          "outlinewidth": 0,
                          "ticks": ""
                        },
                        "colorscale": [
                          [
                            0,
                            "#0d0887"
                          ],
                          [
                            0.1111111111111111,
                            "#46039f"
                          ],
                          [
                            0.2222222222222222,
                            "#7201a8"
                          ],
                          [
                            0.3333333333333333,
                            "#9c179e"
                          ],
                          [
                            0.4444444444444444,
                            "#bd3786"
                          ],
                          [
                            0.5555555555555556,
                            "#d8576b"
                          ],
                          [
                            0.6666666666666666,
                            "#ed7953"
                          ],
                          [
                            0.7777777777777778,
                            "#fb9f3a"
                          ],
                          [
                            0.8888888888888888,
                            "#fdca26"
                          ],
                          [
                            1,
                            "#f0f921"
                          ]
                        ],
                        "type": "contour"
                      }
                    ],
                    "contourcarpet": [
                      {
                        "colorbar": {
                          "outlinewidth": 0,
                          "ticks": ""
                        },
                        "type": "contourcarpet"
                      }
                    ],
                    "heatmap": [
                      {
                        "colorbar": {
                          "outlinewidth": 0,
                          "ticks": ""
                        },
                        "colorscale": [
                          [
                            0,
                            "#0d0887"
                          ],
                          [
                            0.1111111111111111,
                            "#46039f"
                          ],
                          [
                            0.2222222222222222,
                            "#7201a8"
                          ],
                          [
                            0.3333333333333333,
                            "#9c179e"
                          ],
                          [
                            0.4444444444444444,
                            "#bd3786"
                          ],
                          [
                            0.5555555555555556,
                            "#d8576b"
                          ],
                          [
                            0.6666666666666666,
                            "#ed7953"
                          ],
                          [
                            0.7777777777777778,
                            "#fb9f3a"
                          ],
                          [
                            0.8888888888888888,
                            "#fdca26"
                          ],
                          [
                            1,
                            "#f0f921"
                          ]
                        ],
                        "type": "heatmap"
                      }
                    ],
                    "histogram": [
                      {
                        "marker": {
                          "pattern": {
                            "fillmode": "overlay",
                            "size": 10,
                            "solidity": 0.2
                          }
                        },
                        "type": "histogram"
                      }
                    ],
                    "histogram2d": [
                      {
                        "colorbar": {
                          "outlinewidth": 0,
                          "ticks": ""
                        },
                        "colorscale": [
                          [
                            0,
                            "#0d0887"
                          ],
                          [
                            0.1111111111111111,
                            "#46039f"
                          ],
                          [
                            0.2222222222222222,
                            "#7201a8"
                          ],
                          [
                            0.3333333333333333,
                            "#9c179e"
                          ],
                          [
                            0.4444444444444444,
                            "#bd3786"
                          ],
                          [
                            0.5555555555555556,
                            "#d8576b"
                          ],
                          [
                            0.6666666666666666,
                            "#ed7953"
                          ],
                          [
                            0.7777777777777778,
                            "#fb9f3a"
                          ],
                          [
                            0.8888888888888888,
                            "#fdca26"
                          ],
                          [
                            1,
                            "#f0f921"
                          ]
                        ],
                        "type": "histogram2d"
                      }
                    ],
                    "histogram2dcontour": [
                      {
                        "colorbar": {
                          "outlinewidth": 0,
                          "ticks": ""
                        },
                        "colorscale": [
                          [
                            0,
                            "#0d0887"
                          ],
                          [
                            0.1111111111111111,
                            "#46039f"
                          ],
                          [
                            0.2222222222222222,
                            "#7201a8"
                          ],
                          [
                            0.3333333333333333,
                            "#9c179e"
                          ],
                          [
                            0.4444444444444444,
                            "#bd3786"
                          ],
                          [
                            0.5555555555555556,
                            "#d8576b"
                          ],
                          [
                            0.6666666666666666,
                            "#ed7953"
                          ],
                          [
                            0.7777777777777778,
                            "#fb9f3a"
                          ],
                          [
                            0.8888888888888888,
                            "#fdca26"
                          ],
                          [
                            1,
                            "#f0f921"
                          ]
                        ],
                        "type": "histogram2dcontour"
                      }
                    ],
                    "mesh3d": [
                      {
                        "colorbar": {
                          "outlinewidth": 0,
                          "ticks": ""
                        },
                        "type": "mesh3d"
                      }
                    ],
                    "parcoords": [
                      {
                        "line": {
                          "colorbar": {
                            "outlinewidth": 0,
                            "ticks": ""
                          }
                        },
                        "type": "parcoords"
                      }
                    ],
                    "pie": [
                      {
                        "automargin": true,
                        "type": "pie"
                      }
                    ],
                    "scatter": [
                      {
                        "fillpattern": {
                          "fillmode": "overlay",
                          "size": 10,
                          "solidity": 0.2
                        },
                        "type": "scatter"
                      }
                    ],
                    "scatter3d": [
                      {
                        "line": {
                          "colorbar": {
                            "outlinewidth": 0,
                            "ticks": ""
                          }
                        },
                        "marker": {
                          "colorbar": {
                            "outlinewidth": 0,
                            "ticks": ""
                          }
                        },
                        "type": "scatter3d"
                      }
                    ],
                    "scattercarpet": [
                      {
                        "marker": {
                          "colorbar": {
                            "outlinewidth": 0,
                            "ticks": ""
                          }
                        },
                        "type": "scattercarpet"
                      }
                    ],
                    "scattergeo": [
                      {
                        "marker": {
                          "colorbar": {
                            "outlinewidth": 0,
                            "ticks": ""
                          }
                        },
                        "type": "scattergeo"
                      }
                    ],
                    "scattergl": [
                      {
                        "marker": {
                          "colorbar": {
                            "outlinewidth": 0,
                            "ticks": ""
                          }
                        },
                        "type": "scattergl"
                      }
                    ],
                    "scattermap": [
                      {
                        "marker": {
                          "colorbar": {
                            "outlinewidth": 0,
                            "ticks": ""
                          }
                        },
                        "type": "scattermap"
                      }
                    ],
                    "scattermapbox": [
                      {
                        "marker": {
                          "colorbar": {
                            "outlinewidth": 0,
                            "ticks": ""
                          }
                        },
                        "type": "scattermapbox"
                      }
                    ],
                    "scatterpolar": [
                      {
                        "marker": {
                          "colorbar": {
                            "outlinewidth": 0,
                            "ticks": ""
                          }
                        },
                        "type": "scatterpolar"
                      }
                    ],
                    "scatterpolargl": [
                      {
                        "marker": {
                          "colorbar": {
                            "outlinewidth": 0,
                            "ticks": ""
                          }
                        },
                        "type": "scatterpolargl"
                      }
                    ],
                    "scatterternary": [
                      {
                        "marker": {
                          "colorbar": {
                            "outlinewidth": 0,
                            "ticks": ""
                          }
                        },
                        "type": "scatterternary"
                      }
                    ],
                    "surface": [
                      {
                        "colorbar": {
                          "outlinewidth": 0,
                          "ticks": ""
                        },
                        "colorscale": [
                          [
                            0,
                            "#0d0887"
                          ],
                          [
                            0.1111111111111111,
                            "#46039f"
                          ],
                          [
                            0.2222222222222222,
                            "#7201a8"
                          ],
                          [
                            0.3333333333333333,
                            "#9c179e"
                          ],
                          [
                            0.4444444444444444,
                            "#bd3786"
                          ],
                          [
                            0.5555555555555556,
                            "#d8576b"
                          ],
                          [
                            0.6666666666666666,
                            "#ed7953"
                          ],
                          [
                            0.7777777777777778,
                            "#fb9f3a"
                          ],
                          [
                            0.8888888888888888,
                            "#fdca26"
                          ],
                          [
                            1,
                            "#f0f921"
                          ]
                        ],
                        "type": "surface"
                      }
                    ],
                    "table": [
                      {
                        "cells": {
                          "fill": {
                            "color": "#EBF0F8"
                          },
                          "line": {
                            "color": "white"
                          }
                        },
                        "header": {
                          "fill": {
                            "color": "#C8D4E3"
                          },
                          "line": {
                            "color": "white"
                          }
                        },
                        "type": "table"
                      }
                    ]
                  },
                  "layout": {
                    "annotationdefaults": {
                      "arrowcolor": "#2a3f5f",
                      "arrowhead": 0,
                      "arrowwidth": 1
                    },
                    "autotypenumbers": "strict",
                    "coloraxis": {
                      "colorbar": {
                        "outlinewidth": 0,
                        "ticks": ""
                      }
                    },
                    "colorscale": {
                      "diverging": [
                        [
                          0,
                          "#8e0152"
                        ],
                        [
                          0.1,
                          "#c51b7d"
                        ],
                        [
                          0.2,
                          "#de77ae"
                        ],
                        [
                          0.3,
                          "#f1b6da"
                        ],
                        [
                          0.4,
                          "#fde0ef"
                        ],
                        [
                          0.5,
                          "#f7f7f7"
                        ],
                        [
                          0.6,
                          "#e6f5d0"
                        ],
                        [
                          0.7,
                          "#b8e186"
                        ],
                        [
                          0.8,
                          "#7fbc41"
                        ],
                        [
                          0.9,
                          "#4d9221"
                        ],
                        [
                          1,
                          "#276419"
                        ]
                      ],
                      "sequential": [
                        [
                          0,
                          "#0d0887"
                        ],
                        [
                          0.1111111111111111,
                          "#46039f"
                        ],
                        [
                          0.2222222222222222,
                          "#7201a8"
                        ],
                        [
                          0.3333333333333333,
                          "#9c179e"
                        ],
                        [
                          0.4444444444444444,
                          "#bd3786"
                        ],
                        [
                          0.5555555555555556,
                          "#d8576b"
                        ],
                        [
                          0.6666666666666666,
                          "#ed7953"
                        ],
                        [
                          0.7777777777777778,
                          "#fb9f3a"
                        ],
                        [
                          0.8888888888888888,
                          "#fdca26"
                        ],
                        [
                          1,
                          "#f0f921"
                        ]
                      ],
                      "sequentialminus": [
                        [
                          0,
                          "#0d0887"
                        ],
                        [
                          0.1111111111111111,
                          "#46039f"
                        ],
                        [
                          0.2222222222222222,
                          "#7201a8"
                        ],
                        [
                          0.3333333333333333,
                          "#9c179e"
                        ],
                        [
                          0.4444444444444444,
                          "#bd3786"
                        ],
                        [
                          0.5555555555555556,
                          "#d8576b"
                        ],
                        [
                          0.6666666666666666,
                          "#ed7953"
                        ],
                        [
                          0.7777777777777778,
                          "#fb9f3a"
                        ],
                        [
                          0.8888888888888888,
                          "#fdca26"
                        ],
                        [
                          1,
                          "#f0f921"
                        ]
                      ]
                    },
                    "colorway": [
                      "#636efa",
                      "#EF553B",
                      "#00cc96",
                      "#ab63fa",
                      "#FFA15A",
                      "#19d3f3",
                      "#FF6692",
                      "#B6E880",
                      "#FF97FF",
                      "#FECB52"
                    ],
                    "font": {
                      "color": "#2a3f5f"
                    },
                    "geo": {
                      "bgcolor": "white",
                      "lakecolor": "white",
                      "landcolor": "#E5ECF6",
                      "showlakes": true,
                      "showland": true,
                      "subunitcolor": "white"
                    },
                    "hoverlabel": {
                      "align": "left"
                    },
                    "hovermode": "closest",
                    "mapbox": {
                      "style": "light"
                    },
                    "paper_bgcolor": "white",
                    "plot_bgcolor": "#E5ECF6",
                    "polar": {
                      "angularaxis": {
                        "gridcolor": "white",
                        "linecolor": "white",
                        "ticks": ""
                      },
                      "bgcolor": "#E5ECF6",
                      "radialaxis": {
                        "gridcolor": "white",
                        "linecolor": "white",
                        "ticks": ""
                      }
                    },
                    "scene": {
                      "xaxis": {
                        "backgroundcolor": "#E5ECF6",
                        "gridcolor": "white",
                        "gridwidth": 2,
                        "linecolor": "white",
                        "showbackground": true,
                        "ticks": "",
                        "zerolinecolor": "white"
                      },
                      "yaxis": {
                        "backgroundcolor": "#E5ECF6",
                        "gridcolor": "white",
                        "gridwidth": 2,
                        "linecolor": "white",
                        "showbackground": true,
                        "ticks": "",
                        "zerolinecolor": "white"
                      },
                      "zaxis": {
                        "backgroundcolor": "#E5ECF6",
                        "gridcolor": "white",
                        "gridwidth": 2,
                        "linecolor": "white",
                        "showbackground": true,
                        "ticks": "",
                        "zerolinecolor": "white"
                      }
                    },
                    "shapedefaults": {
                      "line": {
                        "color": "#2a3f5f"
                      }
                    },
                    "ternary": {
                      "aaxis": {
                        "gridcolor": "white",
                        "linecolor": "white",
                        "ticks": ""
                      },
                      "baxis": {
                        "gridcolor": "white",
                        "linecolor": "white",
                        "ticks": ""
                      },
                      "bgcolor": "#E5ECF6",
                      "caxis": {
                        "gridcolor": "white",
                        "linecolor": "white",
                        "ticks": ""
                      }
                    },
                    "title": {
                      "x": 0.05
                    },
                    "xaxis": {
                      "automargin": true,
                      "gridcolor": "white",
                      "linecolor": "white",
                      "ticks": "",
                      "title": {
                        "standoff": 15
                      },
                      "zerolinecolor": "white",
                      "zerolinewidth": 2
                    },
                    "yaxis": {
                      "automargin": true,
                      "gridcolor": "white",
                      "linecolor": "white",
                      "ticks": "",
                      "title": {
                        "standoff": 15
                      },
                      "zerolinecolor": "white",
                      "zerolinewidth": 2
                    }
                  }
                },
                "xaxis": {
                  "anchor": "y",
                  "domain": [
                    0,
                    1
                  ],
                  "title": {
                    "text": "Age"
                  }
                },
                "yaxis": {
                  "anchor": "x",
                  "domain": [
                    0,
                    1
                  ],
                  "title": {
                    "text": "count"
                  }
                }
              }
            }
          },
          "metadata": {},
          "output_type": "display_data"
        }
      ],
      "source": [
        "fig = px.histogram(df1, x = 'Age')\n",
        "fig.show()"
      ]
    },
    {
      "cell_type": "markdown",
      "id": "5dIYCZhKB2BH",
      "metadata": {
        "id": "5dIYCZhKB2BH"
      },
      "source": [
        "Checking the stats in number_columns of the copied dataset"
      ]
    },
    {
      "cell_type": "code",
      "execution_count": 59,
      "id": "744bbc80",
      "metadata": {
        "colab": {
          "base_uri": "https://localhost:8080/",
          "height": 1000
        },
        "execution": {
          "iopub.execute_input": "2022-10-14T19:27:28.018258Z",
          "iopub.status.busy": "2022-10-14T19:27:28.017819Z",
          "iopub.status.idle": "2022-10-14T19:27:29.675280Z",
          "shell.execute_reply": "2022-10-14T19:27:29.674157Z"
        },
        "id": "744bbc80",
        "outputId": "f7447616-a5f3-4a28-f2bb-9530172fbb55",
        "papermill": {
          "duration": 1.678875,
          "end_time": "2022-10-14T19:27:29.677629",
          "exception": false,
          "start_time": "2022-10-14T19:27:27.998754",
          "status": "completed"
        },
        "tags": []
      },
      "outputs": [
        {
          "data": {
            "text/plain": [
              "array([[<Axes: title={'center': 'Age'}>,\n",
              "        <Axes: title={'center': 'Number of Dependents'}>,\n",
              "        <Axes: title={'center': 'Number of Referrals'}>],\n",
              "       [<Axes: title={'center': 'Tenure in Months'}>,\n",
              "        <Axes: title={'center': 'Avg Monthly Long Distance Charges'}>,\n",
              "        <Axes: title={'center': 'Avg Monthly GB Download'}>],\n",
              "       [<Axes: title={'center': 'Monthly Charge'}>,\n",
              "        <Axes: title={'center': 'Total Charges'}>,\n",
              "        <Axes: title={'center': 'Total Extra Data Charges'}>],\n",
              "       [<Axes: title={'center': 'Total Long Distance Charges'}>,\n",
              "        <Axes: title={'center': 'Total Revenue'}>, <Axes: >]],\n",
              "      dtype=object)"
            ]
          },
          "execution_count": 59,
          "metadata": {},
          "output_type": "execute_result"
        },
        {
          "data": {
            "image/png": "[encoded data removed]",
            "text/plain": [
              "<Figure size 1500x1500 with 12 Axes>"
            ]
          },
          "metadata": {},
          "output_type": "display_data"
        }
      ],
      "source": [
        "df1.hist(figsize=(15,15), xrot=30)"
      ]
    },
    {
      "cell_type": "code",
      "execution_count": 60,
      "id": "f546a1f3",
      "metadata": {
        "colab": {
          "base_uri": "https://localhost:8080/"
        },
        "execution": {
          "iopub.execute_input": "2022-10-14T19:27:29.717100Z",
          "iopub.status.busy": "2022-10-14T19:27:29.716405Z",
          "iopub.status.idle": "2022-10-14T19:27:29.724510Z",
          "shell.execute_reply": "2022-10-14T19:27:29.723500Z"
        },
        "id": "f546a1f3",
        "outputId": "019e304e-8421-48b7-a5df-d1df604d4eed",
        "papermill": {
          "duration": 0.030171,
          "end_time": "2022-10-14T19:27:29.726628",
          "exception": false,
          "start_time": "2022-10-14T19:27:29.696457",
          "status": "completed"
        },
        "tags": []
      },
      "outputs": [
        {
          "data": {
            "text/plain": [
              "2       50\n",
              "3       78\n",
              "5       23\n",
              "6       67\n",
              "7       52\n",
              "        ..\n",
              "7036    53\n",
              "7038    20\n",
              "7039    40\n",
              "7040    22\n",
              "7041    21\n",
              "Name: Age, Length: 2194, dtype: int64"
            ]
          },
          "execution_count": 60,
          "metadata": {},
          "output_type": "execute_result"
        }
      ],
      "source": [
        "df1['Age']\n"
      ]
    },
    {
      "cell_type": "code",
      "execution_count": 61,
      "id": "A-PiGYpN7k1D",
      "metadata": {
        "id": "A-PiGYpN7k1D"
      },
      "outputs": [],
      "source": [
        "import matplotlib.pyplot as plt"
      ]
    },
    {
      "cell_type": "markdown",
      "id": "xwtmOiSUCIm6",
      "metadata": {
        "id": "xwtmOiSUCIm6"
      },
      "source": [
        "Visualizing the number of customers who churned, stayed or joined in the company with a bar plot"
      ]
    },
    {
      "cell_type": "code",
      "execution_count": 62,
      "id": "f6289262",
      "metadata": {
        "colab": {
          "base_uri": "https://localhost:8080/",
          "height": 312
        },
        "execution": {
          "iopub.execute_input": "2022-10-14T19:27:29.766263Z",
          "iopub.status.busy": "2022-10-14T19:27:29.765823Z",
          "iopub.status.idle": "2022-10-14T19:27:30.108572Z",
          "shell.execute_reply": "2022-10-14T19:27:30.107364Z"
        },
        "id": "f6289262",
        "outputId": "89a0fd1e-61b0-4f28-d295-3fa8cd67ce3c",
        "papermill": {
          "duration": 0.365164,
          "end_time": "2022-10-14T19:27:30.110958",
          "exception": false,
          "start_time": "2022-10-14T19:27:29.745794",
          "status": "completed"
        },
        "tags": []
      },
      "outputs": [
        {
          "data": {
            "text/plain": [
              "<matplotlib.legend.Legend at 0x1ae1f115430>"
            ]
          },
          "execution_count": 62,
          "metadata": {},
          "output_type": "execute_result"
        },
        {
          "data": {
            "image/png": "[encoded data removed]",
            "text/plain": [
              "<Figure size 640x480 with 1 Axes>"
            ]
          },
          "metadata": {},
          "output_type": "display_data"
        }
      ],
      "source": [
        "Customer_Stayed=df1[df1['Customer Status']=='Stayed'].Age\n",
        "Customer_Churned=df1[df1['Customer Status']=='Churned'].Age\n",
        "Customer_Joined=df1[df1['Customer Status']=='Joined'].Age\n",
        "\n",
        "plt.xlabel('Age')\n",
        "plt.ylabel('Customers Numbers')\n",
        "plt.hist([Customer_Stayed,Customer_Churned,Customer_Joined], color=['black','red','blue'],label=['Stayed','Churned','Joined'])\n",
        "\n",
        "plt.title('Customers Behavior ',fontweight =\"bold\")\n",
        "plt.legend()"
      ]
    },
    {
      "cell_type": "code",
      "execution_count": 63,
      "id": "RMY8i4go7p8S",
      "metadata": {
        "id": "RMY8i4go7p8S"
      },
      "outputs": [],
      "source": [
        "import seaborn as sns"
      ]
    },
    {
      "cell_type": "markdown",
      "id": "rdsJgJcXCO1f",
      "metadata": {
        "id": "rdsJgJcXCO1f"
      },
      "source": [
        " ## Defining Correlation between the columns in the dataset"
      ]
    },
    {
      "cell_type": "code",
      "execution_count": 64,
      "id": "18228f30",
      "metadata": {
        "colab": {
          "base_uri": "https://localhost:8080/",
          "height": 783
        },
        "execution": {
          "iopub.execute_input": "2022-10-14T19:27:30.152363Z",
          "iopub.status.busy": "2022-10-14T19:27:30.151710Z",
          "iopub.status.idle": "2022-10-14T19:27:31.219518Z",
          "shell.execute_reply": "2022-10-14T19:27:31.218365Z"
        },
        "id": "18228f30",
        "outputId": "d413d52b-32ca-4ebf-a200-690baaf40416",
        "papermill": {
          "duration": 1.091517,
          "end_time": "2022-10-14T19:27:31.222453",
          "exception": false,
          "start_time": "2022-10-14T19:27:30.130936",
          "status": "completed"
        },
        "tags": []
      },
      "outputs": [
        {
          "data": {
            "text/plain": [
              "<Axes: >"
            ]
          },
          "execution_count": 64,
          "metadata": {},
          "output_type": "execute_result"
        },
        {
          "data": {
            "image/png": "[encoded data removed]",
            "text/plain": [
              "<Figure size 2000x1000 with 2 Axes>"
            ]
          },
          "metadata": {},
          "output_type": "display_data"
        }
      ],
      "source": [
        "data = df1.corr(numeric_only=True)\n",
        "plt.figure(figsize=(20, 10))\n",
        "sns.heatmap(data, annot=True)"
      ]
    },
    {
      "cell_type": "markdown",
      "id": "LuiN6TesCzzD",
      "metadata": {
        "id": "LuiN6TesCzzD"
      },
      "source": [
        "Analyzing Outlier in the dataset with respect to customer status"
      ]
    },
    {
      "cell_type": "code",
      "execution_count": 65,
      "id": "624a095f",
      "metadata": {
        "colab": {
          "base_uri": "https://localhost:8080/",
          "height": 877
        },
        "execution": {
          "iopub.execute_input": "2022-10-14T19:27:31.265880Z",
          "iopub.status.busy": "2022-10-14T19:27:31.265467Z",
          "iopub.status.idle": "2022-10-14T19:27:33.214810Z",
          "shell.execute_reply": "2022-10-14T19:27:33.213685Z"
        },
        "id": "624a095f",
        "outputId": "c3ce0159-91e7-49d4-b9fc-746f8f9f7007",
        "papermill": {
          "duration": 1.973651,
          "end_time": "2022-10-14T19:27:33.217310",
          "exception": false,
          "start_time": "2022-10-14T19:27:31.243659",
          "status": "completed"
        },
        "tags": []
      },
      "outputs": [
        {
          "data": {
            "image/png": "[encoded data removed]",
            "text/plain": [
              "<Figure size 1500x1500 with 12 Axes>"
            ]
          },
          "metadata": {},
          "output_type": "display_data"
        }
      ],
      "source": [
        "fig, ax = plt.subplots(4,3, figsize = (15,15))\n",
        "for i, subplot in zip(number_columns, ax.flatten()):\n",
        "    sns.boxplot(x = 'Customer Status', y = i , data = df1, ax = subplot)"
      ]
    },
    {
      "cell_type": "code",
      "execution_count": 66,
      "id": "f10db61a",
      "metadata": {
        "colab": {
          "base_uri": "https://localhost:8080/",
          "height": 542
        },
        "execution": {
          "iopub.execute_input": "2022-10-14T19:27:33.265008Z",
          "iopub.status.busy": "2022-10-14T19:27:33.264273Z",
          "iopub.status.idle": "2022-10-14T19:27:33.344763Z",
          "shell.execute_reply": "2022-10-14T19:27:33.343896Z"
        },
        "id": "f10db61a",
        "outputId": "1cb2f49d-a6a8-4cb6-9029-edea01fb5005",
        "papermill": {
          "duration": 0.107149,
          "end_time": "2022-10-14T19:27:33.346967",
          "exception": false,
          "start_time": "2022-10-14T19:27:33.239818",
          "status": "completed"
        },
        "tags": []
      },
      "outputs": [
        {
          "data": {
            "application/vnd.plotly.v1+json": {
              "config": {
                "plotlyServerURL": "https://plot.ly"
              },
              "data": [
                {
                  "coloraxis": "coloraxis",
                  "hovertemplate": "Age=%{x}<br>Total Charges=%{y}<br>count=%{z}<extra></extra>",
                  "name": "",
                  "type": "histogram2d",
                  "x": {
                    "bdata": "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",
                    "dtype": "i1"
                  },
                  "xaxis": "x",
                  "xbingroup": "x",
                  "y": {
                    "bdata": "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",
                    "dtype": "f8"
                  },
                  "yaxis": "y",
                  "ybingroup": "y"
                }
              ],
              "layout": {
                "coloraxis": {
                  "colorbar": {
                    "title": {
                      "text": "count"
                    }
                  },
                  "colorscale": [
                    [
                      0,
                      "#0d0887"
                    ],
                    [
                      0.1111111111111111,
                      "#46039f"
                    ],
                    [
                      0.2222222222222222,
                      "#7201a8"
                    ],
                    [
                      0.3333333333333333,
                      "#9c179e"
                    ],
                    [
                      0.4444444444444444,
                      "#bd3786"
                    ],
                    [
                      0.5555555555555556,
                      "#d8576b"
                    ],
                    [
                      0.6666666666666666,
                      "#ed7953"
                    ],
                    [
                      0.7777777777777778,
                      "#fb9f3a"
                    ],
                    [
                      0.8888888888888888,
                      "#fdca26"
                    ],
                    [
                      1,
                      "#f0f921"
                    ]
                  ]
                },
                "legend": {
                  "tracegroupgap": 0
                },
                "margin": {
                  "t": 60
                },
                "template": {
                  "data": {
                    "bar": [
                      {
                        "error_x": {
                          "color": "#2a3f5f"
                        },
                        "error_y": {
                          "color": "#2a3f5f"
                        },
                        "marker": {
                          "line": {
                            "color": "#E5ECF6",
                            "width": 0.5
                          },
                          "pattern": {
                            "fillmode": "overlay",
                            "size": 10,
                            "solidity": 0.2
                          }
                        },
                        "type": "bar"
                      }
                    ],
                    "barpolar": [
                      {
                        "marker": {
                          "line": {
                            "color": "#E5ECF6",
                            "width": 0.5
                          },
                          "pattern": {
                            "fillmode": "overlay",
                            "size": 10,
                            "solidity": 0.2
                          }
                        },
                        "type": "barpolar"
                      }
                    ],
                    "carpet": [
                      {
                        "aaxis": {
                          "endlinecolor": "#2a3f5f",
                          "gridcolor": "white",
                          "linecolor": "white",
                          "minorgridcolor": "white",
                          "startlinecolor": "#2a3f5f"
                        },
                        "baxis": {
                          "endlinecolor": "#2a3f5f",
                          "gridcolor": "white",
                          "linecolor": "white",
                          "minorgridcolor": "white",
                          "startlinecolor": "#2a3f5f"
                        },
                        "type": "carpet"
                      }
                    ],
                    "choropleth": [
                      {
                        "colorbar": {
                          "outlinewidth": 0,
                          "ticks": ""
                        },
                        "type": "choropleth"
                      }
                    ],
                    "contour": [
                      {
                        "colorbar": {
                          "outlinewidth": 0,
                          "ticks": ""
                        },
                        "colorscale": [
                          [
                            0,
                            "#0d0887"
                          ],
                          [
                            0.1111111111111111,
                            "#46039f"
                          ],
                          [
                            0.2222222222222222,
                            "#7201a8"
                          ],
                          [
                            0.3333333333333333,
                            "#9c179e"
                          ],
                          [
                            0.4444444444444444,
                            "#bd3786"
                          ],
                          [
                            0.5555555555555556,
                            "#d8576b"
                          ],
                          [
                            0.6666666666666666,
                            "#ed7953"
                          ],
                          [
                            0.7777777777777778,
                            "#fb9f3a"
                          ],
                          [
                            0.8888888888888888,
                            "#fdca26"
                          ],
                          [
                            1,
                            "#f0f921"
                          ]
                        ],
                        "type": "contour"
                      }
                    ],
                    "contourcarpet": [
                      {
                        "colorbar": {
                          "outlinewidth": 0,
                          "ticks": ""
                        },
                        "type": "contourcarpet"
                      }
                    ],
                    "heatmap": [
                      {
                        "colorbar": {
                          "outlinewidth": 0,
                          "ticks": ""
                        },
                        "colorscale": [
                          [
                            0,
                            "#0d0887"
                          ],
                          [
                            0.1111111111111111,
                            "#46039f"
                          ],
                          [
                            0.2222222222222222,
                            "#7201a8"
                          ],
                          [
                            0.3333333333333333,
                            "#9c179e"
                          ],
                          [
                            0.4444444444444444,
                            "#bd3786"
                          ],
                          [
                            0.5555555555555556,
                            "#d8576b"
                          ],
                          [
                            0.6666666666666666,
                            "#ed7953"
                          ],
                          [
                            0.7777777777777778,
                            "#fb9f3a"
                          ],
                          [
                            0.8888888888888888,
                            "#fdca26"
                          ],
                          [
                            1,
                            "#f0f921"
                          ]
                        ],
                        "type": "heatmap"
                      }
                    ],
                    "histogram": [
                      {
                        "marker": {
                          "pattern": {
                            "fillmode": "overlay",
                            "size": 10,
                            "solidity": 0.2
                          }
                        },
                        "type": "histogram"
                      }
                    ],
                    "histogram2d": [
                      {
                        "colorbar": {
                          "outlinewidth": 0,
                          "ticks": ""
                        },
                        "colorscale": [
                          [
                            0,
                            "#0d0887"
                          ],
                          [
                            0.1111111111111111,
                            "#46039f"
                          ],
                          [
                            0.2222222222222222,
                            "#7201a8"
                          ],
                          [
                            0.3333333333333333,
                            "#9c179e"
                          ],
                          [
                            0.4444444444444444,
                            "#bd3786"
                          ],
                          [
                            0.5555555555555556,
                            "#d8576b"
                          ],
                          [
                            0.6666666666666666,
                            "#ed7953"
                          ],
                          [
                            0.7777777777777778,
                            "#fb9f3a"
                          ],
                          [
                            0.8888888888888888,
                            "#fdca26"
                          ],
                          [
                            1,
                            "#f0f921"
                          ]
                        ],
                        "type": "histogram2d"
                      }
                    ],
                    "histogram2dcontour": [
                      {
                        "colorbar": {
                          "outlinewidth": 0,
                          "ticks": ""
                        },
                        "colorscale": [
                          [
                            0,
                            "#0d0887"
                          ],
                          [
                            0.1111111111111111,
                            "#46039f"
                          ],
                          [
                            0.2222222222222222,
                            "#7201a8"
                          ],
                          [
                            0.3333333333333333,
                            "#9c179e"
                          ],
                          [
                            0.4444444444444444,
                            "#bd3786"
                          ],
                          [
                            0.5555555555555556,
                            "#d8576b"
                          ],
                          [
                            0.6666666666666666,
                            "#ed7953"
                          ],
                          [
                            0.7777777777777778,
                            "#fb9f3a"
                          ],
                          [
                            0.8888888888888888,
                            "#fdca26"
                          ],
                          [
                            1,
                            "#f0f921"
                          ]
                        ],
                        "type": "histogram2dcontour"
                      }
                    ],
                    "mesh3d": [
                      {
                        "colorbar": {
                          "outlinewidth": 0,
                          "ticks": ""
                        },
                        "type": "mesh3d"
                      }
                    ],
                    "parcoords": [
                      {
                        "line": {
                          "colorbar": {
                            "outlinewidth": 0,
                            "ticks": ""
                          }
                        },
                        "type": "parcoords"
                      }
                    ],
                    "pie": [
                      {
                        "automargin": true,
                        "type": "pie"
                      }
                    ],
                    "scatter": [
                      {
                        "fillpattern": {
                          "fillmode": "overlay",
                          "size": 10,
                          "solidity": 0.2
                        },
                        "type": "scatter"
                      }
                    ],
                    "scatter3d": [
                      {
                        "line": {
                          "colorbar": {
                            "outlinewidth": 0,
                            "ticks": ""
                          }
                        },
                        "marker": {
                          "colorbar": {
                            "outlinewidth": 0,
                            "ticks": ""
                          }
                        },
                        "type": "scatter3d"
                      }
                    ],
                    "scattercarpet": [
                      {
                        "marker": {
                          "colorbar": {
                            "outlinewidth": 0,
                            "ticks": ""
                          }
                        },
                        "type": "scattercarpet"
                      }
                    ],
                    "scattergeo": [
                      {
                        "marker": {
                          "colorbar": {
                            "outlinewidth": 0,
                            "ticks": ""
                          }
                        },
                        "type": "scattergeo"
                      }
                    ],
                    "scattergl": [
                      {
                        "marker": {
                          "colorbar": {
                            "outlinewidth": 0,
                            "ticks": ""
                          }
                        },
                        "type": "scattergl"
                      }
                    ],
                    "scattermap": [
                      {
                        "marker": {
                          "colorbar": {
                            "outlinewidth": 0,
                            "ticks": ""
                          }
                        },
                        "type": "scattermap"
                      }
                    ],
                    "scattermapbox": [
                      {
                        "marker": {
                          "colorbar": {
                            "outlinewidth": 0,
                            "ticks": ""
                          }
                        },
                        "type": "scattermapbox"
                      }
                    ],
                    "scatterpolar": [
                      {
                        "marker": {
                          "colorbar": {
                            "outlinewidth": 0,
                            "ticks": ""
                          }
                        },
                        "type": "scatterpolar"
                      }
                    ],
                    "scatterpolargl": [
                      {
                        "marker": {
                          "colorbar": {
                            "outlinewidth": 0,
                            "ticks": ""
                          }
                        },
                        "type": "scatterpolargl"
                      }
                    ],
                    "scatterternary": [
                      {
                        "marker": {
                          "colorbar": {
                            "outlinewidth": 0,
                            "ticks": ""
                          }
                        },
                        "type": "scatterternary"
                      }
                    ],
                    "surface": [
                      {
                        "colorbar": {
                          "outlinewidth": 0,
                          "ticks": ""
                        },
                        "colorscale": [
                          [
                            0,
                            "#0d0887"
                          ],
                          [
                            0.1111111111111111,
                            "#46039f"
                          ],
                          [
                            0.2222222222222222,
                            "#7201a8"
                          ],
                          [
                            0.3333333333333333,
                            "#9c179e"
                          ],
                          [
                            0.4444444444444444,
                            "#bd3786"
                          ],
                          [
                            0.5555555555555556,
                            "#d8576b"
                          ],
                          [
                            0.6666666666666666,
                            "#ed7953"
                          ],
                          [
                            0.7777777777777778,
                            "#fb9f3a"
                          ],
                          [
                            0.8888888888888888,
                            "#fdca26"
                          ],
                          [
                            1,
                            "#f0f921"
                          ]
                        ],
                        "type": "surface"
                      }
                    ],
                    "table": [
                      {
                        "cells": {
                          "fill": {
                            "color": "#EBF0F8"
                          },
                          "line": {
                            "color": "white"
                          }
                        },
                        "header": {
                          "fill": {
                            "color": "#C8D4E3"
                          },
                          "line": {
                            "color": "white"
                          }
                        },
                        "type": "table"
                      }
                    ]
                  },
                  "layout": {
                    "annotationdefaults": {
                      "arrowcolor": "#2a3f5f",
                      "arrowhead": 0,
                      "arrowwidth": 1
                    },
                    "autotypenumbers": "strict",
                    "coloraxis": {
                      "colorbar": {
                        "outlinewidth": 0,
                        "ticks": ""
                      }
                    },
                    "colorscale": {
                      "diverging": [
                        [
                          0,
                          "#8e0152"
                        ],
                        [
                          0.1,
                          "#c51b7d"
                        ],
                        [
                          0.2,
                          "#de77ae"
                        ],
                        [
                          0.3,
                          "#f1b6da"
                        ],
                        [
                          0.4,
                          "#fde0ef"
                        ],
                        [
                          0.5,
                          "#f7f7f7"
                        ],
                        [
                          0.6,
                          "#e6f5d0"
                        ],
                        [
                          0.7,
                          "#b8e186"
                        ],
                        [
                          0.8,
                          "#7fbc41"
                        ],
                        [
                          0.9,
                          "#4d9221"
                        ],
                        [
                          1,
                          "#276419"
                        ]
                      ],
                      "sequential": [
                        [
                          0,
                          "#0d0887"
                        ],
                        [
                          0.1111111111111111,
                          "#46039f"
                        ],
                        [
                          0.2222222222222222,
                          "#7201a8"
                        ],
                        [
                          0.3333333333333333,
                          "#9c179e"
                        ],
                        [
                          0.4444444444444444,
                          "#bd3786"
                        ],
                        [
                          0.5555555555555556,
                          "#d8576b"
                        ],
                        [
                          0.6666666666666666,
                          "#ed7953"
                        ],
                        [
                          0.7777777777777778,
                          "#fb9f3a"
                        ],
                        [
                          0.8888888888888888,
                          "#fdca26"
                        ],
                        [
                          1,
                          "#f0f921"
                        ]
                      ],
                      "sequentialminus": [
                        [
                          0,
                          "#0d0887"
                        ],
                        [
                          0.1111111111111111,
                          "#46039f"
                        ],
                        [
                          0.2222222222222222,
                          "#7201a8"
                        ],
                        [
                          0.3333333333333333,
                          "#9c179e"
                        ],
                        [
                          0.4444444444444444,
                          "#bd3786"
                        ],
                        [
                          0.5555555555555556,
                          "#d8576b"
                        ],
                        [
                          0.6666666666666666,
                          "#ed7953"
                        ],
                        [
                          0.7777777777777778,
                          "#fb9f3a"
                        ],
                        [
                          0.8888888888888888,
                          "#fdca26"
                        ],
                        [
                          1,
                          "#f0f921"
                        ]
                      ]
                    },
                    "colorway": [
                      "#636efa",
                      "#EF553B",
                      "#00cc96",
                      "#ab63fa",
                      "#FFA15A",
                      "#19d3f3",
                      "#FF6692",
                      "#B6E880",
                      "#FF97FF",
                      "#FECB52"
                    ],
                    "font": {
                      "color": "#2a3f5f"
                    },
                    "geo": {
                      "bgcolor": "white",
                      "lakecolor": "white",
                      "landcolor": "#E5ECF6",
                      "showlakes": true,
                      "showland": true,
                      "subunitcolor": "white"
                    },
                    "hoverlabel": {
                      "align": "left"
                    },
                    "hovermode": "closest",
                    "mapbox": {
                      "style": "light"
                    },
                    "paper_bgcolor": "white",
                    "plot_bgcolor": "#E5ECF6",
                    "polar": {
                      "angularaxis": {
                        "gridcolor": "white",
                        "linecolor": "white",
                        "ticks": ""
                      },
                      "bgcolor": "#E5ECF6",
                      "radialaxis": {
                        "gridcolor": "white",
                        "linecolor": "white",
                        "ticks": ""
                      }
                    },
                    "scene": {
                      "xaxis": {
                        "backgroundcolor": "#E5ECF6",
                        "gridcolor": "white",
                        "gridwidth": 2,
                        "linecolor": "white",
                        "showbackground": true,
                        "ticks": "",
                        "zerolinecolor": "white"
                      },
                      "yaxis": {
                        "backgroundcolor": "#E5ECF6",
                        "gridcolor": "white",
                        "gridwidth": 2,
                        "linecolor": "white",
                        "showbackground": true,
                        "ticks": "",
                        "zerolinecolor": "white"
                      },
                      "zaxis": {
                        "backgroundcolor": "#E5ECF6",
                        "gridcolor": "white",
                        "gridwidth": 2,
                        "linecolor": "white",
                        "showbackground": true,
                        "ticks": "",
                        "zerolinecolor": "white"
                      }
                    },
                    "shapedefaults": {
                      "line": {
                        "color": "#2a3f5f"
                      }
                    },
                    "ternary": {
                      "aaxis": {
                        "gridcolor": "white",
                        "linecolor": "white",
                        "ticks": ""
                      },
                      "baxis": {
                        "gridcolor": "white",
                        "linecolor": "white",
                        "ticks": ""
                      },
                      "bgcolor": "#E5ECF6",
                      "caxis": {
                        "gridcolor": "white",
                        "linecolor": "white",
                        "ticks": ""
                      }
                    },
                    "title": {
                      "x": 0.05
                    },
                    "xaxis": {
                      "automargin": true,
                      "gridcolor": "white",
                      "linecolor": "white",
                      "ticks": "",
                      "title": {
                        "standoff": 15
                      },
                      "zerolinecolor": "white",
                      "zerolinewidth": 2
                    },
                    "yaxis": {
                      "automargin": true,
                      "gridcolor": "white",
                      "linecolor": "white",
                      "ticks": "",
                      "title": {
                        "standoff": 15
                      },
                      "zerolinecolor": "white",
                      "zerolinewidth": 2
                    }
                  }
                },
                "xaxis": {
                  "anchor": "y",
                  "domain": [
                    0,
                    1
                  ],
                  "title": {
                    "text": "Age"
                  }
                },
                "yaxis": {
                  "anchor": "x",
                  "domain": [
                    0,
                    1
                  ],
                  "title": {
                    "text": "Total Charges"
                  }
                }
              }
            }
          },
          "metadata": {},
          "output_type": "display_data"
        }
      ],
      "source": [
        "fig = px.density_heatmap(df1, x='Age', y='Total Charges')\n",
        "fig.show()"
      ]
    },
    {
      "cell_type": "code",
      "execution_count": 67,
      "id": "1c4d0cc8",
      "metadata": {
        "colab": {
          "base_uri": "https://localhost:8080/"
        },
        "execution": {
          "iopub.execute_input": "2022-10-14T19:27:33.396802Z",
          "iopub.status.busy": "2022-10-14T19:27:33.395794Z",
          "iopub.status.idle": "2022-10-14T19:27:33.401898Z",
          "shell.execute_reply": "2022-10-14T19:27:33.401179Z"
        },
        "id": "1c4d0cc8",
        "outputId": "f9af846c-92d1-4b27-d47f-674d10496c1a",
        "papermill": {
          "duration": 0.032967,
          "end_time": "2022-10-14T19:27:33.403872",
          "exception": false,
          "start_time": "2022-10-14T19:27:33.370905",
          "status": "completed"
        },
        "tags": []
      },
      "outputs": [
        {
          "data": {
            "text/plain": [
              "Index(['Gender', 'Age', 'Married', 'Number of Dependents', 'City',\n",
              "       'Number of Referrals', 'Tenure in Months', 'Offer', 'Phone Service',\n",
              "       'Avg Monthly Long Distance Charges', 'Multiple Lines',\n",
              "       'Internet Service', 'Internet Type', 'Avg Monthly GB Download',\n",
              "       'Online Security', 'Online Backup', 'Device Protection Plan',\n",
              "       'Premium Tech Support', 'Streaming TV', 'Streaming Movies',\n",
              "       'Streaming Music', 'Unlimited Data', 'Contract', 'Paperless Billing',\n",
              "       'Payment Method', 'Monthly Charge', 'Total Charges',\n",
              "       'Total Extra Data Charges', 'Total Long Distance Charges',\n",
              "       'Total Revenue', 'Customer Status'],\n",
              "      dtype='object')"
            ]
          },
          "execution_count": 67,
          "metadata": {},
          "output_type": "execute_result"
        }
      ],
      "source": [
        "df1.columns"
      ]
    },
    {
      "cell_type": "code",
      "execution_count": 68,
      "id": "3eb796cf",
      "metadata": {
        "colab": {
          "base_uri": "https://localhost:8080/",
          "height": 329
        },
        "execution": {
          "iopub.execute_input": "2022-10-14T19:27:33.452044Z",
          "iopub.status.busy": "2022-10-14T19:27:33.451344Z",
          "iopub.status.idle": "2022-10-14T19:27:33.692942Z",
          "shell.execute_reply": "2022-10-14T19:27:33.691948Z"
        },
        "id": "3eb796cf",
        "outputId": "12a38ed0-a1f3-47f4-8d7a-35b261623deb",
        "papermill": {
          "duration": 0.268347,
          "end_time": "2022-10-14T19:27:33.695372",
          "exception": false,
          "start_time": "2022-10-14T19:27:33.427025",
          "status": "completed"
        },
        "tags": []
      },
      "outputs": [
        {
          "data": {
            "text/plain": [
              "<Axes: xlabel='Customer Status'>"
            ]
          },
          "execution_count": 68,
          "metadata": {},
          "output_type": "execute_result"
        },
        {
          "data": {
            "image/png": "[encoded data removed]",
            "text/plain": [
              "<Figure size 640x480 with 1 Axes>"
            ]
          },
          "metadata": {},
          "output_type": "display_data"
        }
      ],
      "source": [
        "pd.crosstab(df['Customer Status'], df['Married']).plot(kind='bar')"
      ]
    },
    {
      "cell_type": "code",
      "execution_count": 69,
      "id": "ca4253f8",
      "metadata": {
        "colab": {
          "base_uri": "https://localhost:8080/",
          "height": 333
        },
        "execution": {
          "iopub.execute_input": "2022-10-14T19:27:33.745251Z",
          "iopub.status.busy": "2022-10-14T19:27:33.744564Z",
          "iopub.status.idle": "2022-10-14T19:27:33.977564Z",
          "shell.execute_reply": "2022-10-14T19:27:33.976173Z"
        },
        "id": "ca4253f8",
        "outputId": "7197ba20-cd39-4cf5-dd24-6e53ea7c3cdb",
        "papermill": {
          "duration": 0.260686,
          "end_time": "2022-10-14T19:27:33.979853",
          "exception": false,
          "start_time": "2022-10-14T19:27:33.719167",
          "status": "completed"
        },
        "tags": []
      },
      "outputs": [
        {
          "data": {
            "text/plain": [
              "<Axes: xlabel='Customer Status'>"
            ]
          },
          "execution_count": 69,
          "metadata": {},
          "output_type": "execute_result"
        },
        {
          "data": {
            "image/png": "[encoded data removed]",
            "text/plain": [
              "<Figure size 640x480 with 1 Axes>"
            ]
          },
          "metadata": {},
          "output_type": "display_data"
        }
      ],
      "source": [
        "pd.crosstab(df['Customer Status'], df['Gender']).plot(kind='bar')"
      ]
    },
    {
      "cell_type": "code",
      "execution_count": 70,
      "id": "b8bdd9d1",
      "metadata": {
        "colab": {
          "base_uri": "https://localhost:8080/"
        },
        "execution": {
          "iopub.execute_input": "2022-10-14T19:27:34.030384Z",
          "iopub.status.busy": "2022-10-14T19:27:34.029961Z",
          "iopub.status.idle": "2022-10-14T19:27:34.037171Z",
          "shell.execute_reply": "2022-10-14T19:27:34.036166Z"
        },
        "id": "b8bdd9d1",
        "outputId": "e9412aea-dbb3-42e6-c947-9afce07b9e6e",
        "papermill": {
          "duration": 0.035279,
          "end_time": "2022-10-14T19:27:34.039391",
          "exception": false,
          "start_time": "2022-10-14T19:27:34.004112",
          "status": "completed"
        },
        "tags": []
      },
      "outputs": [
        {
          "data": {
            "text/plain": [
              "array(['Bank Withdrawal', 'Credit Card', 'Mailed Check'], dtype=object)"
            ]
          },
          "execution_count": 70,
          "metadata": {},
          "output_type": "execute_result"
        }
      ],
      "source": [
        "df1['Payment Method'].unique()"
      ]
    },
    {
      "cell_type": "markdown",
      "id": "k8SLcZE3DxxY",
      "metadata": {
        "id": "k8SLcZE3DxxY"
      },
      "source": [
        "Create dictionary with role / data key value pairs"
      ]
    },
    {
      "cell_type": "code",
      "execution_count": 71,
      "id": "7f21db01",
      "metadata": {
        "execution": {
          "iopub.execute_input": "2022-10-14T19:27:34.090755Z",
          "iopub.status.busy": "2022-10-14T19:27:34.090374Z",
          "iopub.status.idle": "2022-10-14T19:27:34.100071Z",
          "shell.execute_reply": "2022-10-14T19:27:34.099243Z"
        },
        "id": "7f21db01",
        "papermill": {
          "duration": 0.038021,
          "end_time": "2022-10-14T19:27:34.102336",
          "exception": false,
          "start_time": "2022-10-14T19:27:34.064315",
          "status": "completed"
        },
        "tags": []
      },
      "outputs": [],
      "source": [
        "Roles = {}\n",
        "for j in df1['Payment Method'].unique():\n",
        "    Roles[j] = df1[df1['Payment Method'] == j]"
      ]
    },
    {
      "cell_type": "code",
      "execution_count": 72,
      "id": "83636384",
      "metadata": {
        "colab": {
          "base_uri": "https://localhost:8080/"
        },
        "execution": {
          "iopub.execute_input": "2022-10-14T19:27:34.152982Z",
          "iopub.status.busy": "2022-10-14T19:27:34.152554Z",
          "iopub.status.idle": "2022-10-14T19:27:34.159107Z",
          "shell.execute_reply": "2022-10-14T19:27:34.158011Z"
        },
        "id": "83636384",
        "outputId": "bae177a7-6fab-4f8c-c1a4-dd135aeb94f2",
        "papermill": {
          "duration": 0.034836,
          "end_time": "2022-10-14T19:27:34.161328",
          "exception": false,
          "start_time": "2022-10-14T19:27:34.126492",
          "status": "completed"
        },
        "tags": []
      },
      "outputs": [
        {
          "data": {
            "text/plain": [
              "dict_keys(['Bank Withdrawal', 'Credit Card', 'Mailed Check'])"
            ]
          },
          "execution_count": 72,
          "metadata": {},
          "output_type": "execute_result"
        }
      ],
      "source": [
        "Roles.keys()"
      ]
    },
    {
      "cell_type": "markdown",
      "id": "PHauFm8VD57n",
      "metadata": {
        "id": "PHauFm8VD57n"
      },
      "source": [
        "Selecting the rows where the role is 'Credit Card'"
      ]
    },
    {
      "cell_type": "code",
      "execution_count": 73,
      "id": "396930cb",
      "metadata": {
        "colab": {
          "base_uri": "https://localhost:8080/",
          "height": 711
        },
        "execution": {
          "iopub.execute_input": "2022-10-14T19:27:34.211770Z",
          "iopub.status.busy": "2022-10-14T19:27:34.211389Z",
          "iopub.status.idle": "2022-10-14T19:27:34.250465Z",
          "shell.execute_reply": "2022-10-14T19:27:34.249407Z"
        },
        "id": "396930cb",
        "outputId": "db64dacf-1390-41cd-d470-53fabadc64e9",
        "papermill": {
          "duration": 0.067598,
          "end_time": "2022-10-14T19:27:34.253007",
          "exception": false,
          "start_time": "2022-10-14T19:27:34.185409",
          "status": "completed"
        },
        "tags": []
      },
      "outputs": [
        {
          "data": {
            "text/html": [
              "<div>\n",
              "<style scoped>\n",
              "    .dataframe tbody tr th:only-of-type {\n",
              "        vertical-align: middle;\n",
              "    }\n",
              "\n",
              "    .dataframe tbody tr th {\n",
              "        vertical-align: top;\n",
              "    }\n",
              "\n",
              "    .dataframe thead th {\n",
              "        text-align: right;\n",
              "    }\n",
              "</style>\n",
              "<table border=\"1\" class=\"dataframe\">\n",
              "  <thead>\n",
              "    <tr style=\"text-align: right;\">\n",
              "      <th></th>\n",
              "      <th>Gender</th>\n",
              "      <th>Age</th>\n",
              "      <th>Married</th>\n",
              "      <th>Number of Dependents</th>\n",
              "      <th>City</th>\n",
              "      <th>Number of Referrals</th>\n",
              "      <th>Tenure in Months</th>\n",
              "      <th>Offer</th>\n",
              "      <th>Phone Service</th>\n",
              "      <th>Avg Monthly Long Distance Charges</th>\n",
              "      <th>...</th>\n",
              "      <th>Unlimited Data</th>\n",
              "      <th>Contract</th>\n",
              "      <th>Paperless Billing</th>\n",
              "      <th>Payment Method</th>\n",
              "      <th>Monthly Charge</th>\n",
              "      <th>Total Charges</th>\n",
              "      <th>Total Extra Data Charges</th>\n",
              "      <th>Total Long Distance Charges</th>\n",
              "      <th>Total Revenue</th>\n",
              "      <th>Customer Status</th>\n",
              "    </tr>\n",
              "  </thead>\n",
              "  <tbody>\n",
              "    <tr>\n",
              "      <th>5</th>\n",
              "      <td>Female</td>\n",
              "      <td>23</td>\n",
              "      <td>No</td>\n",
              "      <td>3</td>\n",
              "      <td>Midpines</td>\n",
              "      <td>0</td>\n",
              "      <td>9</td>\n",
              "      <td>Offer E</td>\n",
              "      <td>Yes</td>\n",
              "      <td>16.77</td>\n",
              "      <td>...</td>\n",
              "      <td>Yes</td>\n",
              "      <td>Month-to-Month</td>\n",
              "      <td>Yes</td>\n",
              "      <td>Credit Card</td>\n",
              "      <td>69.40</td>\n",
              "      <td>571.45</td>\n",
              "      <td>0</td>\n",
              "      <td>150.93</td>\n",
              "      <td>722.38</td>\n",
              "      <td>Stayed</td>\n",
              "    </tr>\n",
              "    <tr>\n",
              "      <th>7</th>\n",
              "      <td>Male</td>\n",
              "      <td>52</td>\n",
              "      <td>Yes</td>\n",
              "      <td>0</td>\n",
              "      <td>Napa</td>\n",
              "      <td>8</td>\n",
              "      <td>63</td>\n",
              "      <td>Offer B</td>\n",
              "      <td>Yes</td>\n",
              "      <td>12.96</td>\n",
              "      <td>...</td>\n",
              "      <td>No</td>\n",
              "      <td>Two Year</td>\n",
              "      <td>Yes</td>\n",
              "      <td>Credit Card</td>\n",
              "      <td>84.65</td>\n",
              "      <td>5377.80</td>\n",
              "      <td>20</td>\n",
              "      <td>816.48</td>\n",
              "      <td>6214.28</td>\n",
              "      <td>Stayed</td>\n",
              "    </tr>\n",
              "    <tr>\n",
              "      <th>15</th>\n",
              "      <td>Female</td>\n",
              "      <td>58</td>\n",
              "      <td>Yes</td>\n",
              "      <td>2</td>\n",
              "      <td>Woodlake</td>\n",
              "      <td>9</td>\n",
              "      <td>71</td>\n",
              "      <td>Offer A</td>\n",
              "      <td>Yes</td>\n",
              "      <td>27.26</td>\n",
              "      <td>...</td>\n",
              "      <td>Yes</td>\n",
              "      <td>Two Year</td>\n",
              "      <td>Yes</td>\n",
              "      <td>Credit Card</td>\n",
              "      <td>95.75</td>\n",
              "      <td>6849.40</td>\n",
              "      <td>0</td>\n",
              "      <td>1935.46</td>\n",
              "      <td>8784.86</td>\n",
              "      <td>Stayed</td>\n",
              "    </tr>\n",
              "    <tr>\n",
              "      <th>30</th>\n",
              "      <td>Male</td>\n",
              "      <td>23</td>\n",
              "      <td>Yes</td>\n",
              "      <td>3</td>\n",
              "      <td>Moss Beach</td>\n",
              "      <td>1</td>\n",
              "      <td>37</td>\n",
              "      <td>Offer C</td>\n",
              "      <td>Yes</td>\n",
              "      <td>43.01</td>\n",
              "      <td>...</td>\n",
              "      <td>Yes</td>\n",
              "      <td>One Year</td>\n",
              "      <td>No</td>\n",
              "      <td>Credit Card</td>\n",
              "      <td>91.20</td>\n",
              "      <td>3247.55</td>\n",
              "      <td>0</td>\n",
              "      <td>1591.37</td>\n",
              "      <td>4838.92</td>\n",
              "      <td>Stayed</td>\n",
              "    </tr>\n",
              "    <tr>\n",
              "      <th>41</th>\n",
              "      <td>Female</td>\n",
              "      <td>20</td>\n",
              "      <td>No</td>\n",
              "      <td>0</td>\n",
              "      <td>Fremont</td>\n",
              "      <td>0</td>\n",
              "      <td>27</td>\n",
              "      <td>Offer C</td>\n",
              "      <td>Yes</td>\n",
              "      <td>48.91</td>\n",
              "      <td>...</td>\n",
              "      <td>Yes</td>\n",
              "      <td>One Year</td>\n",
              "      <td>No</td>\n",
              "      <td>Credit Card</td>\n",
              "      <td>78.20</td>\n",
              "      <td>2078.95</td>\n",
              "      <td>0</td>\n",
              "      <td>1320.57</td>\n",
              "      <td>3399.52</td>\n",
              "      <td>Stayed</td>\n",
              "    </tr>\n",
              "    <tr>\n",
              "      <th>...</th>\n",
              "      <td>...</td>\n",
              "      <td>...</td>\n",
              "      <td>...</td>\n",
              "      <td>...</td>\n",
              "      <td>...</td>\n",
              "      <td>...</td>\n",
              "      <td>...</td>\n",
              "      <td>...</td>\n",
              "      <td>...</td>\n",
              "      <td>...</td>\n",
              "      <td>...</td>\n",
              "      <td>...</td>\n",
              "      <td>...</td>\n",
              "      <td>...</td>\n",
              "      <td>...</td>\n",
              "      <td>...</td>\n",
              "      <td>...</td>\n",
              "      <td>...</td>\n",
              "      <td>...</td>\n",
              "      <td>...</td>\n",
              "      <td>...</td>\n",
              "    </tr>\n",
              "    <tr>\n",
              "      <th>7035</th>\n",
              "      <td>Female</td>\n",
              "      <td>20</td>\n",
              "      <td>No</td>\n",
              "      <td>0</td>\n",
              "      <td>Los Angeles</td>\n",
              "      <td>0</td>\n",
              "      <td>7</td>\n",
              "      <td>Offer E</td>\n",
              "      <td>Yes</td>\n",
              "      <td>36.49</td>\n",
              "      <td>...</td>\n",
              "      <td>Yes</td>\n",
              "      <td>One Year</td>\n",
              "      <td>Yes</td>\n",
              "      <td>Credit Card</td>\n",
              "      <td>94.05</td>\n",
              "      <td>633.45</td>\n",
              "      <td>0</td>\n",
              "      <td>255.43</td>\n",
              "      <td>888.88</td>\n",
              "      <td>Stayed</td>\n",
              "    </tr>\n",
              "    <tr>\n",
              "      <th>7036</th>\n",
              "      <td>Female</td>\n",
              "      <td>53</td>\n",
              "      <td>No</td>\n",
              "      <td>0</td>\n",
              "      <td>Hume</td>\n",
              "      <td>0</td>\n",
              "      <td>1</td>\n",
              "      <td>Offer E</td>\n",
              "      <td>Yes</td>\n",
              "      <td>42.09</td>\n",
              "      <td>...</td>\n",
              "      <td>Yes</td>\n",
              "      <td>Month-to-Month</td>\n",
              "      <td>Yes</td>\n",
              "      <td>Credit Card</td>\n",
              "      <td>70.15</td>\n",
              "      <td>70.15</td>\n",
              "      <td>0</td>\n",
              "      <td>42.09</td>\n",
              "      <td>112.24</td>\n",
              "      <td>Churned</td>\n",
              "    </tr>\n",
              "    <tr>\n",
              "      <th>7038</th>\n",
              "      <td>Female</td>\n",
              "      <td>20</td>\n",
              "      <td>No</td>\n",
              "      <td>0</td>\n",
              "      <td>La Mesa</td>\n",
              "      <td>0</td>\n",
              "      <td>13</td>\n",
              "      <td>Offer D</td>\n",
              "      <td>Yes</td>\n",
              "      <td>46.68</td>\n",
              "      <td>...</td>\n",
              "      <td>Yes</td>\n",
              "      <td>One Year</td>\n",
              "      <td>No</td>\n",
              "      <td>Credit Card</td>\n",
              "      <td>55.15</td>\n",
              "      <td>742.90</td>\n",
              "      <td>0</td>\n",
              "      <td>606.84</td>\n",
              "      <td>1349.74</td>\n",
              "      <td>Stayed</td>\n",
              "    </tr>\n",
              "    <tr>\n",
              "      <th>7040</th>\n",
              "      <td>Male</td>\n",
              "      <td>22</td>\n",
              "      <td>No</td>\n",
              "      <td>0</td>\n",
              "      <td>Elk</td>\n",
              "      <td>0</td>\n",
              "      <td>2</td>\n",
              "      <td>Offer E</td>\n",
              "      <td>Yes</td>\n",
              "      <td>18.62</td>\n",
              "      <td>...</td>\n",
              "      <td>Yes</td>\n",
              "      <td>Month-to-Month</td>\n",
              "      <td>Yes</td>\n",
              "      <td>Credit Card</td>\n",
              "      <td>50.30</td>\n",
              "      <td>92.75</td>\n",
              "      <td>0</td>\n",
              "      <td>37.24</td>\n",
              "      <td>129.99</td>\n",
              "      <td>Joined</td>\n",
              "    </tr>\n",
              "    <tr>\n",
              "      <th>7041</th>\n",
              "      <td>Male</td>\n",
              "      <td>21</td>\n",
              "      <td>Yes</td>\n",
              "      <td>0</td>\n",
              "      <td>Solana Beach</td>\n",
              "      <td>5</td>\n",
              "      <td>67</td>\n",
              "      <td>Offer A</td>\n",
              "      <td>Yes</td>\n",
              "      <td>2.12</td>\n",
              "      <td>...</td>\n",
              "      <td>Yes</td>\n",
              "      <td>Two Year</td>\n",
              "      <td>No</td>\n",
              "      <td>Credit Card</td>\n",
              "      <td>67.85</td>\n",
              "      <td>4627.65</td>\n",
              "      <td>0</td>\n",
              "      <td>142.04</td>\n",
              "      <td>4769.69</td>\n",
              "      <td>Stayed</td>\n",
              "    </tr>\n",
              "  </tbody>\n",
              "</table>\n",
              "<p>716 rows × 31 columns</p>\n",
              "</div>"
            ],
            "text/plain": [
              "      Gender  Age Married  Number of Dependents          City  \\\n",
              "5     Female   23      No                     3      Midpines   \n",
              "7       Male   52     Yes                     0          Napa   \n",
              "15    Female   58     Yes                     2      Woodlake   \n",
              "30      Male   23     Yes                     3    Moss Beach   \n",
              "41    Female   20      No                     0       Fremont   \n",
              "...      ...  ...     ...                   ...           ...   \n",
              "7035  Female   20      No                     0   Los Angeles   \n",
              "7036  Female   53      No                     0          Hume   \n",
              "7038  Female   20      No                     0       La Mesa   \n",
              "7040    Male   22      No                     0           Elk   \n",
              "7041    Male   21     Yes                     0  Solana Beach   \n",
              "\n",
              "      Number of Referrals  Tenure in Months    Offer Phone Service  \\\n",
              "5                       0                 9  Offer E           Yes   \n",
              "7                       8                63  Offer B           Yes   \n",
              "15                      9                71  Offer A           Yes   \n",
              "30                      1                37  Offer C           Yes   \n",
              "41                      0                27  Offer C           Yes   \n",
              "...                   ...               ...      ...           ...   \n",
              "7035                    0                 7  Offer E           Yes   \n",
              "7036                    0                 1  Offer E           Yes   \n",
              "7038                    0                13  Offer D           Yes   \n",
              "7040                    0                 2  Offer E           Yes   \n",
              "7041                    5                67  Offer A           Yes   \n",
              "\n",
              "      Avg Monthly Long Distance Charges  ... Unlimited Data        Contract  \\\n",
              "5                                 16.77  ...            Yes  Month-to-Month   \n",
              "7                                 12.96  ...             No        Two Year   \n",
              "15                                27.26  ...            Yes        Two Year   \n",
              "30                                43.01  ...            Yes        One Year   \n",
              "41                                48.91  ...            Yes        One Year   \n",
              "...                                 ...  ...            ...             ...   \n",
              "7035                              36.49  ...            Yes        One Year   \n",
              "7036                              42.09  ...            Yes  Month-to-Month   \n",
              "7038                              46.68  ...            Yes        One Year   \n",
              "7040                              18.62  ...            Yes  Month-to-Month   \n",
              "7041                               2.12  ...            Yes        Two Year   \n",
              "\n",
              "     Paperless Billing  Payment Method Monthly Charge Total Charges  \\\n",
              "5                  Yes     Credit Card          69.40        571.45   \n",
              "7                  Yes     Credit Card          84.65       5377.80   \n",
              "15                 Yes     Credit Card          95.75       6849.40   \n",
              "30                  No     Credit Card          91.20       3247.55   \n",
              "41                  No     Credit Card          78.20       2078.95   \n",
              "...                ...             ...            ...           ...   \n",
              "7035               Yes     Credit Card          94.05        633.45   \n",
              "7036               Yes     Credit Card          70.15         70.15   \n",
              "7038                No     Credit Card          55.15        742.90   \n",
              "7040               Yes     Credit Card          50.30         92.75   \n",
              "7041                No     Credit Card          67.85       4627.65   \n",
              "\n",
              "     Total Extra Data Charges Total Long Distance Charges Total Revenue  \\\n",
              "5                           0                      150.93        722.38   \n",
              "7                          20                      816.48       6214.28   \n",
              "15                          0                     1935.46       8784.86   \n",
              "30                          0                     1591.37       4838.92   \n",
              "41                          0                     1320.57       3399.52   \n",
              "...                       ...                         ...           ...   \n",
              "7035                        0                      255.43        888.88   \n",
              "7036                        0                       42.09        112.24   \n",
              "7038                        0                      606.84       1349.74   \n",
              "7040                        0                       37.24        129.99   \n",
              "7041                        0                      142.04       4769.69   \n",
              "\n",
              "     Customer Status  \n",
              "5             Stayed  \n",
              "7             Stayed  \n",
              "15            Stayed  \n",
              "30            Stayed  \n",
              "41            Stayed  \n",
              "...              ...  \n",
              "7035          Stayed  \n",
              "7036         Churned  \n",
              "7038          Stayed  \n",
              "7040          Joined  \n",
              "7041          Stayed  \n",
              "\n",
              "[716 rows x 31 columns]"
            ]
          },
          "execution_count": 73,
          "metadata": {},
          "output_type": "execute_result"
        }
      ],
      "source": [
        "Roles['Credit Card']"
      ]
    },
    {
      "cell_type": "code",
      "execution_count": 74,
      "id": "b5a4315f",
      "metadata": {
        "colab": {
          "base_uri": "https://localhost:8080/"
        },
        "execution": {
          "iopub.execute_input": "2022-10-14T19:27:34.305502Z",
          "iopub.status.busy": "2022-10-14T19:27:34.305086Z",
          "iopub.status.idle": "2022-10-14T19:27:34.311559Z",
          "shell.execute_reply": "2022-10-14T19:27:34.310565Z"
        },
        "id": "b5a4315f",
        "outputId": "f5cfe268-32df-4664-d5ce-3d8112359cc0",
        "papermill": {
          "duration": 0.035473,
          "end_time": "2022-10-14T19:27:34.313833",
          "exception": false,
          "start_time": "2022-10-14T19:27:34.278360",
          "status": "completed"
        },
        "tags": []
      },
      "outputs": [
        {
          "data": {
            "text/plain": [
              "3"
            ]
          },
          "execution_count": 74,
          "metadata": {},
          "output_type": "execute_result"
        }
      ],
      "source": [
        "len(Roles)\n"
      ]
    },
    {
      "cell_type": "markdown",
      "id": "MhnCkIwbEGtA",
      "metadata": {
        "id": "MhnCkIwbEGtA"
      },
      "source": [
        "Checking the number of Offers in the dataset"
      ]
    },
    {
      "cell_type": "code",
      "execution_count": 75,
      "id": "65e2aaa7",
      "metadata": {
        "colab": {
          "base_uri": "https://localhost:8080/"
        },
        "execution": {
          "iopub.execute_input": "2022-10-14T19:27:34.364863Z",
          "iopub.status.busy": "2022-10-14T19:27:34.364114Z",
          "iopub.status.idle": "2022-10-14T19:27:34.372716Z",
          "shell.execute_reply": "2022-10-14T19:27:34.371687Z"
        },
        "id": "65e2aaa7",
        "outputId": "07958600-6c86-40f9-b013-d37038f448a5",
        "papermill": {
          "duration": 0.036394,
          "end_time": "2022-10-14T19:27:34.374910",
          "exception": false,
          "start_time": "2022-10-14T19:27:34.338516",
          "status": "completed"
        },
        "tags": []
      },
      "outputs": [
        {
          "data": {
            "text/plain": [
              "Offer\n",
              "Offer B    585\n",
              "Offer E    544\n",
              "Offer D    392\n",
              "Offer A    382\n",
              "Offer C    291\n",
              "Name: count, dtype: int64"
            ]
          },
          "execution_count": 75,
          "metadata": {},
          "output_type": "execute_result"
        }
      ],
      "source": [
        "off = df1['Offer'].value_counts()\n",
        "off\n"
      ]
    },
    {
      "cell_type": "code",
      "execution_count": 76,
      "id": "mapWd4bk74TS",
      "metadata": {
        "id": "mapWd4bk74TS"
      },
      "outputs": [],
      "source": [
        "import plotly.graph_objects as go"
      ]
    },
    {
      "cell_type": "code",
      "execution_count": 77,
      "id": "fc06e605",
      "metadata": {
        "colab": {
          "base_uri": "https://localhost:8080/",
          "height": 542
        },
        "execution": {
          "iopub.execute_input": "2022-10-14T19:27:34.427356Z",
          "iopub.status.busy": "2022-10-14T19:27:34.426948Z",
          "iopub.status.idle": "2022-10-14T19:27:34.441228Z",
          "shell.execute_reply": "2022-10-14T19:27:34.440071Z"
        },
        "id": "fc06e605",
        "outputId": "03986938-57e5-4749-8238-ca4d03b9beda",
        "papermill": {
          "duration": 0.044138,
          "end_time": "2022-10-14T19:27:34.443724",
          "exception": false,
          "start_time": "2022-10-14T19:27:34.399586",
          "status": "completed"
        },
        "tags": []
      },
      "outputs": [
        {
          "data": {
            "application/vnd.plotly.v1+json": {
              "config": {
                "plotlyServerURL": "https://plot.ly"
              },
              "data": [
                {
                  "type": "bar",
                  "x": [
                    "Offer B",
                    "Offer E",
                    "Offer D",
                    "Offer A",
                    "Offer C"
                  ],
                  "y": {
                    "bdata": "SQIgAogBfgEjAQ==",
                    "dtype": "i2"
                  }
                }
              ],
              "layout": {
                "template": {
                  "data": {
                    "bar": [
                      {
                        "error_x": {
                          "color": "#2a3f5f"
                        },
                        "error_y": {
                          "color": "#2a3f5f"
                        },
                        "marker": {
                          "line": {
                            "color": "#E5ECF6",
                            "width": 0.5
                          },
                          "pattern": {
                            "fillmode": "overlay",
                            "size": 10,
                            "solidity": 0.2
                          }
                        },
                        "type": "bar"
                      }
                    ],
                    "barpolar": [
                      {
                        "marker": {
                          "line": {
                            "color": "#E5ECF6",
                            "width": 0.5
                          },
                          "pattern": {
                            "fillmode": "overlay",
                            "size": 10,
                            "solidity": 0.2
                          }
                        },
                        "type": "barpolar"
                      }
                    ],
                    "carpet": [
                      {
                        "aaxis": {
                          "endlinecolor": "#2a3f5f",
                          "gridcolor": "white",
                          "linecolor": "white",
                          "minorgridcolor": "white",
                          "startlinecolor": "#2a3f5f"
                        },
                        "baxis": {
                          "endlinecolor": "#2a3f5f",
                          "gridcolor": "white",
                          "linecolor": "white",
                          "minorgridcolor": "white",
                          "startlinecolor": "#2a3f5f"
                        },
                        "type": "carpet"
                      }
                    ],
                    "choropleth": [
                      {
                        "colorbar": {
                          "outlinewidth": 0,
                          "ticks": ""
                        },
                        "type": "choropleth"
                      }
                    ],
                    "contour": [
                      {
                        "colorbar": {
                          "outlinewidth": 0,
                          "ticks": ""
                        },
                        "colorscale": [
                          [
                            0,
                            "#0d0887"
                          ],
                          [
                            0.1111111111111111,
                            "#46039f"
                          ],
                          [
                            0.2222222222222222,
                            "#7201a8"
                          ],
                          [
                            0.3333333333333333,
                            "#9c179e"
                          ],
                          [
                            0.4444444444444444,
                            "#bd3786"
                          ],
                          [
                            0.5555555555555556,
                            "#d8576b"
                          ],
                          [
                            0.6666666666666666,
                            "#ed7953"
                          ],
                          [
                            0.7777777777777778,
                            "#fb9f3a"
                          ],
                          [
                            0.8888888888888888,
                            "#fdca26"
                          ],
                          [
                            1,
                            "#f0f921"
                          ]
                        ],
                        "type": "contour"
                      }
                    ],
                    "contourcarpet": [
                      {
                        "colorbar": {
                          "outlinewidth": 0,
                          "ticks": ""
                        },
                        "type": "contourcarpet"
                      }
                    ],
                    "heatmap": [
                      {
                        "colorbar": {
                          "outlinewidth": 0,
                          "ticks": ""
                        },
                        "colorscale": [
                          [
                            0,
                            "#0d0887"
                          ],
                          [
                            0.1111111111111111,
                            "#46039f"
                          ],
                          [
                            0.2222222222222222,
                            "#7201a8"
                          ],
                          [
                            0.3333333333333333,
                            "#9c179e"
                          ],
                          [
                            0.4444444444444444,
                            "#bd3786"
                          ],
                          [
                            0.5555555555555556,
                            "#d8576b"
                          ],
                          [
                            0.6666666666666666,
                            "#ed7953"
                          ],
                          [
                            0.7777777777777778,
                            "#fb9f3a"
                          ],
                          [
                            0.8888888888888888,
                            "#fdca26"
                          ],
                          [
                            1,
                            "#f0f921"
                          ]
                        ],
                        "type": "heatmap"
                      }
                    ],
                    "histogram": [
                      {
                        "marker": {
                          "pattern": {
                            "fillmode": "overlay",
                            "size": 10,
                            "solidity": 0.2
                          }
                        },
                        "type": "histogram"
                      }
                    ],
                    "histogram2d": [
                      {
                        "colorbar": {
                          "outlinewidth": 0,
                          "ticks": ""
                        },
                        "colorscale": [
                          [
                            0,
                            "#0d0887"
                          ],
                          [
                            0.1111111111111111,
                            "#46039f"
                          ],
                          [
                            0.2222222222222222,
                            "#7201a8"
                          ],
                          [
                            0.3333333333333333,
                            "#9c179e"
                          ],
                          [
                            0.4444444444444444,
                            "#bd3786"
                          ],
                          [
                            0.5555555555555556,
                            "#d8576b"
                          ],
                          [
                            0.6666666666666666,
                            "#ed7953"
                          ],
                          [
                            0.7777777777777778,
                            "#fb9f3a"
                          ],
                          [
                            0.8888888888888888,
                            "#fdca26"
                          ],
                          [
                            1,
                            "#f0f921"
                          ]
                        ],
                        "type": "histogram2d"
                      }
                    ],
                    "histogram2dcontour": [
                      {
                        "colorbar": {
                          "outlinewidth": 0,
                          "ticks": ""
                        },
                        "colorscale": [
                          [
                            0,
                            "#0d0887"
                          ],
                          [
                            0.1111111111111111,
                            "#46039f"
                          ],
                          [
                            0.2222222222222222,
                            "#7201a8"
                          ],
                          [
                            0.3333333333333333,
                            "#9c179e"
                          ],
                          [
                            0.4444444444444444,
                            "#bd3786"
                          ],
                          [
                            0.5555555555555556,
                            "#d8576b"
                          ],
                          [
                            0.6666666666666666,
                            "#ed7953"
                          ],
                          [
                            0.7777777777777778,
                            "#fb9f3a"
                          ],
                          [
                            0.8888888888888888,
                            "#fdca26"
                          ],
                          [
                            1,
                            "#f0f921"
                          ]
                        ],
                        "type": "histogram2dcontour"
                      }
                    ],
                    "mesh3d": [
                      {
                        "colorbar": {
                          "outlinewidth": 0,
                          "ticks": ""
                        },
                        "type": "mesh3d"
                      }
                    ],
                    "parcoords": [
                      {
                        "line": {
                          "colorbar": {
                            "outlinewidth": 0,
                            "ticks": ""
                          }
                        },
                        "type": "parcoords"
                      }
                    ],
                    "pie": [
                      {
                        "automargin": true,
                        "type": "pie"
                      }
                    ],
                    "scatter": [
                      {
                        "fillpattern": {
                          "fillmode": "overlay",
                          "size": 10,
                          "solidity": 0.2
                        },
                        "type": "scatter"
                      }
                    ],
                    "scatter3d": [
                      {
                        "line": {
                          "colorbar": {
                            "outlinewidth": 0,
                            "ticks": ""
                          }
                        },
                        "marker": {
                          "colorbar": {
                            "outlinewidth": 0,
                            "ticks": ""
                          }
                        },
                        "type": "scatter3d"
                      }
                    ],
                    "scattercarpet": [
                      {
                        "marker": {
                          "colorbar": {
                            "outlinewidth": 0,
                            "ticks": ""
                          }
                        },
                        "type": "scattercarpet"
                      }
                    ],
                    "scattergeo": [
                      {
                        "marker": {
                          "colorbar": {
                            "outlinewidth": 0,
                            "ticks": ""
                          }
                        },
                        "type": "scattergeo"
                      }
                    ],
                    "scattergl": [
                      {
                        "marker": {
                          "colorbar": {
                            "outlinewidth": 0,
                            "ticks": ""
                          }
                        },
                        "type": "scattergl"
                      }
                    ],
                    "scattermap": [
                      {
                        "marker": {
                          "colorbar": {
                            "outlinewidth": 0,
                            "ticks": ""
                          }
                        },
                        "type": "scattermap"
                      }
                    ],
                    "scattermapbox": [
                      {
                        "marker": {
                          "colorbar": {
                            "outlinewidth": 0,
                            "ticks": ""
                          }
                        },
                        "type": "scattermapbox"
                      }
                    ],
                    "scatterpolar": [
                      {
                        "marker": {
                          "colorbar": {
                            "outlinewidth": 0,
                            "ticks": ""
                          }
                        },
                        "type": "scatterpolar"
                      }
                    ],
                    "scatterpolargl": [
                      {
                        "marker": {
                          "colorbar": {
                            "outlinewidth": 0,
                            "ticks": ""
                          }
                        },
                        "type": "scatterpolargl"
                      }
                    ],
                    "scatterternary": [
                      {
                        "marker": {
                          "colorbar": {
                            "outlinewidth": 0,
                            "ticks": ""
                          }
                        },
                        "type": "scatterternary"
                      }
                    ],
                    "surface": [
                      {
                        "colorbar": {
                          "outlinewidth": 0,
                          "ticks": ""
                        },
                        "colorscale": [
                          [
                            0,
                            "#0d0887"
                          ],
                          [
                            0.1111111111111111,
                            "#46039f"
                          ],
                          [
                            0.2222222222222222,
                            "#7201a8"
                          ],
                          [
                            0.3333333333333333,
                            "#9c179e"
                          ],
                          [
                            0.4444444444444444,
                            "#bd3786"
                          ],
                          [
                            0.5555555555555556,
                            "#d8576b"
                          ],
                          [
                            0.6666666666666666,
                            "#ed7953"
                          ],
                          [
                            0.7777777777777778,
                            "#fb9f3a"
                          ],
                          [
                            0.8888888888888888,
                            "#fdca26"
                          ],
                          [
                            1,
                            "#f0f921"
                          ]
                        ],
                        "type": "surface"
                      }
                    ],
                    "table": [
                      {
                        "cells": {
                          "fill": {
                            "color": "#EBF0F8"
                          },
                          "line": {
                            "color": "white"
                          }
                        },
                        "header": {
                          "fill": {
                            "color": "#C8D4E3"
                          },
                          "line": {
                            "color": "white"
                          }
                        },
                        "type": "table"
                      }
                    ]
                  },
                  "layout": {
                    "annotationdefaults": {
                      "arrowcolor": "#2a3f5f",
                      "arrowhead": 0,
                      "arrowwidth": 1
                    },
                    "autotypenumbers": "strict",
                    "coloraxis": {
                      "colorbar": {
                        "outlinewidth": 0,
                        "ticks": ""
                      }
                    },
                    "colorscale": {
                      "diverging": [
                        [
                          0,
                          "#8e0152"
                        ],
                        [
                          0.1,
                          "#c51b7d"
                        ],
                        [
                          0.2,
                          "#de77ae"
                        ],
                        [
                          0.3,
                          "#f1b6da"
                        ],
                        [
                          0.4,
                          "#fde0ef"
                        ],
                        [
                          0.5,
                          "#f7f7f7"
                        ],
                        [
                          0.6,
                          "#e6f5d0"
                        ],
                        [
                          0.7,
                          "#b8e186"
                        ],
                        [
                          0.8,
                          "#7fbc41"
                        ],
                        [
                          0.9,
                          "#4d9221"
                        ],
                        [
                          1,
                          "#276419"
                        ]
                      ],
                      "sequential": [
                        [
                          0,
                          "#0d0887"
                        ],
                        [
                          0.1111111111111111,
                          "#46039f"
                        ],
                        [
                          0.2222222222222222,
                          "#7201a8"
                        ],
                        [
                          0.3333333333333333,
                          "#9c179e"
                        ],
                        [
                          0.4444444444444444,
                          "#bd3786"
                        ],
                        [
                          0.5555555555555556,
                          "#d8576b"
                        ],
                        [
                          0.6666666666666666,
                          "#ed7953"
                        ],
                        [
                          0.7777777777777778,
                          "#fb9f3a"
                        ],
                        [
                          0.8888888888888888,
                          "#fdca26"
                        ],
                        [
                          1,
                          "#f0f921"
                        ]
                      ],
                      "sequentialminus": [
                        [
                          0,
                          "#0d0887"
                        ],
                        [
                          0.1111111111111111,
                          "#46039f"
                        ],
                        [
                          0.2222222222222222,
                          "#7201a8"
                        ],
                        [
                          0.3333333333333333,
                          "#9c179e"
                        ],
                        [
                          0.4444444444444444,
                          "#bd3786"
                        ],
                        [
                          0.5555555555555556,
                          "#d8576b"
                        ],
                        [
                          0.6666666666666666,
                          "#ed7953"
                        ],
                        [
                          0.7777777777777778,
                          "#fb9f3a"
                        ],
                        [
                          0.8888888888888888,
                          "#fdca26"
                        ],
                        [
                          1,
                          "#f0f921"
                        ]
                      ]
                    },
                    "colorway": [
                      "#636efa",
                      "#EF553B",
                      "#00cc96",
                      "#ab63fa",
                      "#FFA15A",
                      "#19d3f3",
                      "#FF6692",
                      "#B6E880",
                      "#FF97FF",
                      "#FECB52"
                    ],
                    "font": {
                      "color": "#2a3f5f"
                    },
                    "geo": {
                      "bgcolor": "white",
                      "lakecolor": "white",
                      "landcolor": "#E5ECF6",
                      "showlakes": true,
                      "showland": true,
                      "subunitcolor": "white"
                    },
                    "hoverlabel": {
                      "align": "left"
                    },
                    "hovermode": "closest",
                    "mapbox": {
                      "style": "light"
                    },
                    "paper_bgcolor": "white",
                    "plot_bgcolor": "#E5ECF6",
                    "polar": {
                      "angularaxis": {
                        "gridcolor": "white",
                        "linecolor": "white",
                        "ticks": ""
                      },
                      "bgcolor": "#E5ECF6",
                      "radialaxis": {
                        "gridcolor": "white",
                        "linecolor": "white",
                        "ticks": ""
                      }
                    },
                    "scene": {
                      "xaxis": {
                        "backgroundcolor": "#E5ECF6",
                        "gridcolor": "white",
                        "gridwidth": 2,
                        "linecolor": "white",
                        "showbackground": true,
                        "ticks": "",
                        "zerolinecolor": "white"
                      },
                      "yaxis": {
                        "backgroundcolor": "#E5ECF6",
                        "gridcolor": "white",
                        "gridwidth": 2,
                        "linecolor": "white",
                        "showbackground": true,
                        "ticks": "",
                        "zerolinecolor": "white"
                      },
                      "zaxis": {
                        "backgroundcolor": "#E5ECF6",
                        "gridcolor": "white",
                        "gridwidth": 2,
                        "linecolor": "white",
                        "showbackground": true,
                        "ticks": "",
                        "zerolinecolor": "white"
                      }
                    },
                    "shapedefaults": {
                      "line": {
                        "color": "#2a3f5f"
                      }
                    },
                    "ternary": {
                      "aaxis": {
                        "gridcolor": "white",
                        "linecolor": "white",
                        "ticks": ""
                      },
                      "baxis": {
                        "gridcolor": "white",
                        "linecolor": "white",
                        "ticks": ""
                      },
                      "bgcolor": "#E5ECF6",
                      "caxis": {
                        "gridcolor": "white",
                        "linecolor": "white",
                        "ticks": ""
                      }
                    },
                    "title": {
                      "x": 0.05
                    },
                    "xaxis": {
                      "automargin": true,
                      "gridcolor": "white",
                      "linecolor": "white",
                      "ticks": "",
                      "title": {
                        "standoff": 15
                      },
                      "zerolinecolor": "white",
                      "zerolinewidth": 2
                    },
                    "yaxis": {
                      "automargin": true,
                      "gridcolor": "white",
                      "linecolor": "white",
                      "ticks": "",
                      "title": {
                        "standoff": 15
                      },
                      "zerolinecolor": "white",
                      "zerolinewidth": 2
                    }
                  }
                }
              }
            }
          },
          "metadata": {},
          "output_type": "display_data"
        }
      ],
      "source": [
        "fig = go.Figure([go.Bar(x=off.index, y=off.values)])\n",
        "fig.show()"
      ]
    },
    {
      "cell_type": "code",
      "execution_count": 78,
      "id": "56fbeefb",
      "metadata": {
        "colab": {
          "base_uri": "https://localhost:8080/"
        },
        "execution": {
          "iopub.execute_input": "2022-10-14T19:27:34.496529Z",
          "iopub.status.busy": "2022-10-14T19:27:34.496124Z",
          "iopub.status.idle": "2022-10-14T19:27:34.504946Z",
          "shell.execute_reply": "2022-10-14T19:27:34.503989Z"
        },
        "id": "56fbeefb",
        "outputId": "b3c3416a-9024-401b-b934-848d838b0c6e",
        "papermill": {
          "duration": 0.03816,
          "end_time": "2022-10-14T19:27:34.507117",
          "exception": false,
          "start_time": "2022-10-14T19:27:34.468957",
          "status": "completed"
        },
        "tags": []
      },
      "outputs": [
        {
          "data": {
            "text/plain": [
              "Offer\n",
              "Offer B    204\n",
              "Offer A    171\n",
              "Offer E    126\n",
              "Offer D    119\n",
              "Offer C     96\n",
              "Name: count, dtype: int64"
            ]
          },
          "execution_count": 78,
          "metadata": {},
          "output_type": "execute_result"
        }
      ],
      "source": [
        "df1_off = Roles['Credit Card'].Offer.value_counts()\n",
        "df1_off"
      ]
    },
    {
      "cell_type": "code",
      "execution_count": 79,
      "id": "322f15f8",
      "metadata": {
        "colab": {
          "base_uri": "https://localhost:8080/",
          "height": 542
        },
        "execution": {
          "iopub.execute_input": "2022-10-14T19:27:34.561097Z",
          "iopub.status.busy": "2022-10-14T19:27:34.560006Z",
          "iopub.status.idle": "2022-10-14T19:27:34.571294Z",
          "shell.execute_reply": "2022-10-14T19:27:34.570257Z"
        },
        "id": "322f15f8",
        "outputId": "b708dfcd-a01f-42b0-c0e3-c7811411e217",
        "papermill": {
          "duration": 0.040662,
          "end_time": "2022-10-14T19:27:34.573417",
          "exception": false,
          "start_time": "2022-10-14T19:27:34.532755",
          "status": "completed"
        },
        "tags": []
      },
      "outputs": [
        {
          "data": {
            "application/vnd.plotly.v1+json": {
              "config": {
                "plotlyServerURL": "https://plot.ly"
              },
              "data": [
                {
                  "type": "bar",
                  "x": [
                    "Offer B",
                    "Offer A",
                    "Offer E",
                    "Offer D",
                    "Offer C"
                  ],
                  "y": {
                    "bdata": "zACrAH4AdwBgAA==",
                    "dtype": "i2"
                  }
                }
              ],
              "layout": {
                "template": {
                  "data": {
                    "bar": [
                      {
                        "error_x": {
                          "color": "#2a3f5f"
                        },
                        "error_y": {
                          "color": "#2a3f5f"
                        },
                        "marker": {
                          "line": {
                            "color": "#E5ECF6",
                            "width": 0.5
                          },
                          "pattern": {
                            "fillmode": "overlay",
                            "size": 10,
                            "solidity": 0.2
                          }
                        },
                        "type": "bar"
                      }
                    ],
                    "barpolar": [
                      {
                        "marker": {
                          "line": {
                            "color": "#E5ECF6",
                            "width": 0.5
                          },
                          "pattern": {
                            "fillmode": "overlay",
                            "size": 10,
                            "solidity": 0.2
                          }
                        },
                        "type": "barpolar"
                      }
                    ],
                    "carpet": [
                      {
                        "aaxis": {
                          "endlinecolor": "#2a3f5f",
                          "gridcolor": "white",
                          "linecolor": "white",
                          "minorgridcolor": "white",
                          "startlinecolor": "#2a3f5f"
                        },
                        "baxis": {
                          "endlinecolor": "#2a3f5f",
                          "gridcolor": "white",
                          "linecolor": "white",
                          "minorgridcolor": "white",
                          "startlinecolor": "#2a3f5f"
                        },
                        "type": "carpet"
                      }
                    ],
                    "choropleth": [
                      {
                        "colorbar": {
                          "outlinewidth": 0,
                          "ticks": ""
                        },
                        "type": "choropleth"
                      }
                    ],
                    "contour": [
                      {
                        "colorbar": {
                          "outlinewidth": 0,
                          "ticks": ""
                        },
                        "colorscale": [
                          [
                            0,
                            "#0d0887"
                          ],
                          [
                            0.1111111111111111,
                            "#46039f"
                          ],
                          [
                            0.2222222222222222,
                            "#7201a8"
                          ],
                          [
                            0.3333333333333333,
                            "#9c179e"
                          ],
                          [
                            0.4444444444444444,
                            "#bd3786"
                          ],
                          [
                            0.5555555555555556,
                            "#d8576b"
                          ],
                          [
                            0.6666666666666666,
                            "#ed7953"
                          ],
                          [
                            0.7777777777777778,
                            "#fb9f3a"
                          ],
                          [
                            0.8888888888888888,
                            "#fdca26"
                          ],
                          [
                            1,
                            "#f0f921"
                          ]
                        ],
                        "type": "contour"
                      }
                    ],
                    "contourcarpet": [
                      {
                        "colorbar": {
                          "outlinewidth": 0,
                          "ticks": ""
                        },
                        "type": "contourcarpet"
                      }
                    ],
                    "heatmap": [
                      {
                        "colorbar": {
                          "outlinewidth": 0,
                          "ticks": ""
                        },
                        "colorscale": [
                          [
                            0,
                            "#0d0887"
                          ],
                          [
                            0.1111111111111111,
                            "#46039f"
                          ],
                          [
                            0.2222222222222222,
                            "#7201a8"
                          ],
                          [
                            0.3333333333333333,
                            "#9c179e"
                          ],
                          [
                            0.4444444444444444,
                            "#bd3786"
                          ],
                          [
                            0.5555555555555556,
                            "#d8576b"
                          ],
                          [
                            0.6666666666666666,
                            "#ed7953"
                          ],
                          [
                            0.7777777777777778,
                            "#fb9f3a"
                          ],
                          [
                            0.8888888888888888,
                            "#fdca26"
                          ],
                          [
                            1,
                            "#f0f921"
                          ]
                        ],
                        "type": "heatmap"
                      }
                    ],
                    "histogram": [
                      {
                        "marker": {
                          "pattern": {
                            "fillmode": "overlay",
                            "size": 10,
                            "solidity": 0.2
                          }
                        },
                        "type": "histogram"
                      }
                    ],
                    "histogram2d": [
                      {
                        "colorbar": {
                          "outlinewidth": 0,
                          "ticks": ""
                        },
                        "colorscale": [
                          [
                            0,
                            "#0d0887"
                          ],
                          [
                            0.1111111111111111,
                            "#46039f"
                          ],
                          [
                            0.2222222222222222,
                            "#7201a8"
                          ],
                          [
                            0.3333333333333333,
                            "#9c179e"
                          ],
                          [
                            0.4444444444444444,
                            "#bd3786"
                          ],
                          [
                            0.5555555555555556,
                            "#d8576b"
                          ],
                          [
                            0.6666666666666666,
                            "#ed7953"
                          ],
                          [
                            0.7777777777777778,
                            "#fb9f3a"
                          ],
                          [
                            0.8888888888888888,
                            "#fdca26"
                          ],
                          [
                            1,
                            "#f0f921"
                          ]
                        ],
                        "type": "histogram2d"
                      }
                    ],
                    "histogram2dcontour": [
                      {
                        "colorbar": {
                          "outlinewidth": 0,
                          "ticks": ""
                        },
                        "colorscale": [
                          [
                            0,
                            "#0d0887"
                          ],
                          [
                            0.1111111111111111,
                            "#46039f"
                          ],
                          [
                            0.2222222222222222,
                            "#7201a8"
                          ],
                          [
                            0.3333333333333333,
                            "#9c179e"
                          ],
                          [
                            0.4444444444444444,
                            "#bd3786"
                          ],
                          [
                            0.5555555555555556,
                            "#d8576b"
                          ],
                          [
                            0.6666666666666666,
                            "#ed7953"
                          ],
                          [
                            0.7777777777777778,
                            "#fb9f3a"
                          ],
                          [
                            0.8888888888888888,
                            "#fdca26"
                          ],
                          [
                            1,
                            "#f0f921"
                          ]
                        ],
                        "type": "histogram2dcontour"
                      }
                    ],
                    "mesh3d": [
                      {
                        "colorbar": {
                          "outlinewidth": 0,
                          "ticks": ""
                        },
                        "type": "mesh3d"
                      }
                    ],
                    "parcoords": [
                      {
                        "line": {
                          "colorbar": {
                            "outlinewidth": 0,
                            "ticks": ""
                          }
                        },
                        "type": "parcoords"
                      }
                    ],
                    "pie": [
                      {
                        "automargin": true,
                        "type": "pie"
                      }
                    ],
                    "scatter": [
                      {
                        "fillpattern": {
                          "fillmode": "overlay",
                          "size": 10,
                          "solidity": 0.2
                        },
                        "type": "scatter"
                      }
                    ],
                    "scatter3d": [
                      {
                        "line": {
                          "colorbar": {
                            "outlinewidth": 0,
                            "ticks": ""
                          }
                        },
                        "marker": {
                          "colorbar": {
                            "outlinewidth": 0,
                            "ticks": ""
                          }
                        },
                        "type": "scatter3d"
                      }
                    ],
                    "scattercarpet": [
                      {
                        "marker": {
                          "colorbar": {
                            "outlinewidth": 0,
                            "ticks": ""
                          }
                        },
                        "type": "scattercarpet"
                      }
                    ],
                    "scattergeo": [
                      {
                        "marker": {
                          "colorbar": {
                            "outlinewidth": 0,
                            "ticks": ""
                          }
                        },
                        "type": "scattergeo"
                      }
                    ],
                    "scattergl": [
                      {
                        "marker": {
                          "colorbar": {
                            "outlinewidth": 0,
                            "ticks": ""
                          }
                        },
                        "type": "scattergl"
                      }
                    ],
                    "scattermap": [
                      {
                        "marker": {
                          "colorbar": {
                            "outlinewidth": 0,
                            "ticks": ""
                          }
                        },
                        "type": "scattermap"
                      }
                    ],
                    "scattermapbox": [
                      {
                        "marker": {
                          "colorbar": {
                            "outlinewidth": 0,
                            "ticks": ""
                          }
                        },
                        "type": "scattermapbox"
                      }
                    ],
                    "scatterpolar": [
                      {
                        "marker": {
                          "colorbar": {
                            "outlinewidth": 0,
                            "ticks": ""
                          }
                        },
                        "type": "scatterpolar"
                      }
                    ],
                    "scatterpolargl": [
                      {
                        "marker": {
                          "colorbar": {
                            "outlinewidth": 0,
                            "ticks": ""
                          }
                        },
                        "type": "scatterpolargl"
                      }
                    ],
                    "scatterternary": [
                      {
                        "marker": {
                          "colorbar": {
                            "outlinewidth": 0,
                            "ticks": ""
                          }
                        },
                        "type": "scatterternary"
                      }
                    ],
                    "surface": [
                      {
                        "colorbar": {
                          "outlinewidth": 0,
                          "ticks": ""
                        },
                        "colorscale": [
                          [
                            0,
                            "#0d0887"
                          ],
                          [
                            0.1111111111111111,
                            "#46039f"
                          ],
                          [
                            0.2222222222222222,
                            "#7201a8"
                          ],
                          [
                            0.3333333333333333,
                            "#9c179e"
                          ],
                          [
                            0.4444444444444444,
                            "#bd3786"
                          ],
                          [
                            0.5555555555555556,
                            "#d8576b"
                          ],
                          [
                            0.6666666666666666,
                            "#ed7953"
                          ],
                          [
                            0.7777777777777778,
                            "#fb9f3a"
                          ],
                          [
                            0.8888888888888888,
                            "#fdca26"
                          ],
                          [
                            1,
                            "#f0f921"
                          ]
                        ],
                        "type": "surface"
                      }
                    ],
                    "table": [
                      {
                        "cells": {
                          "fill": {
                            "color": "#EBF0F8"
                          },
                          "line": {
                            "color": "white"
                          }
                        },
                        "header": {
                          "fill": {
                            "color": "#C8D4E3"
                          },
                          "line": {
                            "color": "white"
                          }
                        },
                        "type": "table"
                      }
                    ]
                  },
                  "layout": {
                    "annotationdefaults": {
                      "arrowcolor": "#2a3f5f",
                      "arrowhead": 0,
                      "arrowwidth": 1
                    },
                    "autotypenumbers": "strict",
                    "coloraxis": {
                      "colorbar": {
                        "outlinewidth": 0,
                        "ticks": ""
                      }
                    },
                    "colorscale": {
                      "diverging": [
                        [
                          0,
                          "#8e0152"
                        ],
                        [
                          0.1,
                          "#c51b7d"
                        ],
                        [
                          0.2,
                          "#de77ae"
                        ],
                        [
                          0.3,
                          "#f1b6da"
                        ],
                        [
                          0.4,
                          "#fde0ef"
                        ],
                        [
                          0.5,
                          "#f7f7f7"
                        ],
                        [
                          0.6,
                          "#e6f5d0"
                        ],
                        [
                          0.7,
                          "#b8e186"
                        ],
                        [
                          0.8,
                          "#7fbc41"
                        ],
                        [
                          0.9,
                          "#4d9221"
                        ],
                        [
                          1,
                          "#276419"
                        ]
                      ],
                      "sequential": [
                        [
                          0,
                          "#0d0887"
                        ],
                        [
                          0.1111111111111111,
                          "#46039f"
                        ],
                        [
                          0.2222222222222222,
                          "#7201a8"
                        ],
                        [
                          0.3333333333333333,
                          "#9c179e"
                        ],
                        [
                          0.4444444444444444,
                          "#bd3786"
                        ],
                        [
                          0.5555555555555556,
                          "#d8576b"
                        ],
                        [
                          0.6666666666666666,
                          "#ed7953"
                        ],
                        [
                          0.7777777777777778,
                          "#fb9f3a"
                        ],
                        [
                          0.8888888888888888,
                          "#fdca26"
                        ],
                        [
                          1,
                          "#f0f921"
                        ]
                      ],
                      "sequentialminus": [
                        [
                          0,
                          "#0d0887"
                        ],
                        [
                          0.1111111111111111,
                          "#46039f"
                        ],
                        [
                          0.2222222222222222,
                          "#7201a8"
                        ],
                        [
                          0.3333333333333333,
                          "#9c179e"
                        ],
                        [
                          0.4444444444444444,
                          "#bd3786"
                        ],
                        [
                          0.5555555555555556,
                          "#d8576b"
                        ],
                        [
                          0.6666666666666666,
                          "#ed7953"
                        ],
                        [
                          0.7777777777777778,
                          "#fb9f3a"
                        ],
                        [
                          0.8888888888888888,
                          "#fdca26"
                        ],
                        [
                          1,
                          "#f0f921"
                        ]
                      ]
                    },
                    "colorway": [
                      "#636efa",
                      "#EF553B",
                      "#00cc96",
                      "#ab63fa",
                      "#FFA15A",
                      "#19d3f3",
                      "#FF6692",
                      "#B6E880",
                      "#FF97FF",
                      "#FECB52"
                    ],
                    "font": {
                      "color": "#2a3f5f"
                    },
                    "geo": {
                      "bgcolor": "white",
                      "lakecolor": "white",
                      "landcolor": "#E5ECF6",
                      "showlakes": true,
                      "showland": true,
                      "subunitcolor": "white"
                    },
                    "hoverlabel": {
                      "align": "left"
                    },
                    "hovermode": "closest",
                    "mapbox": {
                      "style": "light"
                    },
                    "paper_bgcolor": "white",
                    "plot_bgcolor": "#E5ECF6",
                    "polar": {
                      "angularaxis": {
                        "gridcolor": "white",
                        "linecolor": "white",
                        "ticks": ""
                      },
                      "bgcolor": "#E5ECF6",
                      "radialaxis": {
                        "gridcolor": "white",
                        "linecolor": "white",
                        "ticks": ""
                      }
                    },
                    "scene": {
                      "xaxis": {
                        "backgroundcolor": "#E5ECF6",
                        "gridcolor": "white",
                        "gridwidth": 2,
                        "linecolor": "white",
                        "showbackground": true,
                        "ticks": "",
                        "zerolinecolor": "white"
                      },
                      "yaxis": {
                        "backgroundcolor": "#E5ECF6",
                        "gridcolor": "white",
                        "gridwidth": 2,
                        "linecolor": "white",
                        "showbackground": true,
                        "ticks": "",
                        "zerolinecolor": "white"
                      },
                      "zaxis": {
                        "backgroundcolor": "#E5ECF6",
                        "gridcolor": "white",
                        "gridwidth": 2,
                        "linecolor": "white",
                        "showbackground": true,
                        "ticks": "",
                        "zerolinecolor": "white"
                      }
                    },
                    "shapedefaults": {
                      "line": {
                        "color": "#2a3f5f"
                      }
                    },
                    "ternary": {
                      "aaxis": {
                        "gridcolor": "white",
                        "linecolor": "white",
                        "ticks": ""
                      },
                      "baxis": {
                        "gridcolor": "white",
                        "linecolor": "white",
                        "ticks": ""
                      },
                      "bgcolor": "#E5ECF6",
                      "caxis": {
                        "gridcolor": "white",
                        "linecolor": "white",
                        "ticks": ""
                      }
                    },
                    "title": {
                      "x": 0.05
                    },
                    "xaxis": {
                      "automargin": true,
                      "gridcolor": "white",
                      "linecolor": "white",
                      "ticks": "",
                      "title": {
                        "standoff": 15
                      },
                      "zerolinecolor": "white",
                      "zerolinewidth": 2
                    },
                    "yaxis": {
                      "automargin": true,
                      "gridcolor": "white",
                      "linecolor": "white",
                      "ticks": "",
                      "title": {
                        "standoff": 15
                      },
                      "zerolinecolor": "white",
                      "zerolinewidth": 2
                    }
                  }
                }
              }
            }
          },
          "metadata": {},
          "output_type": "display_data"
        }
      ],
      "source": [
        "fig = go.Figure([go.Bar(x= df1_off.index, y=df1_off.values)])\n",
        "fig.show()"
      ]
    },
    {
      "cell_type": "code",
      "execution_count": 80,
      "id": "52a076a2",
      "metadata": {
        "execution": {
          "iopub.execute_input": "2022-10-14T19:27:34.834255Z",
          "iopub.status.busy": "2022-10-14T19:27:34.833705Z",
          "iopub.status.idle": "2022-10-14T19:27:34.841525Z",
          "shell.execute_reply": "2022-10-14T19:27:34.840625Z"
        },
        "id": "52a076a2",
        "papermill": {
          "duration": 0.040141,
          "end_time": "2022-10-14T19:27:34.843979",
          "exception": false,
          "start_time": "2022-10-14T19:27:34.803838",
          "status": "completed"
        },
        "tags": []
      },
      "outputs": [],
      "source": [
        "df1 = df1.rename(columns = {'Customer Status':'Customer_Status'})"
      ]
    },
    {
      "cell_type": "code",
      "execution_count": 81,
      "id": "77eaeec8",
      "metadata": {
        "colab": {
          "base_uri": "https://localhost:8080/"
        },
        "execution": {
          "iopub.execute_input": "2022-10-14T19:27:34.898698Z",
          "iopub.status.busy": "2022-10-14T19:27:34.898321Z",
          "iopub.status.idle": "2022-10-14T19:27:34.911705Z",
          "shell.execute_reply": "2022-10-14T19:27:34.910590Z"
        },
        "id": "77eaeec8",
        "outputId": "98e74e8b-981a-4e5f-996c-88b7bacf40ac",
        "papermill": {
          "duration": 0.043025,
          "end_time": "2022-10-14T19:27:34.913905",
          "exception": false,
          "start_time": "2022-10-14T19:27:34.870880",
          "status": "completed"
        },
        "tags": []
      },
      "outputs": [
        {
          "data": {
            "text/plain": [
              "dict_keys(['Churned', 'Stayed', 'Joined'])"
            ]
          },
          "execution_count": 81,
          "metadata": {},
          "output_type": "execute_result"
        }
      ],
      "source": [
        "Roles1 = {}\n",
        "for k in df1['Customer_Status'].unique():\n",
        "    Roles1[k] = df1[df1['Customer_Status'] == k]\n",
        "Roles1.keys()"
      ]
    },
    {
      "cell_type": "code",
      "execution_count": 82,
      "id": "9c7e3068",
      "metadata": {
        "colab": {
          "base_uri": "https://localhost:8080/"
        },
        "execution": {
          "iopub.execute_input": "2022-10-14T19:27:34.969365Z",
          "iopub.status.busy": "2022-10-14T19:27:34.968519Z",
          "iopub.status.idle": "2022-10-14T19:27:34.977299Z",
          "shell.execute_reply": "2022-10-14T19:27:34.976174Z"
        },
        "id": "9c7e3068",
        "outputId": "884a9477-5052-4c1d-9a9d-db3bb1bdccbb",
        "papermill": {
          "duration": 0.039495,
          "end_time": "2022-10-14T19:27:34.979541",
          "exception": false,
          "start_time": "2022-10-14T19:27:34.940046",
          "status": "completed"
        },
        "tags": []
      },
      "outputs": [
        {
          "data": {
            "text/plain": [
              "Offer\n",
              "Offer B    497\n",
              "Offer A    348\n",
              "Offer D    250\n",
              "Offer C    204\n",
              "Offer E    115\n",
              "Name: count, dtype: int64"
            ]
          },
          "execution_count": 82,
          "metadata": {},
          "output_type": "execute_result"
        }
      ],
      "source": [
        "df1_state = Roles1['Stayed'].Offer.value_counts()\n",
        "df1_state"
      ]
    },
    {
      "cell_type": "markdown",
      "id": "Yg1HCCWcEtx4",
      "metadata": {
        "id": "Yg1HCCWcEtx4"
      },
      "source": [
        "# Data Modelling"
      ]
    },
    {
      "cell_type": "markdown",
      "id": "PftsPlJeE4NW",
      "metadata": {
        "id": "PftsPlJeE4NW"
      },
      "source": [
        "Replacing the Gender column in the dataset with Label Encoding\n",
        "\n",
        "0 for Female\n",
        "\n",
        "1 for Male"
      ]
    },
    {
      "cell_type": "code",
      "execution_count": 83,
      "id": "85c77767",
      "metadata": {
        "execution": {
          "iopub.execute_input": "2022-10-14T19:27:35.202098Z",
          "iopub.status.busy": "2022-10-14T19:27:35.201695Z",
          "iopub.status.idle": "2022-10-14T19:27:35.212163Z",
          "shell.execute_reply": "2022-10-14T19:27:35.211093Z"
        },
        "id": "85c77767",
        "papermill": {
          "duration": 0.040413,
          "end_time": "2022-10-14T19:27:35.214369",
          "exception": false,
          "start_time": "2022-10-14T19:27:35.173956",
          "status": "completed"
        },
        "tags": []
      },
      "outputs": [
        {
          "name": "stderr",
          "output_type": "stream",
          "text": [
            "C:\\Users\\samar\\AppData\\Local\\Temp\\ipykernel_14464\\531827344.py:1: FutureWarning:\n",
            "\n",
            "Downcasting behavior in `replace` is deprecated and will be removed in a future version. To retain the old behavior, explicitly call `result.infer_objects(copy=False)`. To opt-in to the future behavior, set `pd.set_option('future.no_silent_downcasting', True)`\n",
            "\n"
          ]
        }
      ],
      "source": [
        "df1.replace({\"Gender\":{'Female':0,'Male':1}},inplace=True)"
      ]
    },
    {
      "cell_type": "markdown",
      "id": "J5zHscVrFH1H",
      "metadata": {
        "id": "J5zHscVrFH1H"
      },
      "source": [
        "Replacing the columns with 'yes' and 'no' output by Label Encoding\n",
        "\n",
        "0 for No\n",
        "\n",
        "1 for Yes"
      ]
    },
    {
      "cell_type": "code",
      "execution_count": 84,
      "id": "7a327c67",
      "metadata": {
        "execution": {
          "iopub.execute_input": "2022-10-14T19:27:35.270763Z",
          "iopub.status.busy": "2022-10-14T19:27:35.270340Z",
          "iopub.status.idle": "2022-10-14T19:27:35.342971Z",
          "shell.execute_reply": "2022-10-14T19:27:35.341855Z"
        },
        "id": "7a327c67",
        "papermill": {
          "duration": 0.104966,
          "end_time": "2022-10-14T19:27:35.345559",
          "exception": false,
          "start_time": "2022-10-14T19:27:35.240593",
          "status": "completed"
        },
        "tags": []
      },
      "outputs": [
        {
          "name": "stderr",
          "output_type": "stream",
          "text": [
            "C:\\Users\\samar\\AppData\\Local\\Temp\\ipykernel_14464\\547447454.py:6: FutureWarning:\n",
            "\n",
            "Downcasting behavior in `replace` is deprecated and will be removed in a future version. To retain the old behavior, explicitly call `result.infer_objects(copy=False)`. To opt-in to the future behavior, set `pd.set_option('future.no_silent_downcasting', True)`\n",
            "\n"
          ]
        }
      ],
      "source": [
        "yes_and_no=[  'Paperless Billing', 'Unlimited Data', \n",
        "       'Streaming Movies', 'Streaming Music',  'Streaming TV',\n",
        "       'Premium Tech Support', 'Device Protection Plan', 'Online Backup', 'Online Security',\n",
        "       'Multiple Lines',  'Married']\n",
        "for i in yes_and_no:\n",
        "    df1.replace({'No':0,'Yes':1},inplace=True)"
      ]
    },
    {
      "cell_type": "markdown",
      "id": "IOCkhHKwFVGa",
      "metadata": {
        "id": "IOCkhHKwFVGa"
      },
      "source": [
        "Replacing 'Phone Service' with '1'"
      ]
    },
    {
      "cell_type": "code",
      "execution_count": 85,
      "id": "59dc1c68",
      "metadata": {
        "execution": {
          "iopub.execute_input": "2022-10-14T19:27:35.400064Z",
          "iopub.status.busy": "2022-10-14T19:27:35.399660Z",
          "iopub.status.idle": "2022-10-14T19:27:35.405480Z",
          "shell.execute_reply": "2022-10-14T19:27:35.404532Z"
        },
        "id": "59dc1c68",
        "papermill": {
          "duration": 0.035833,
          "end_time": "2022-10-14T19:27:35.407539",
          "exception": false,
          "start_time": "2022-10-14T19:27:35.371706",
          "status": "completed"
        },
        "tags": []
      },
      "outputs": [],
      "source": [
        "df1.replace({\"Phone Service\":{'Yes':1}},inplace=True)"
      ]
    },
    {
      "cell_type": "code",
      "execution_count": 86,
      "id": "eb367c0c",
      "metadata": {
        "execution": {
          "iopub.execute_input": "2022-10-14T19:27:35.463686Z",
          "iopub.status.busy": "2022-10-14T19:27:35.463271Z",
          "iopub.status.idle": "2022-10-14T19:27:35.471349Z",
          "shell.execute_reply": "2022-10-14T19:27:35.470004Z"
        },
        "id": "eb367c0c",
        "papermill": {
          "duration": 0.039663,
          "end_time": "2022-10-14T19:27:35.473711",
          "exception": false,
          "start_time": "2022-10-14T19:27:35.434048",
          "status": "completed"
        },
        "tags": []
      },
      "outputs": [],
      "source": [
        "from sklearn.preprocessing import LabelEncoder\n",
        "le = LabelEncoder()\n",
        "df1.Customer_Status = le.fit_transform(df1.Customer_Status)\n"
      ]
    },
    {
      "cell_type": "code",
      "execution_count": 87,
      "id": "b7c49b6c",
      "metadata": {
        "execution": {
          "iopub.execute_input": "2022-10-14T19:27:35.528671Z",
          "iopub.status.busy": "2022-10-14T19:27:35.528257Z",
          "iopub.status.idle": "2022-10-14T19:27:35.583180Z",
          "shell.execute_reply": "2022-10-14T19:27:35.581768Z"
        },
        "id": "b7c49b6c",
        "papermill": {
          "duration": 0.084858,
          "end_time": "2022-10-14T19:27:35.585654",
          "exception": false,
          "start_time": "2022-10-14T19:27:35.500796",
          "status": "completed"
        },
        "tags": []
      },
      "outputs": [],
      "source": [
        "df1 = pd.get_dummies(data=df1, columns=['Payment Method','Contract','Internet Type','Offer','City'])\n"
      ]
    },
    {
      "cell_type": "code",
      "execution_count": 88,
      "id": "09530a5e",
      "metadata": {
        "execution": {
          "iopub.execute_input": "2022-10-14T19:27:35.641694Z",
          "iopub.status.busy": "2022-10-14T19:27:35.641333Z",
          "iopub.status.idle": "2022-10-14T19:27:35.662486Z",
          "shell.execute_reply": "2022-10-14T19:27:35.661266Z"
        },
        "id": "09530a5e",
        "papermill": {
          "duration": 0.052448,
          "end_time": "2022-10-14T19:27:35.665111",
          "exception": false,
          "start_time": "2022-10-14T19:27:35.612663",
          "status": "completed"
        },
        "tags": []
      },
      "outputs": [],
      "source": [
        "cols_to_scale = ['Age','Number of Dependents','Number of Referrals','Tenure in Months','Avg Monthly Long Distance Charges','Avg Monthly GB Download','Monthly Charge', 'Total Charges',\n",
        "       'Total Extra Data Charges', 'Total Long Distance Charges','Total Revenue']\n",
        "\n",
        "from sklearn.preprocessing import MinMaxScaler\n",
        "scaler = MinMaxScaler()\n",
        "df1[cols_to_scale] = scaler.fit_transform(df1[cols_to_scale])"
      ]
    },
    {
      "cell_type": "markdown",
      "id": "uxHvvwfmFe7Y",
      "metadata": {
        "id": "uxHvvwfmFe7Y"
      },
      "source": [
        "## Dealing with Imbalance Data"
      ]
    },
    {
      "cell_type": "markdown",
      "id": "-DCSCSzyFlGG",
      "metadata": {
        "id": "-DCSCSzyFlGG"
      },
      "source": [
        "Dropping the Customer_Status\n",
        "\n",
        "i.e. The column tht we have to predict and set as a dependent variable"
      ]
    },
    {
      "cell_type": "code",
      "execution_count": 89,
      "id": "ec5c4b60",
      "metadata": {
        "execution": {
          "iopub.execute_input": "2022-10-14T19:27:35.780777Z",
          "iopub.status.busy": "2022-10-14T19:27:35.780346Z",
          "iopub.status.idle": "2022-10-14T19:27:35.800628Z",
          "shell.execute_reply": "2022-10-14T19:27:35.799398Z"
        },
        "id": "ec5c4b60",
        "papermill": {
          "duration": 0.050573,
          "end_time": "2022-10-14T19:27:35.803202",
          "exception": false,
          "start_time": "2022-10-14T19:27:35.752629",
          "status": "completed"
        },
        "tags": []
      },
      "outputs": [],
      "source": [
        "X = df1.drop('Customer_Status',axis='columns')\n",
        "y = df1['Customer_Status']"
      ]
    },
    {
      "cell_type": "code",
      "execution_count": 90,
      "id": "5b11c9f5",
      "metadata": {
        "colab": {
          "base_uri": "https://localhost:8080/",
          "height": 369
        },
        "execution": {
          "iopub.execute_input": "2022-10-14T19:27:35.858156Z",
          "iopub.status.busy": "2022-10-14T19:27:35.857762Z",
          "iopub.status.idle": "2022-10-14T19:27:35.879962Z",
          "shell.execute_reply": "2022-10-14T19:27:35.879201Z"
        },
        "id": "5b11c9f5",
        "outputId": "8107669d-1569-4cd5-85e9-7abf0c8e8d89",
        "papermill": {
          "duration": 0.051863,
          "end_time": "2022-10-14T19:27:35.881961",
          "exception": false,
          "start_time": "2022-10-14T19:27:35.830098",
          "status": "completed"
        },
        "tags": []
      },
      "outputs": [
        {
          "data": {
            "text/html": [
              "<div>\n",
              "<style scoped>\n",
              "    .dataframe tbody tr th:only-of-type {\n",
              "        vertical-align: middle;\n",
              "    }\n",
              "\n",
              "    .dataframe tbody tr th {\n",
              "        vertical-align: top;\n",
              "    }\n",
              "\n",
              "    .dataframe thead th {\n",
              "        text-align: right;\n",
              "    }\n",
              "</style>\n",
              "<table border=\"1\" class=\"dataframe\">\n",
              "  <thead>\n",
              "    <tr style=\"text-align: right;\">\n",
              "      <th></th>\n",
              "      <th>Gender</th>\n",
              "      <th>Age</th>\n",
              "      <th>Married</th>\n",
              "      <th>Number of Dependents</th>\n",
              "      <th>Number of Referrals</th>\n",
              "      <th>Tenure in Months</th>\n",
              "      <th>Phone Service</th>\n",
              "      <th>Avg Monthly Long Distance Charges</th>\n",
              "      <th>Multiple Lines</th>\n",
              "      <th>Internet Service</th>\n",
              "      <th>...</th>\n",
              "      <th>City_Woodland Hills</th>\n",
              "      <th>City_Woody</th>\n",
              "      <th>City_Wrightwood</th>\n",
              "      <th>City_Yermo</th>\n",
              "      <th>City_Yorba Linda</th>\n",
              "      <th>City_Yorkville</th>\n",
              "      <th>City_Yreka</th>\n",
              "      <th>City_Yuba City</th>\n",
              "      <th>City_Yucaipa</th>\n",
              "      <th>City_Yucca Valley</th>\n",
              "    </tr>\n",
              "  </thead>\n",
              "  <tbody>\n",
              "    <tr>\n",
              "      <th>2</th>\n",
              "      <td>1</td>\n",
              "      <td>0.508197</td>\n",
              "      <td>0</td>\n",
              "      <td>0.000</td>\n",
              "      <td>0.0</td>\n",
              "      <td>0.042254</td>\n",
              "      <td>1</td>\n",
              "      <td>0.666462</td>\n",
              "      <td>0</td>\n",
              "      <td>1</td>\n",
              "      <td>...</td>\n",
              "      <td>False</td>\n",
              "      <td>False</td>\n",
              "      <td>False</td>\n",
              "      <td>False</td>\n",
              "      <td>False</td>\n",
              "      <td>False</td>\n",
              "      <td>False</td>\n",
              "      <td>False</td>\n",
              "      <td>False</td>\n",
              "      <td>False</td>\n",
              "    </tr>\n",
              "    <tr>\n",
              "      <th>3</th>\n",
              "      <td>1</td>\n",
              "      <td>0.967213</td>\n",
              "      <td>1</td>\n",
              "      <td>0.000</td>\n",
              "      <td>0.1</td>\n",
              "      <td>0.169014</td>\n",
              "      <td>1</td>\n",
              "      <td>0.547386</td>\n",
              "      <td>0</td>\n",
              "      <td>1</td>\n",
              "      <td>...</td>\n",
              "      <td>False</td>\n",
              "      <td>False</td>\n",
              "      <td>False</td>\n",
              "      <td>False</td>\n",
              "      <td>False</td>\n",
              "      <td>False</td>\n",
              "      <td>False</td>\n",
              "      <td>False</td>\n",
              "      <td>False</td>\n",
              "      <td>False</td>\n",
              "    </tr>\n",
              "    <tr>\n",
              "      <th>5</th>\n",
              "      <td>0</td>\n",
              "      <td>0.065574</td>\n",
              "      <td>0</td>\n",
              "      <td>0.375</td>\n",
              "      <td>0.0</td>\n",
              "      <td>0.112676</td>\n",
              "      <td>1</td>\n",
              "      <td>0.321691</td>\n",
              "      <td>0</td>\n",
              "      <td>1</td>\n",
              "      <td>...</td>\n",
              "      <td>False</td>\n",
              "      <td>False</td>\n",
              "      <td>False</td>\n",
              "      <td>False</td>\n",
              "      <td>False</td>\n",
              "      <td>False</td>\n",
              "      <td>False</td>\n",
              "      <td>False</td>\n",
              "      <td>False</td>\n",
              "      <td>False</td>\n",
              "    </tr>\n",
              "    <tr>\n",
              "      <th>6</th>\n",
              "      <td>0</td>\n",
              "      <td>0.786885</td>\n",
              "      <td>1</td>\n",
              "      <td>0.000</td>\n",
              "      <td>0.1</td>\n",
              "      <td>0.985915</td>\n",
              "      <td>1</td>\n",
              "      <td>0.182598</td>\n",
              "      <td>0</td>\n",
              "      <td>1</td>\n",
              "      <td>...</td>\n",
              "      <td>False</td>\n",
              "      <td>False</td>\n",
              "      <td>False</td>\n",
              "      <td>False</td>\n",
              "      <td>False</td>\n",
              "      <td>False</td>\n",
              "      <td>False</td>\n",
              "      <td>False</td>\n",
              "      <td>False</td>\n",
              "      <td>False</td>\n",
              "    </tr>\n",
              "    <tr>\n",
              "      <th>7</th>\n",
              "      <td>1</td>\n",
              "      <td>0.540984</td>\n",
              "      <td>1</td>\n",
              "      <td>0.000</td>\n",
              "      <td>0.8</td>\n",
              "      <td>0.873239</td>\n",
              "      <td>1</td>\n",
              "      <td>0.243873</td>\n",
              "      <td>1</td>\n",
              "      <td>1</td>\n",
              "      <td>...</td>\n",
              "      <td>False</td>\n",
              "      <td>False</td>\n",
              "      <td>False</td>\n",
              "      <td>False</td>\n",
              "      <td>False</td>\n",
              "      <td>False</td>\n",
              "      <td>False</td>\n",
              "      <td>False</td>\n",
              "      <td>False</td>\n",
              "      <td>False</td>\n",
              "    </tr>\n",
              "  </tbody>\n",
              "</table>\n",
              "<p>5 rows × 928 columns</p>\n",
              "</div>"
            ],
            "text/plain": [
              "   Gender       Age  Married  Number of Dependents  Number of Referrals  \\\n",
              "2       1  0.508197        0                 0.000                  0.0   \n",
              "3       1  0.967213        1                 0.000                  0.1   \n",
              "5       0  0.065574        0                 0.375                  0.0   \n",
              "6       0  0.786885        1                 0.000                  0.1   \n",
              "7       1  0.540984        1                 0.000                  0.8   \n",
              "\n",
              "   Tenure in Months  Phone Service  Avg Monthly Long Distance Charges  \\\n",
              "2          0.042254              1                           0.666462   \n",
              "3          0.169014              1                           0.547386   \n",
              "5          0.112676              1                           0.321691   \n",
              "6          0.985915              1                           0.182598   \n",
              "7          0.873239              1                           0.243873   \n",
              "\n",
              "   Multiple Lines  Internet Service  ...  City_Woodland Hills  City_Woody  \\\n",
              "2               0                 1  ...                False       False   \n",
              "3               0                 1  ...                False       False   \n",
              "5               0                 1  ...                False       False   \n",
              "6               0                 1  ...                False       False   \n",
              "7               1                 1  ...                False       False   \n",
              "\n",
              "   City_Wrightwood  City_Yermo  City_Yorba Linda  City_Yorkville  City_Yreka  \\\n",
              "2            False       False             False           False       False   \n",
              "3            False       False             False           False       False   \n",
              "5            False       False             False           False       False   \n",
              "6            False       False             False           False       False   \n",
              "7            False       False             False           False       False   \n",
              "\n",
              "   City_Yuba City  City_Yucaipa  City_Yucca Valley  \n",
              "2           False         False              False  \n",
              "3           False         False              False  \n",
              "5           False         False              False  \n",
              "6           False         False              False  \n",
              "7           False         False              False  \n",
              "\n",
              "[5 rows x 928 columns]"
            ]
          },
          "execution_count": 90,
          "metadata": {},
          "output_type": "execute_result"
        }
      ],
      "source": [
        "X.head(5)"
      ]
    },
    {
      "cell_type": "code",
      "execution_count": 91,
      "id": "cbb1f0ae",
      "metadata": {
        "execution": {
          "iopub.execute_input": "2022-10-14T19:27:35.938049Z",
          "iopub.status.busy": "2022-10-14T19:27:35.937000Z",
          "iopub.status.idle": "2022-10-14T19:27:35.945249Z",
          "shell.execute_reply": "2022-10-14T19:27:35.944259Z"
        },
        "id": "cbb1f0ae",
        "outputId": "10f6fe9a-9aa2-41d1-a356-74fbb4699b96",
        "papermill": {
          "duration": 0.039358,
          "end_time": "2022-10-14T19:27:35.947447",
          "exception": false,
          "start_time": "2022-10-14T19:27:35.908089",
          "status": "completed"
        },
        "tags": []
      },
      "outputs": [
        {
          "data": {
            "text/plain": [
              "2    0\n",
              "3    0\n",
              "5    2\n",
              "6    2\n",
              "7    2\n",
              "Name: Customer_Status, dtype: int32"
            ]
          },
          "execution_count": 91,
          "metadata": {},
          "output_type": "execute_result"
        }
      ],
      "source": [
        "y.head(5)\n"
      ]
    },
    {
      "cell_type": "markdown",
      "id": "e29c960a",
      "metadata": {
        "id": "e29c960a",
        "papermill": {
          "duration": 0.026571,
          "end_time": "2022-10-14T19:27:36.000528",
          "exception": false,
          "start_time": "2022-10-14T19:27:35.973957",
          "status": "completed"
        },
        "tags": []
      },
      "source": [
        "# Data Model Building"
      ]
    },
    {
      "cell_type": "markdown",
      "id": "r69ylpj8IF5O",
      "metadata": {
        "id": "r69ylpj8IF5O"
      },
      "source": [
        "## Spliiting the data in Training and Test Data"
      ]
    },
    {
      "cell_type": "code",
      "execution_count": 92,
      "id": "69489d3c",
      "metadata": {
        "execution": {
          "iopub.execute_input": "2022-10-14T19:27:36.117068Z",
          "iopub.status.busy": "2022-10-14T19:27:36.116367Z",
          "iopub.status.idle": "2022-10-14T19:27:36.156822Z",
          "shell.execute_reply": "2022-10-14T19:27:36.155558Z"
        },
        "id": "69489d3c",
        "papermill": {
          "duration": 0.071402,
          "end_time": "2022-10-14T19:27:36.159382",
          "exception": false,
          "start_time": "2022-10-14T19:27:36.087980",
          "status": "completed"
        },
        "tags": []
      },
      "outputs": [],
      "source": [
        "from sklearn.model_selection import train_test_split\n",
        "X_train, X_test, y_train, y_test = train_test_split(X, y,test_size=0.2,random_state=5)"
      ]
    },
    {
      "cell_type": "code",
      "execution_count": 93,
      "id": "75476471",
      "metadata": {
        "colab": {
          "base_uri": "https://localhost:8080/"
        },
        "execution": {
          "iopub.execute_input": "2022-10-14T19:27:36.214162Z",
          "iopub.status.busy": "2022-10-14T19:27:36.213764Z",
          "iopub.status.idle": "2022-10-14T19:27:36.220750Z",
          "shell.execute_reply": "2022-10-14T19:27:36.219809Z"
        },
        "id": "75476471",
        "outputId": "c78621fd-aa8a-47ac-e2ce-fa04853a0110",
        "papermill": {
          "duration": 0.036982,
          "end_time": "2022-10-14T19:27:36.222780",
          "exception": false,
          "start_time": "2022-10-14T19:27:36.185798",
          "status": "completed"
        },
        "tags": []
      },
      "outputs": [
        {
          "data": {
            "text/plain": [
              "1755"
            ]
          },
          "execution_count": 93,
          "metadata": {},
          "output_type": "execute_result"
        }
      ],
      "source": [
        "len(X_train)"
      ]
    },
    {
      "cell_type": "code",
      "execution_count": 94,
      "id": "1230500d",
      "metadata": {
        "colab": {
          "base_uri": "https://localhost:8080/",
          "height": 526
        },
        "execution": {
          "iopub.execute_input": "2022-10-14T19:27:36.287668Z",
          "iopub.status.busy": "2022-10-14T19:27:36.286621Z",
          "iopub.status.idle": "2022-10-14T19:27:36.321042Z",
          "shell.execute_reply": "2022-10-14T19:27:36.319119Z"
        },
        "id": "1230500d",
        "outputId": "b99660bb-7f3b-436a-e699-4773fe4e0ac0",
        "papermill": {
          "duration": 0.073947,
          "end_time": "2022-10-14T19:27:36.323777",
          "exception": false,
          "start_time": "2022-10-14T19:27:36.249830",
          "status": "completed"
        },
        "tags": []
      },
      "outputs": [
        {
          "data": {
            "text/html": [
              "<div>\n",
              "<style scoped>\n",
              "    .dataframe tbody tr th:only-of-type {\n",
              "        vertical-align: middle;\n",
              "    }\n",
              "\n",
              "    .dataframe tbody tr th {\n",
              "        vertical-align: top;\n",
              "    }\n",
              "\n",
              "    .dataframe thead th {\n",
              "        text-align: right;\n",
              "    }\n",
              "</style>\n",
              "<table border=\"1\" class=\"dataframe\">\n",
              "  <thead>\n",
              "    <tr style=\"text-align: right;\">\n",
              "      <th></th>\n",
              "      <th>Gender</th>\n",
              "      <th>Age</th>\n",
              "      <th>Married</th>\n",
              "      <th>Number of Dependents</th>\n",
              "      <th>Number of Referrals</th>\n",
              "      <th>Tenure in Months</th>\n",
              "      <th>Phone Service</th>\n",
              "      <th>Avg Monthly Long Distance Charges</th>\n",
              "      <th>Multiple Lines</th>\n",
              "      <th>Internet Service</th>\n",
              "      <th>...</th>\n",
              "      <th>City_Woodland Hills</th>\n",
              "      <th>City_Woody</th>\n",
              "      <th>City_Wrightwood</th>\n",
              "      <th>City_Yermo</th>\n",
              "      <th>City_Yorba Linda</th>\n",
              "      <th>City_Yorkville</th>\n",
              "      <th>City_Yreka</th>\n",
              "      <th>City_Yuba City</th>\n",
              "      <th>City_Yucaipa</th>\n",
              "      <th>City_Yucca Valley</th>\n",
              "    </tr>\n",
              "  </thead>\n",
              "  <tbody>\n",
              "    <tr>\n",
              "      <th>5086</th>\n",
              "      <td>1</td>\n",
              "      <td>0.213115</td>\n",
              "      <td>0</td>\n",
              "      <td>0.000</td>\n",
              "      <td>0.0</td>\n",
              "      <td>0.126761</td>\n",
              "      <td>1</td>\n",
              "      <td>0.135417</td>\n",
              "      <td>0</td>\n",
              "      <td>1</td>\n",
              "      <td>...</td>\n",
              "      <td>False</td>\n",
              "      <td>False</td>\n",
              "      <td>False</td>\n",
              "      <td>False</td>\n",
              "      <td>False</td>\n",
              "      <td>False</td>\n",
              "      <td>False</td>\n",
              "      <td>False</td>\n",
              "      <td>False</td>\n",
              "      <td>False</td>\n",
              "    </tr>\n",
              "    <tr>\n",
              "      <th>1686</th>\n",
              "      <td>0</td>\n",
              "      <td>0.000000</td>\n",
              "      <td>0</td>\n",
              "      <td>0.000</td>\n",
              "      <td>0.0</td>\n",
              "      <td>0.140845</td>\n",
              "      <td>1</td>\n",
              "      <td>0.815768</td>\n",
              "      <td>0</td>\n",
              "      <td>1</td>\n",
              "      <td>...</td>\n",
              "      <td>False</td>\n",
              "      <td>False</td>\n",
              "      <td>False</td>\n",
              "      <td>False</td>\n",
              "      <td>False</td>\n",
              "      <td>False</td>\n",
              "      <td>False</td>\n",
              "      <td>False</td>\n",
              "      <td>False</td>\n",
              "      <td>False</td>\n",
              "    </tr>\n",
              "    <tr>\n",
              "      <th>3655</th>\n",
              "      <td>1</td>\n",
              "      <td>0.737705</td>\n",
              "      <td>0</td>\n",
              "      <td>0.000</td>\n",
              "      <td>0.0</td>\n",
              "      <td>0.000000</td>\n",
              "      <td>1</td>\n",
              "      <td>0.154003</td>\n",
              "      <td>1</td>\n",
              "      <td>1</td>\n",
              "      <td>...</td>\n",
              "      <td>False</td>\n",
              "      <td>False</td>\n",
              "      <td>False</td>\n",
              "      <td>False</td>\n",
              "      <td>False</td>\n",
              "      <td>False</td>\n",
              "      <td>False</td>\n",
              "      <td>False</td>\n",
              "      <td>False</td>\n",
              "      <td>False</td>\n",
              "    </tr>\n",
              "    <tr>\n",
              "      <th>697</th>\n",
              "      <td>1</td>\n",
              "      <td>0.983607</td>\n",
              "      <td>1</td>\n",
              "      <td>0.000</td>\n",
              "      <td>0.1</td>\n",
              "      <td>0.408451</td>\n",
              "      <td>1</td>\n",
              "      <td>0.959967</td>\n",
              "      <td>1</td>\n",
              "      <td>1</td>\n",
              "      <td>...</td>\n",
              "      <td>False</td>\n",
              "      <td>False</td>\n",
              "      <td>False</td>\n",
              "      <td>False</td>\n",
              "      <td>False</td>\n",
              "      <td>False</td>\n",
              "      <td>False</td>\n",
              "      <td>False</td>\n",
              "      <td>False</td>\n",
              "      <td>False</td>\n",
              "    </tr>\n",
              "    <tr>\n",
              "      <th>6685</th>\n",
              "      <td>0</td>\n",
              "      <td>0.721311</td>\n",
              "      <td>0</td>\n",
              "      <td>0.000</td>\n",
              "      <td>0.0</td>\n",
              "      <td>0.478873</td>\n",
              "      <td>1</td>\n",
              "      <td>0.247549</td>\n",
              "      <td>1</td>\n",
              "      <td>1</td>\n",
              "      <td>...</td>\n",
              "      <td>False</td>\n",
              "      <td>False</td>\n",
              "      <td>False</td>\n",
              "      <td>False</td>\n",
              "      <td>False</td>\n",
              "      <td>False</td>\n",
              "      <td>False</td>\n",
              "      <td>False</td>\n",
              "      <td>False</td>\n",
              "      <td>False</td>\n",
              "    </tr>\n",
              "    <tr>\n",
              "      <th>5617</th>\n",
              "      <td>0</td>\n",
              "      <td>0.262295</td>\n",
              "      <td>0</td>\n",
              "      <td>0.000</td>\n",
              "      <td>0.0</td>\n",
              "      <td>0.084507</td>\n",
              "      <td>1</td>\n",
              "      <td>0.367034</td>\n",
              "      <td>1</td>\n",
              "      <td>1</td>\n",
              "      <td>...</td>\n",
              "      <td>False</td>\n",
              "      <td>False</td>\n",
              "      <td>False</td>\n",
              "      <td>False</td>\n",
              "      <td>False</td>\n",
              "      <td>False</td>\n",
              "      <td>False</td>\n",
              "      <td>False</td>\n",
              "      <td>False</td>\n",
              "      <td>False</td>\n",
              "    </tr>\n",
              "    <tr>\n",
              "      <th>2938</th>\n",
              "      <td>1</td>\n",
              "      <td>0.098361</td>\n",
              "      <td>0</td>\n",
              "      <td>0.000</td>\n",
              "      <td>0.0</td>\n",
              "      <td>0.873239</td>\n",
              "      <td>1</td>\n",
              "      <td>0.443423</td>\n",
              "      <td>1</td>\n",
              "      <td>1</td>\n",
              "      <td>...</td>\n",
              "      <td>False</td>\n",
              "      <td>False</td>\n",
              "      <td>False</td>\n",
              "      <td>False</td>\n",
              "      <td>False</td>\n",
              "      <td>False</td>\n",
              "      <td>False</td>\n",
              "      <td>False</td>\n",
              "      <td>False</td>\n",
              "      <td>False</td>\n",
              "    </tr>\n",
              "    <tr>\n",
              "      <th>6323</th>\n",
              "      <td>1</td>\n",
              "      <td>0.688525</td>\n",
              "      <td>0</td>\n",
              "      <td>0.000</td>\n",
              "      <td>0.0</td>\n",
              "      <td>0.000000</td>\n",
              "      <td>1</td>\n",
              "      <td>0.257557</td>\n",
              "      <td>0</td>\n",
              "      <td>1</td>\n",
              "      <td>...</td>\n",
              "      <td>False</td>\n",
              "      <td>False</td>\n",
              "      <td>False</td>\n",
              "      <td>False</td>\n",
              "      <td>False</td>\n",
              "      <td>False</td>\n",
              "      <td>False</td>\n",
              "      <td>False</td>\n",
              "      <td>False</td>\n",
              "      <td>False</td>\n",
              "    </tr>\n",
              "    <tr>\n",
              "      <th>3382</th>\n",
              "      <td>1</td>\n",
              "      <td>0.868852</td>\n",
              "      <td>0</td>\n",
              "      <td>0.000</td>\n",
              "      <td>0.0</td>\n",
              "      <td>0.014085</td>\n",
              "      <td>1</td>\n",
              "      <td>0.825368</td>\n",
              "      <td>0</td>\n",
              "      <td>1</td>\n",
              "      <td>...</td>\n",
              "      <td>False</td>\n",
              "      <td>False</td>\n",
              "      <td>False</td>\n",
              "      <td>False</td>\n",
              "      <td>False</td>\n",
              "      <td>False</td>\n",
              "      <td>False</td>\n",
              "      <td>False</td>\n",
              "      <td>False</td>\n",
              "      <td>False</td>\n",
              "    </tr>\n",
              "    <tr>\n",
              "      <th>1184</th>\n",
              "      <td>1</td>\n",
              "      <td>0.377049</td>\n",
              "      <td>1</td>\n",
              "      <td>0.375</td>\n",
              "      <td>0.8</td>\n",
              "      <td>0.774648</td>\n",
              "      <td>1</td>\n",
              "      <td>0.813725</td>\n",
              "      <td>1</td>\n",
              "      <td>1</td>\n",
              "      <td>...</td>\n",
              "      <td>False</td>\n",
              "      <td>False</td>\n",
              "      <td>False</td>\n",
              "      <td>False</td>\n",
              "      <td>False</td>\n",
              "      <td>False</td>\n",
              "      <td>False</td>\n",
              "      <td>False</td>\n",
              "      <td>False</td>\n",
              "      <td>False</td>\n",
              "    </tr>\n",
              "  </tbody>\n",
              "</table>\n",
              "<p>10 rows × 928 columns</p>\n",
              "</div>"
            ],
            "text/plain": [
              "      Gender       Age  Married  Number of Dependents  Number of Referrals  \\\n",
              "5086       1  0.213115        0                 0.000                  0.0   \n",
              "1686       0  0.000000        0                 0.000                  0.0   \n",
              "3655       1  0.737705        0                 0.000                  0.0   \n",
              "697        1  0.983607        1                 0.000                  0.1   \n",
              "6685       0  0.721311        0                 0.000                  0.0   \n",
              "5617       0  0.262295        0                 0.000                  0.0   \n",
              "2938       1  0.098361        0                 0.000                  0.0   \n",
              "6323       1  0.688525        0                 0.000                  0.0   \n",
              "3382       1  0.868852        0                 0.000                  0.0   \n",
              "1184       1  0.377049        1                 0.375                  0.8   \n",
              "\n",
              "      Tenure in Months  Phone Service  Avg Monthly Long Distance Charges  \\\n",
              "5086          0.126761              1                           0.135417   \n",
              "1686          0.140845              1                           0.815768   \n",
              "3655          0.000000              1                           0.154003   \n",
              "697           0.408451              1                           0.959967   \n",
              "6685          0.478873              1                           0.247549   \n",
              "5617          0.084507              1                           0.367034   \n",
              "2938          0.873239              1                           0.443423   \n",
              "6323          0.000000              1                           0.257557   \n",
              "3382          0.014085              1                           0.825368   \n",
              "1184          0.774648              1                           0.813725   \n",
              "\n",
              "      Multiple Lines  Internet Service  ...  City_Woodland Hills  City_Woody  \\\n",
              "5086               0                 1  ...                False       False   \n",
              "1686               0                 1  ...                False       False   \n",
              "3655               1                 1  ...                False       False   \n",
              "697                1                 1  ...                False       False   \n",
              "6685               1                 1  ...                False       False   \n",
              "5617               1                 1  ...                False       False   \n",
              "2938               1                 1  ...                False       False   \n",
              "6323               0                 1  ...                False       False   \n",
              "3382               0                 1  ...                False       False   \n",
              "1184               1                 1  ...                False       False   \n",
              "\n",
              "      City_Wrightwood  City_Yermo  City_Yorba Linda  City_Yorkville  \\\n",
              "5086            False       False             False           False   \n",
              "1686            False       False             False           False   \n",
              "3655            False       False             False           False   \n",
              "697             False       False             False           False   \n",
              "6685            False       False             False           False   \n",
              "5617            False       False             False           False   \n",
              "2938            False       False             False           False   \n",
              "6323            False       False             False           False   \n",
              "3382            False       False             False           False   \n",
              "1184            False       False             False           False   \n",
              "\n",
              "      City_Yreka  City_Yuba City  City_Yucaipa  City_Yucca Valley  \n",
              "5086       False           False         False              False  \n",
              "1686       False           False         False              False  \n",
              "3655       False           False         False              False  \n",
              "697        False           False         False              False  \n",
              "6685       False           False         False              False  \n",
              "5617       False           False         False              False  \n",
              "2938       False           False         False              False  \n",
              "6323       False           False         False              False  \n",
              "3382       False           False         False              False  \n",
              "1184       False           False         False              False  \n",
              "\n",
              "[10 rows x 928 columns]"
            ]
          },
          "execution_count": 94,
          "metadata": {},
          "output_type": "execute_result"
        }
      ],
      "source": [
        "X_train[:10]"
      ]
    },
    {
      "cell_type": "markdown",
      "id": "XAMYZYjVGBNY",
      "metadata": {
        "id": "XAMYZYjVGBNY"
      },
      "source": [
        "Importing the required files for the model that is to applied\n",
        "\n",
        "1. Random Forest Classifier\n",
        "2. Logistic Regression\n",
        "3. GaussianNB\n",
        "4. Decision Tree Classifier\n",
        "5. XGB Classifier\n"
      ]
    },
    {
      "cell_type": "markdown",
      "id": "IEIDd4SFILpX",
      "metadata": {
        "id": "IEIDd4SFILpX"
      },
      "source": [
        "## Importing Models"
      ]
    },
    {
      "cell_type": "code",
      "execution_count": 95,
      "id": "BgGCnH-W8MuC",
      "metadata": {
        "id": "BgGCnH-W8MuC"
      },
      "outputs": [],
      "source": [
        "from sklearn.ensemble import RandomForestClassifier\n",
        "from sklearn.linear_model import LogisticRegression\n",
        "from sklearn.naive_bayes import GaussianNB\n",
        "from sklearn.tree import DecisionTreeClassifier\n",
        "from xgboost import XGBClassifier"
      ]
    },
    {
      "cell_type": "code",
      "execution_count": 96,
      "id": "287a88e2",
      "metadata": {
        "execution": {
          "iopub.execute_input": "2022-10-14T19:27:36.389708Z",
          "iopub.status.busy": "2022-10-14T19:27:36.388966Z",
          "iopub.status.idle": "2022-10-14T19:27:36.496707Z",
          "shell.execute_reply": "2022-10-14T19:27:36.495514Z"
        },
        "id": "287a88e2",
        "papermill": {
          "duration": 0.142057,
          "end_time": "2022-10-14T19:27:36.499422",
          "exception": false,
          "start_time": "2022-10-14T19:27:36.357365",
          "status": "completed"
        },
        "tags": []
      },
      "outputs": [],
      "source": [
        "model_params = {\n",
        "     \n",
        "    'random_forest': {\n",
        "        'model': RandomForestClassifier(),\n",
        "        'params' : {\n",
        "            'n_estimators': [1,5,10]\n",
        "        }\n",
        "    },\n",
        "    'logistic_regression' : {\n",
        "        'model': LogisticRegression(solver='liblinear',multi_class='auto'),\n",
        "        'params': {\n",
        "            'C': [1,5,10]\n",
        "        }\n",
        "    },\n",
        "    'naive_bayes_gaussian': {\n",
        "        'model': GaussianNB(),\n",
        "        'params': {}\n",
        "    },\n",
        "    \n",
        "    'decision_tree': {\n",
        "        'model': DecisionTreeClassifier(),\n",
        "        'params': {\n",
        "            'criterion': ['gini','entropy'],\n",
        "        }    \n",
        "    },\n",
        "       'XGB_Classifier':{\n",
        "        'model':XGBClassifier(),\n",
        "        'params':{\n",
        "            'base_score':[0.5]\n",
        "            \n",
        "        }\n",
        "    },   \n",
        "}"
      ]
    },
    {
      "cell_type": "code",
      "execution_count": 97,
      "id": "8MYZel5t8p_C",
      "metadata": {
        "id": "8MYZel5t8p_C"
      },
      "outputs": [],
      "source": [
        "from sklearn.model_selection import ShuffleSplit"
      ]
    },
    {
      "cell_type": "markdown",
      "id": "xSyJ8-8uGtoX",
      "metadata": {
        "id": "xSyJ8-8uGtoX"
      },
      "source": [
        "Getting the best_score from the applied models"
      ]
    },
    {
      "cell_type": "code",
      "execution_count": 99,
      "id": "67d004af",
      "metadata": {
        "colab": {
          "base_uri": "https://localhost:8080/",
          "height": 206
        },
        "execution": {
          "iopub.execute_input": "2022-10-14T19:27:36.555196Z",
          "iopub.status.busy": "2022-10-14T19:27:36.554493Z",
          "iopub.status.idle": "2022-10-14T19:35:15.975789Z",
          "shell.execute_reply": "2022-10-14T19:35:15.974661Z"
        },
        "id": "67d004af",
        "outputId": "6c136155-d41c-49dc-eb8c-3c4a27d89f94",
        "papermill": {
          "duration": 459.479725,
          "end_time": "2022-10-14T19:35:16.006077",
          "exception": false,
          "start_time": "2022-10-14T19:27:36.526352",
          "status": "completed"
        },
        "tags": []
      },
      "outputs": [
        {
          "name": "stderr",
          "output_type": "stream",
          "text": [
            "c:\\Users\\samar\\anaconda3\\Lib\\site-packages\\sklearn\\linear_model\\_logistic.py:1247: FutureWarning:\n",
            "\n",
            "'multi_class' was deprecated in version 1.5 and will be removed in 1.7. From then on, it will always use 'multinomial'. Leave it to its default value to avoid this warning.\n",
            "\n",
            "c:\\Users\\samar\\anaconda3\\Lib\\site-packages\\sklearn\\linear_model\\_logistic.py:1247: FutureWarning:\n",
            "\n",
            "'multi_class' was deprecated in version 1.5 and will be removed in 1.7. From then on, it will always use 'multinomial'. Leave it to its default value to avoid this warning.\n",
            "\n",
            "c:\\Users\\samar\\anaconda3\\Lib\\site-packages\\sklearn\\linear_model\\_logistic.py:1247: FutureWarning:\n",
            "\n",
            "'multi_class' was deprecated in version 1.5 and will be removed in 1.7. From then on, it will always use 'multinomial'. Leave it to its default value to avoid this warning.\n",
            "\n",
            "c:\\Users\\samar\\anaconda3\\Lib\\site-packages\\sklearn\\linear_model\\_logistic.py:1247: FutureWarning:\n",
            "\n",
            "'multi_class' was deprecated in version 1.5 and will be removed in 1.7. From then on, it will always use 'multinomial'. Leave it to its default value to avoid this warning.\n",
            "\n",
            "c:\\Users\\samar\\anaconda3\\Lib\\site-packages\\sklearn\\linear_model\\_logistic.py:1247: FutureWarning:\n",
            "\n",
            "'multi_class' was deprecated in version 1.5 and will be removed in 1.7. From then on, it will always use 'multinomial'. Leave it to its default value to avoid this warning.\n",
            "\n",
            "c:\\Users\\samar\\anaconda3\\Lib\\site-packages\\sklearn\\linear_model\\_logistic.py:1247: FutureWarning:\n",
            "\n",
            "'multi_class' was deprecated in version 1.5 and will be removed in 1.7. From then on, it will always use 'multinomial'. Leave it to its default value to avoid this warning.\n",
            "\n",
            "c:\\Users\\samar\\anaconda3\\Lib\\site-packages\\sklearn\\linear_model\\_logistic.py:1247: FutureWarning:\n",
            "\n",
            "'multi_class' was deprecated in version 1.5 and will be removed in 1.7. From then on, it will always use 'multinomial'. Leave it to its default value to avoid this warning.\n",
            "\n",
            "c:\\Users\\samar\\anaconda3\\Lib\\site-packages\\sklearn\\linear_model\\_logistic.py:1247: FutureWarning:\n",
            "\n",
            "'multi_class' was deprecated in version 1.5 and will be removed in 1.7. From then on, it will always use 'multinomial'. Leave it to its default value to avoid this warning.\n",
            "\n",
            "c:\\Users\\samar\\anaconda3\\Lib\\site-packages\\sklearn\\linear_model\\_logistic.py:1247: FutureWarning:\n",
            "\n",
            "'multi_class' was deprecated in version 1.5 and will be removed in 1.7. From then on, it will always use 'multinomial'. Leave it to its default value to avoid this warning.\n",
            "\n",
            "c:\\Users\\samar\\anaconda3\\Lib\\site-packages\\sklearn\\linear_model\\_logistic.py:1247: FutureWarning:\n",
            "\n",
            "'multi_class' was deprecated in version 1.5 and will be removed in 1.7. From then on, it will always use 'multinomial'. Leave it to its default value to avoid this warning.\n",
            "\n",
            "c:\\Users\\samar\\anaconda3\\Lib\\site-packages\\sklearn\\linear_model\\_logistic.py:1247: FutureWarning:\n",
            "\n",
            "'multi_class' was deprecated in version 1.5 and will be removed in 1.7. From then on, it will always use 'multinomial'. Leave it to its default value to avoid this warning.\n",
            "\n",
            "c:\\Users\\samar\\anaconda3\\Lib\\site-packages\\sklearn\\linear_model\\_logistic.py:1247: FutureWarning:\n",
            "\n",
            "'multi_class' was deprecated in version 1.5 and will be removed in 1.7. From then on, it will always use 'multinomial'. Leave it to its default value to avoid this warning.\n",
            "\n",
            "c:\\Users\\samar\\anaconda3\\Lib\\site-packages\\sklearn\\linear_model\\_logistic.py:1247: FutureWarning:\n",
            "\n",
            "'multi_class' was deprecated in version 1.5 and will be removed in 1.7. From then on, it will always use 'multinomial'. Leave it to its default value to avoid this warning.\n",
            "\n",
            "c:\\Users\\samar\\anaconda3\\Lib\\site-packages\\sklearn\\linear_model\\_logistic.py:1247: FutureWarning:\n",
            "\n",
            "'multi_class' was deprecated in version 1.5 and will be removed in 1.7. From then on, it will always use 'multinomial'. Leave it to its default value to avoid this warning.\n",
            "\n",
            "c:\\Users\\samar\\anaconda3\\Lib\\site-packages\\sklearn\\linear_model\\_logistic.py:1247: FutureWarning:\n",
            "\n",
            "'multi_class' was deprecated in version 1.5 and will be removed in 1.7. From then on, it will always use 'multinomial'. Leave it to its default value to avoid this warning.\n",
            "\n",
            "c:\\Users\\samar\\anaconda3\\Lib\\site-packages\\sklearn\\linear_model\\_logistic.py:1247: FutureWarning:\n",
            "\n",
            "'multi_class' was deprecated in version 1.5 and will be removed in 1.7. From then on, it will always use 'multinomial'. Leave it to its default value to avoid this warning.\n",
            "\n"
          ]
        },
        {
          "name": "stdout",
          "output_type": "stream",
          "text": [
            "                 model  best_score                             best_params\n",
            "0                  svm    0.785877            {'C': 1, 'kernel': 'linear'}\n",
            "1        random_forest    0.792255                    {'n_estimators': 10}\n",
            "2  logistic_regression    0.792711                                {'C': 1}\n",
            "3        decision_tree    0.802278  {'criterion': 'gini', 'max_depth': 10}\n"
          ]
        }
      ],
      "source": [
        "from sklearn.linear_model import LogisticRegression\n",
        "from sklearn.tree import DecisionTreeClassifier\n",
        "from sklearn.ensemble import RandomForestClassifier\n",
        "from sklearn.svm import SVC\n",
        "from sklearn.model_selection import GridSearchCV\n",
        "\n",
        "# Assuming X and y are your features and target\n",
        "# Assuming cv is your cross-validation strategy (e.g., KFold(n_splits=5))\n",
        "\n",
        "model_params = {\n",
        "    'svm': {\n",
        "        'model': SVC(gamma='auto'), # <--- Ensure this is an instance!\n",
        "        'params': {\n",
        "            'C': [1,10,20],\n",
        "            'kernel': ['rbf','linear']\n",
        "        }\n",
        "    },\n",
        "    'random_forest': {\n",
        "        'model': RandomForestClassifier(), # <--- Ensure this is an instance!\n",
        "        'params': {\n",
        "            'n_estimators': [1,5,10]\n",
        "        }\n",
        "    },\n",
        "    'logistic_regression' : {\n",
        "        'model': LogisticRegression(solver='liblinear',multi_class='auto'), # <--- Ensure this is an instance!\n",
        "        'params': {\n",
        "            'C': [1,5,10]\n",
        "        }\n",
        "    },\n",
        "    'decision_tree': {\n",
        "        'model': DecisionTreeClassifier(), # <--- Ensure this is an instance!\n",
        "        'params': {\n",
        "            'criterion': ['gini', 'entropy'],\n",
        "            'max_depth': [None, 5, 10]\n",
        "        }\n",
        "    }\n",
        "}\n",
        "\n",
        "scores = []\n",
        "# Assuming cv is defined, e.g., from sklearn.model_selection import StratifiedKFold; cv = StratifiedKFold(n_splits=5)\n",
        "for model_name, mp in model_params.items():\n",
        "    clf = GridSearchCV(mp['model'], mp['params'], cv=cv, return_train_score=False)\n",
        "    clf.fit(X,y)\n",
        "    scores.append({\n",
        "        'model': model_name,\n",
        "        'best_score': clf.best_score_,\n",
        "        'best_params': clf.best_params_\n",
        "    })\n",
        "\n",
        "df = pd.DataFrame(scores,columns=['model','best_score','best_params'])\n",
        "print(df)"
      ]
    },
    {
      "cell_type": "markdown",
      "id": "hL0mJps1GyTx",
      "metadata": {
        "id": "hL0mJps1GyTx"
      },
      "source": [
        "It was concluded that XGB_Classifier was giving us the best_score in the dataset"
      ]
    },
    {
      "cell_type": "markdown",
      "id": "McfvPlm5IV3m",
      "metadata": {
        "id": "McfvPlm5IV3m"
      },
      "source": [
        "## Selecting the model with best score for the dataset"
      ]
    },
    {
      "cell_type": "code",
      "execution_count": 109,
      "id": "29abd862",
      "metadata": {
        "colab": {
          "base_uri": "https://localhost:8080/"
        },
        "execution": {
          "iopub.execute_input": "2022-10-14T19:35:16.064374Z",
          "iopub.status.busy": "2022-10-14T19:35:16.063720Z",
          "iopub.status.idle": "2022-10-14T19:35:38.136795Z",
          "shell.execute_reply": "2022-10-14T19:35:38.135553Z"
        },
        "id": "29abd862",
        "outputId": "e156ff6f-8224-48da-d336-8ab5bd15ddff",
        "papermill": {
          "duration": 22.105083,
          "end_time": "2022-10-14T19:35:38.139315",
          "exception": false,
          "start_time": "2022-10-14T19:35:16.034232",
          "status": "completed"
        },
        "tags": []
      },
      "outputs": [
        {
          "ename": "AttributeError",
          "evalue": "'super' object has no attribute '__sklearn_tags__'",
          "output_type": "error",
          "traceback": [
            "\u001b[1;31m---------------------------------------------------------------------------\u001b[0m",
            "\u001b[1;31mAttributeError\u001b[0m                            Traceback (most recent call last)",
            "File \u001b[1;32mc:\\Users\\samar\\anaconda3\\Lib\\site-packages\\IPython\\core\\formatters.py:977\u001b[0m, in \u001b[0;36mMimeBundleFormatter.__call__\u001b[1;34m(self, obj, include, exclude)\u001b[0m\n\u001b[0;32m    974\u001b[0m     method \u001b[38;5;241m=\u001b[39m get_real_method(obj, \u001b[38;5;28mself\u001b[39m\u001b[38;5;241m.\u001b[39mprint_method)\n\u001b[0;32m    976\u001b[0m     \u001b[38;5;28;01mif\u001b[39;00m method \u001b[38;5;129;01mis\u001b[39;00m \u001b[38;5;129;01mnot\u001b[39;00m \u001b[38;5;28;01mNone\u001b[39;00m:\n\u001b[1;32m--> 977\u001b[0m         \u001b[38;5;28;01mreturn\u001b[39;00m method(include\u001b[38;5;241m=\u001b[39minclude, exclude\u001b[38;5;241m=\u001b[39mexclude)\n\u001b[0;32m    978\u001b[0m     \u001b[38;5;28;01mreturn\u001b[39;00m \u001b[38;5;28;01mNone\u001b[39;00m\n\u001b[0;32m    979\u001b[0m \u001b[38;5;28;01melse\u001b[39;00m:\n",
            "File \u001b[1;32mc:\\Users\\samar\\anaconda3\\Lib\\site-packages\\sklearn\\base.py:469\u001b[0m, in \u001b[0;36mBaseEstimator._repr_mimebundle_\u001b[1;34m(self, **kwargs)\u001b[0m\n\u001b[0;32m    467\u001b[0m output \u001b[38;5;241m=\u001b[39m {\u001b[38;5;124m\"\u001b[39m\u001b[38;5;124mtext/plain\u001b[39m\u001b[38;5;124m\"\u001b[39m: \u001b[38;5;28mrepr\u001b[39m(\u001b[38;5;28mself\u001b[39m)}\n\u001b[0;32m    468\u001b[0m \u001b[38;5;28;01mif\u001b[39;00m get_config()[\u001b[38;5;124m\"\u001b[39m\u001b[38;5;124mdisplay\u001b[39m\u001b[38;5;124m\"\u001b[39m] \u001b[38;5;241m==\u001b[39m \u001b[38;5;124m\"\u001b[39m\u001b[38;5;124mdiagram\u001b[39m\u001b[38;5;124m\"\u001b[39m:\n\u001b[1;32m--> 469\u001b[0m     output[\u001b[38;5;124m\"\u001b[39m\u001b[38;5;124mtext/html\u001b[39m\u001b[38;5;124m\"\u001b[39m] \u001b[38;5;241m=\u001b[39m estimator_html_repr(\u001b[38;5;28mself\u001b[39m)\n\u001b[0;32m    470\u001b[0m \u001b[38;5;28;01mreturn\u001b[39;00m output\n",
            "File \u001b[1;32mc:\\Users\\samar\\anaconda3\\Lib\\site-packages\\sklearn\\utils\\_estimator_html_repr.py:387\u001b[0m, in \u001b[0;36mestimator_html_repr\u001b[1;34m(estimator)\u001b[0m\n\u001b[0;32m    385\u001b[0m \u001b[38;5;28;01melse\u001b[39;00m:\n\u001b[0;32m    386\u001b[0m     \u001b[38;5;28;01mtry\u001b[39;00m:\n\u001b[1;32m--> 387\u001b[0m         check_is_fitted(estimator)\n\u001b[0;32m    388\u001b[0m         status_label \u001b[38;5;241m=\u001b[39m \u001b[38;5;124m\"\u001b[39m\u001b[38;5;124m<span>Fitted</span>\u001b[39m\u001b[38;5;124m\"\u001b[39m\n\u001b[0;32m    389\u001b[0m         is_fitted_css_class \u001b[38;5;241m=\u001b[39m \u001b[38;5;124m\"\u001b[39m\u001b[38;5;124mfitted\u001b[39m\u001b[38;5;124m\"\u001b[39m\n",
            "File \u001b[1;32mc:\\Users\\samar\\anaconda3\\Lib\\site-packages\\sklearn\\utils\\validation.py:1751\u001b[0m, in \u001b[0;36mcheck_is_fitted\u001b[1;34m(estimator, attributes, msg, all_or_any)\u001b[0m\n\u001b[0;32m   1748\u001b[0m \u001b[38;5;28;01mif\u001b[39;00m \u001b[38;5;129;01mnot\u001b[39;00m \u001b[38;5;28mhasattr\u001b[39m(estimator, \u001b[38;5;124m\"\u001b[39m\u001b[38;5;124mfit\u001b[39m\u001b[38;5;124m\"\u001b[39m):\n\u001b[0;32m   1749\u001b[0m     \u001b[38;5;28;01mraise\u001b[39;00m \u001b[38;5;167;01mTypeError\u001b[39;00m(\u001b[38;5;124m\"\u001b[39m\u001b[38;5;132;01m%s\u001b[39;00m\u001b[38;5;124m is not an estimator instance.\u001b[39m\u001b[38;5;124m\"\u001b[39m \u001b[38;5;241m%\u001b[39m (estimator))\n\u001b[1;32m-> 1751\u001b[0m tags \u001b[38;5;241m=\u001b[39m get_tags(estimator)\n\u001b[0;32m   1753\u001b[0m \u001b[38;5;28;01mif\u001b[39;00m \u001b[38;5;129;01mnot\u001b[39;00m tags\u001b[38;5;241m.\u001b[39mrequires_fit \u001b[38;5;129;01mand\u001b[39;00m attributes \u001b[38;5;129;01mis\u001b[39;00m \u001b[38;5;28;01mNone\u001b[39;00m:\n\u001b[0;32m   1754\u001b[0m     \u001b[38;5;28;01mreturn\u001b[39;00m\n",
            "File \u001b[1;32mc:\\Users\\samar\\anaconda3\\Lib\\site-packages\\sklearn\\utils\\_tags.py:430\u001b[0m, in \u001b[0;36mget_tags\u001b[1;34m(estimator)\u001b[0m\n\u001b[0;32m    428\u001b[0m \u001b[38;5;28;01mfor\u001b[39;00m klass \u001b[38;5;129;01min\u001b[39;00m \u001b[38;5;28mreversed\u001b[39m(\u001b[38;5;28mtype\u001b[39m(estimator)\u001b[38;5;241m.\u001b[39mmro()):\n\u001b[0;32m    429\u001b[0m     \u001b[38;5;28;01mif\u001b[39;00m \u001b[38;5;124m\"\u001b[39m\u001b[38;5;124m__sklearn_tags__\u001b[39m\u001b[38;5;124m\"\u001b[39m \u001b[38;5;129;01min\u001b[39;00m \u001b[38;5;28mvars\u001b[39m(klass):\n\u001b[1;32m--> 430\u001b[0m         sklearn_tags_provider[klass] \u001b[38;5;241m=\u001b[39m klass\u001b[38;5;241m.\u001b[39m__sklearn_tags__(estimator)  \u001b[38;5;66;03m# type: ignore[attr-defined]\u001b[39;00m\n\u001b[0;32m    431\u001b[0m         class_order\u001b[38;5;241m.\u001b[39mappend(klass)\n\u001b[0;32m    432\u001b[0m     \u001b[38;5;28;01melif\u001b[39;00m \u001b[38;5;124m\"\u001b[39m\u001b[38;5;124m_more_tags\u001b[39m\u001b[38;5;124m\"\u001b[39m \u001b[38;5;129;01min\u001b[39;00m \u001b[38;5;28mvars\u001b[39m(klass):\n",
            "File \u001b[1;32mc:\\Users\\samar\\anaconda3\\Lib\\site-packages\\sklearn\\base.py:540\u001b[0m, in \u001b[0;36mClassifierMixin.__sklearn_tags__\u001b[1;34m(self)\u001b[0m\n\u001b[0;32m    539\u001b[0m \u001b[38;5;28;01mdef\u001b[39;00m \u001b[38;5;21m__sklearn_tags__\u001b[39m(\u001b[38;5;28mself\u001b[39m):\n\u001b[1;32m--> 540\u001b[0m     tags \u001b[38;5;241m=\u001b[39m \u001b[38;5;28msuper\u001b[39m()\u001b[38;5;241m.\u001b[39m__sklearn_tags__()\n\u001b[0;32m    541\u001b[0m     tags\u001b[38;5;241m.\u001b[39mestimator_type \u001b[38;5;241m=\u001b[39m \u001b[38;5;124m\"\u001b[39m\u001b[38;5;124mclassifier\u001b[39m\u001b[38;5;124m\"\u001b[39m\n\u001b[0;32m    542\u001b[0m     tags\u001b[38;5;241m.\u001b[39mclassifier_tags \u001b[38;5;241m=\u001b[39m ClassifierTags()\n",
            "\u001b[1;31mAttributeError\u001b[0m: 'super' object has no attribute '__sklearn_tags__'"
          ]
        },
        {
          "ename": "AttributeError",
          "evalue": "'super' object has no attribute '__sklearn_tags__'",
          "output_type": "error",
          "traceback": [
            "\u001b[1;31m---------------------------------------------------------------------------\u001b[0m",
            "\u001b[1;31mAttributeError\u001b[0m                            Traceback (most recent call last)",
            "File \u001b[1;32mc:\\Users\\samar\\anaconda3\\Lib\\site-packages\\IPython\\core\\formatters.py:347\u001b[0m, in \u001b[0;36mBaseFormatter.__call__\u001b[1;34m(self, obj)\u001b[0m\n\u001b[0;32m    345\u001b[0m     method \u001b[38;5;241m=\u001b[39m get_real_method(obj, \u001b[38;5;28mself\u001b[39m\u001b[38;5;241m.\u001b[39mprint_method)\n\u001b[0;32m    346\u001b[0m     \u001b[38;5;28;01mif\u001b[39;00m method \u001b[38;5;129;01mis\u001b[39;00m \u001b[38;5;129;01mnot\u001b[39;00m \u001b[38;5;28;01mNone\u001b[39;00m:\n\u001b[1;32m--> 347\u001b[0m         \u001b[38;5;28;01mreturn\u001b[39;00m method()\n\u001b[0;32m    348\u001b[0m     \u001b[38;5;28;01mreturn\u001b[39;00m \u001b[38;5;28;01mNone\u001b[39;00m\n\u001b[0;32m    349\u001b[0m \u001b[38;5;28;01melse\u001b[39;00m:\n",
            "File \u001b[1;32mc:\\Users\\samar\\anaconda3\\Lib\\site-packages\\sklearn\\base.py:463\u001b[0m, in \u001b[0;36mBaseEstimator._repr_html_inner\u001b[1;34m(self)\u001b[0m\n\u001b[0;32m    458\u001b[0m \u001b[38;5;28;01mdef\u001b[39;00m \u001b[38;5;21m_repr_html_inner\u001b[39m(\u001b[38;5;28mself\u001b[39m):\n\u001b[0;32m    459\u001b[0m \u001b[38;5;250m    \u001b[39m\u001b[38;5;124;03m\"\"\"This function is returned by the @property `_repr_html_` to make\u001b[39;00m\n\u001b[0;32m    460\u001b[0m \u001b[38;5;124;03m    `hasattr(estimator, \"_repr_html_\") return `True` or `False` depending\u001b[39;00m\n\u001b[0;32m    461\u001b[0m \u001b[38;5;124;03m    on `get_config()[\"display\"]`.\u001b[39;00m\n\u001b[0;32m    462\u001b[0m \u001b[38;5;124;03m    \"\"\"\u001b[39;00m\n\u001b[1;32m--> 463\u001b[0m     \u001b[38;5;28;01mreturn\u001b[39;00m estimator_html_repr(\u001b[38;5;28mself\u001b[39m)\n",
            "File \u001b[1;32mc:\\Users\\samar\\anaconda3\\Lib\\site-packages\\sklearn\\utils\\_estimator_html_repr.py:387\u001b[0m, in \u001b[0;36mestimator_html_repr\u001b[1;34m(estimator)\u001b[0m\n\u001b[0;32m    385\u001b[0m \u001b[38;5;28;01melse\u001b[39;00m:\n\u001b[0;32m    386\u001b[0m     \u001b[38;5;28;01mtry\u001b[39;00m:\n\u001b[1;32m--> 387\u001b[0m         check_is_fitted(estimator)\n\u001b[0;32m    388\u001b[0m         status_label \u001b[38;5;241m=\u001b[39m \u001b[38;5;124m\"\u001b[39m\u001b[38;5;124m<span>Fitted</span>\u001b[39m\u001b[38;5;124m\"\u001b[39m\n\u001b[0;32m    389\u001b[0m         is_fitted_css_class \u001b[38;5;241m=\u001b[39m \u001b[38;5;124m\"\u001b[39m\u001b[38;5;124mfitted\u001b[39m\u001b[38;5;124m\"\u001b[39m\n",
            "File \u001b[1;32mc:\\Users\\samar\\anaconda3\\Lib\\site-packages\\sklearn\\utils\\validation.py:1751\u001b[0m, in \u001b[0;36mcheck_is_fitted\u001b[1;34m(estimator, attributes, msg, all_or_any)\u001b[0m\n\u001b[0;32m   1748\u001b[0m \u001b[38;5;28;01mif\u001b[39;00m \u001b[38;5;129;01mnot\u001b[39;00m \u001b[38;5;28mhasattr\u001b[39m(estimator, \u001b[38;5;124m\"\u001b[39m\u001b[38;5;124mfit\u001b[39m\u001b[38;5;124m\"\u001b[39m):\n\u001b[0;32m   1749\u001b[0m     \u001b[38;5;28;01mraise\u001b[39;00m \u001b[38;5;167;01mTypeError\u001b[39;00m(\u001b[38;5;124m\"\u001b[39m\u001b[38;5;132;01m%s\u001b[39;00m\u001b[38;5;124m is not an estimator instance.\u001b[39m\u001b[38;5;124m\"\u001b[39m \u001b[38;5;241m%\u001b[39m (estimator))\n\u001b[1;32m-> 1751\u001b[0m tags \u001b[38;5;241m=\u001b[39m get_tags(estimator)\n\u001b[0;32m   1753\u001b[0m \u001b[38;5;28;01mif\u001b[39;00m \u001b[38;5;129;01mnot\u001b[39;00m tags\u001b[38;5;241m.\u001b[39mrequires_fit \u001b[38;5;129;01mand\u001b[39;00m attributes \u001b[38;5;129;01mis\u001b[39;00m \u001b[38;5;28;01mNone\u001b[39;00m:\n\u001b[0;32m   1754\u001b[0m     \u001b[38;5;28;01mreturn\u001b[39;00m\n",
            "File \u001b[1;32mc:\\Users\\samar\\anaconda3\\Lib\\site-packages\\sklearn\\utils\\_tags.py:430\u001b[0m, in \u001b[0;36mget_tags\u001b[1;34m(estimator)\u001b[0m\n\u001b[0;32m    428\u001b[0m \u001b[38;5;28;01mfor\u001b[39;00m klass \u001b[38;5;129;01min\u001b[39;00m \u001b[38;5;28mreversed\u001b[39m(\u001b[38;5;28mtype\u001b[39m(estimator)\u001b[38;5;241m.\u001b[39mmro()):\n\u001b[0;32m    429\u001b[0m     \u001b[38;5;28;01mif\u001b[39;00m \u001b[38;5;124m\"\u001b[39m\u001b[38;5;124m__sklearn_tags__\u001b[39m\u001b[38;5;124m\"\u001b[39m \u001b[38;5;129;01min\u001b[39;00m \u001b[38;5;28mvars\u001b[39m(klass):\n\u001b[1;32m--> 430\u001b[0m         sklearn_tags_provider[klass] \u001b[38;5;241m=\u001b[39m klass\u001b[38;5;241m.\u001b[39m__sklearn_tags__(estimator)  \u001b[38;5;66;03m# type: ignore[attr-defined]\u001b[39;00m\n\u001b[0;32m    431\u001b[0m         class_order\u001b[38;5;241m.\u001b[39mappend(klass)\n\u001b[0;32m    432\u001b[0m     \u001b[38;5;28;01melif\u001b[39;00m \u001b[38;5;124m\"\u001b[39m\u001b[38;5;124m_more_tags\u001b[39m\u001b[38;5;124m\"\u001b[39m \u001b[38;5;129;01min\u001b[39;00m \u001b[38;5;28mvars\u001b[39m(klass):\n",
            "File \u001b[1;32mc:\\Users\\samar\\anaconda3\\Lib\\site-packages\\sklearn\\base.py:540\u001b[0m, in \u001b[0;36mClassifierMixin.__sklearn_tags__\u001b[1;34m(self)\u001b[0m\n\u001b[0;32m    539\u001b[0m \u001b[38;5;28;01mdef\u001b[39;00m \u001b[38;5;21m__sklearn_tags__\u001b[39m(\u001b[38;5;28mself\u001b[39m):\n\u001b[1;32m--> 540\u001b[0m     tags \u001b[38;5;241m=\u001b[39m \u001b[38;5;28msuper\u001b[39m()\u001b[38;5;241m.\u001b[39m__sklearn_tags__()\n\u001b[0;32m    541\u001b[0m     tags\u001b[38;5;241m.\u001b[39mestimator_type \u001b[38;5;241m=\u001b[39m \u001b[38;5;124m\"\u001b[39m\u001b[38;5;124mclassifier\u001b[39m\u001b[38;5;124m\"\u001b[39m\n\u001b[0;32m    542\u001b[0m     tags\u001b[38;5;241m.\u001b[39mclassifier_tags \u001b[38;5;241m=\u001b[39m ClassifierTags()\n",
            "\u001b[1;31mAttributeError\u001b[0m: 'super' object has no attribute '__sklearn_tags__'"
          ]
        },
        {
          "data": {
            "text/plain": [
              "XGBClassifier(base_score=None, booster=None, callbacks=None,\n",
              "              colsample_bylevel=None, colsample_bynode=None,\n",
              "              colsample_bytree=None, device=None, early_stopping_rounds=None,\n",
              "              enable_categorical=False, eval_metric=None, feature_types=None,\n",
              "              gamma=None, grow_policy=None, importance_type=None,\n",
              "              interaction_constraints=None, learning_rate=None, max_bin=None,\n",
              "              max_cat_threshold=None, max_cat_to_onehot=None,\n",
              "              max_delta_step=None, max_depth=None, max_leaves=None,\n",
              "              min_child_weight=None, missing=nan, monotone_constraints=None,\n",
              "              multi_strategy=None, n_estimators=None, n_jobs=None,\n",
              "              num_parallel_tree=None, objective='multi:softprob', ...)"
            ]
          },
          "execution_count": 109,
          "metadata": {},
          "output_type": "execute_result"
        }
      ],
      "source": [
        "reg=XGBClassifier()\n",
        "reg.fit(X_train, y_train)"
      ]
    },
    {
      "cell_type": "code",
      "execution_count": 110,
      "id": "9edbf70f",
      "metadata": {
        "colab": {
          "base_uri": "https://localhost:8080/"
        },
        "execution": {
          "iopub.execute_input": "2022-10-14T19:35:38.197651Z",
          "iopub.status.busy": "2022-10-14T19:35:38.196897Z",
          "iopub.status.idle": "2022-10-14T19:35:38.249919Z",
          "shell.execute_reply": "2022-10-14T19:35:38.248981Z"
        },
        "id": "9edbf70f",
        "outputId": "77557930-07b9-4733-ed9e-b65bfe6c0519",
        "papermill": {
          "duration": 0.084755,
          "end_time": "2022-10-14T19:35:38.252317",
          "exception": false,
          "start_time": "2022-10-14T19:35:38.167562",
          "status": "completed"
        },
        "tags": []
      },
      "outputs": [
        {
          "data": {
            "text/plain": [
              "0.826879271070615"
            ]
          },
          "execution_count": 110,
          "metadata": {},
          "output_type": "execute_result"
        }
      ],
      "source": [
        "reg.score(X_test, y_test)"
      ]
    },
    {
      "cell_type": "markdown",
      "id": "MvDFVhxyG66X",
      "metadata": {
        "id": "MvDFVhxyG66X"
      },
      "source": [
        "We got an accuracy of 80.86 percent in the testing dataset"
      ]
    },
    {
      "cell_type": "markdown",
      "id": "MyTMxLmBHIiA",
      "metadata": {
        "id": "MyTMxLmBHIiA"
      },
      "source": [
        "## Predicting values from the model build to check the accuracy"
      ]
    },
    {
      "cell_type": "code",
      "execution_count": 111,
      "id": "43553255",
      "metadata": {
        "colab": {
          "base_uri": "https://localhost:8080/"
        },
        "execution": {
          "iopub.execute_input": "2022-10-14T19:35:38.311974Z",
          "iopub.status.busy": "2022-10-14T19:35:38.310955Z",
          "iopub.status.idle": "2022-10-14T19:35:38.365092Z",
          "shell.execute_reply": "2022-10-14T19:35:38.364032Z"
        },
        "id": "43553255",
        "outputId": "d961c4f1-03d8-441d-f92e-44d9dde1e3c1",
        "papermill": {
          "duration": 0.085912,
          "end_time": "2022-10-14T19:35:38.367720",
          "exception": false,
          "start_time": "2022-10-14T19:35:38.281808",
          "status": "completed"
        },
        "tags": []
      },
      "outputs": [
        {
          "data": {
            "text/plain": [
              "array([2, 0, 1, 0, 0], dtype=int64)"
            ]
          },
          "execution_count": 111,
          "metadata": {},
          "output_type": "execute_result"
        }
      ],
      "source": [
        "y_predicted = reg.predict(X_test)\n",
        "y_predicted[:5]"
      ]
    },
    {
      "cell_type": "markdown",
      "id": "0nUD9CLuHVg3",
      "metadata": {
        "id": "0nUD9CLuHVg3"
      },
      "source": [
        "## Verifying the actual values with the predicted values"
      ]
    },
    {
      "cell_type": "code",
      "execution_count": 112,
      "id": "43cc1a7f",
      "metadata": {
        "colab": {
          "base_uri": "https://localhost:8080/"
        },
        "execution": {
          "iopub.execute_input": "2022-10-14T19:35:38.427038Z",
          "iopub.status.busy": "2022-10-14T19:35:38.426628Z",
          "iopub.status.idle": "2022-10-14T19:35:38.434411Z",
          "shell.execute_reply": "2022-10-14T19:35:38.433293Z"
        },
        "id": "43cc1a7f",
        "outputId": "d9b85767-5f90-4c53-d62e-bb2d8994e716",
        "papermill": {
          "duration": 0.039167,
          "end_time": "2022-10-14T19:35:38.436615",
          "exception": false,
          "start_time": "2022-10-14T19:35:38.397448",
          "status": "completed"
        },
        "tags": []
      },
      "outputs": [
        {
          "data": {
            "text/plain": [
              "525     2\n",
              "3086    0\n",
              "2231    1\n",
              "5041    0\n",
              "4165    0\n",
              "Name: Customer_Status, dtype: int32"
            ]
          },
          "execution_count": 112,
          "metadata": {},
          "output_type": "execute_result"
        }
      ],
      "source": [
        "y_test[:5]"
      ]
    },
    {
      "cell_type": "markdown",
      "id": "FXkUU_hxHeqZ",
      "metadata": {
        "id": "FXkUU_hxHeqZ"
      },
      "source": [
        "## Importing Confusion Matrx "
      ]
    },
    {
      "cell_type": "code",
      "execution_count": 117,
      "id": "e3ca6632",
      "metadata": {
        "colab": {
          "base_uri": "https://localhost:8080/",
          "height": 459
        },
        "execution": {
          "iopub.execute_input": "2022-10-14T19:35:38.495193Z",
          "iopub.status.busy": "2022-10-14T19:35:38.494077Z",
          "iopub.status.idle": "2022-10-14T19:35:38.767162Z",
          "shell.execute_reply": "2022-10-14T19:35:38.766004Z"
        },
        "id": "e3ca6632",
        "outputId": "521eb77b-27cc-436f-95c9-3e4dc1de59b7",
        "papermill": {
          "duration": 0.304741,
          "end_time": "2022-10-14T19:35:38.769684",
          "exception": false,
          "start_time": "2022-10-14T19:35:38.464943",
          "status": "completed"
        },
        "tags": []
      },
      "outputs": [
        {
          "data": {
            "text/plain": [
              "Text(95.72222222222221, 0.5, 'Truth')"
            ]
          },
          "execution_count": 117,
          "metadata": {},
          "output_type": "execute_result"
        },
        {
          "data": {
            "image/png": "[encoded data removed]",
            "text/plain": [
              "<Figure size 1000x700 with 2 Axes>"
            ]
          },
          "metadata": {},
          "output_type": "display_data"
        }
      ],
      "source": [
        "import seaborn as sn\n",
        "from sklearn.metrics import confusion_matrix\n",
        "cm = confusion_matrix(y_test, y_predicted)\n",
        "plt.figure(figsize = (10,7))\n",
        "sn.heatmap(cm, annot=True)\n",
        "plt.xlabel('Predicted')\n",
        "plt.ylabel('Truth')"
      ]
    },
    {
      "cell_type": "markdown",
      "id": "tmc4I2FtHtXX",
      "metadata": {
        "id": "tmc4I2FtHtXX"
      },
      "source": [
        "## Importing Classification Report"
      ]
    },
    {
      "cell_type": "code",
      "execution_count": 105,
      "id": "sp7uiY5R9f0p",
      "metadata": {
        "id": "sp7uiY5R9f0p"
      },
      "outputs": [],
      "source": [
        "from sklearn.metrics import classification_report"
      ]
    },
    {
      "cell_type": "code",
      "execution_count": 119,
      "id": "d0121c0a",
      "metadata": {
        "colab": {
          "base_uri": "https://localhost:8080/"
        },
        "execution": {
          "iopub.execute_input": "2022-10-14T19:35:38.830719Z",
          "iopub.status.busy": "2022-10-14T19:35:38.830328Z",
          "iopub.status.idle": "2022-10-14T19:35:38.840948Z",
          "shell.execute_reply": "2022-10-14T19:35:38.840122Z"
        },
        "id": "d0121c0a",
        "outputId": "cff521af-0d36-4d0c-c766-ca5dea7aa641",
        "papermill": {
          "duration": 0.044937,
          "end_time": "2022-10-14T19:35:38.843724",
          "exception": false,
          "start_time": "2022-10-14T19:35:38.798787",
          "status": "completed"
        },
        "tags": []
      },
      "outputs": [
        {
          "name": "stdout",
          "output_type": "stream",
          "text": [
            "              precision    recall  f1-score   support\n",
            "\n",
            "           0       0.76      0.69      0.72       143\n",
            "           1       0.70      0.50      0.58        14\n",
            "           2       0.86      0.91      0.89       282\n",
            "\n",
            "    accuracy                           0.83       439\n",
            "   macro avg       0.77      0.70      0.73       439\n",
            "weighted avg       0.82      0.83      0.82       439\n",
            "\n"
          ]
        }
      ],
      "source": [
        "print(classification_report(y_test, y_predicted))"
      ]
    },
    {
      "cell_type": "code",
      "execution_count": 107,
      "id": "8d42cd4a",
      "metadata": {
        "colab": {
          "base_uri": "https://localhost:8080/"
        },
        "execution": {
          "iopub.execute_input": "2022-10-14T19:35:38.906087Z",
          "iopub.status.busy": "2022-10-14T19:35:38.905708Z",
          "iopub.status.idle": "2022-10-14T19:35:38.912908Z",
          "shell.execute_reply": "2022-10-14T19:35:38.912095Z"
        },
        "id": "8d42cd4a",
        "outputId": "17643df6-003c-48a0-c39e-ffcfbbd28e62",
        "papermill": {
          "duration": 0.040926,
          "end_time": "2022-10-14T19:35:38.914964",
          "exception": false,
          "start_time": "2022-10-14T19:35:38.874038",
          "status": "completed"
        },
        "tags": []
      },
      "outputs": [
        {
          "data": {
            "text/plain": [
              "0.826879271070615"
            ]
          },
          "execution_count": 107,
          "metadata": {},
          "output_type": "execute_result"
        }
      ],
      "source": [
        "from sklearn.metrics import accuracy_score\n",
        "accuracy_score(y_test, y_predicted)"
      ]
    },
    {
      "cell_type": "markdown",
      "id": "DL9Fdk6BH0S2",
      "metadata": {
        "id": "DL9Fdk6BH0S2"
      },
      "source": [
        "In the end we conclude that the Telecom Customer Churn Prediction was best worked with XGB_Classifier with an accuracy score of 80.86%"
      ]
    }
  ],
  "metadata": {
    "colab": {
      "provenance": [],
      "toc_visible": true
    },
    "kernelspec": {
      "display_name": "base",
      "language": "python",
      "name": "python3"
    },
    "language_info": {
      "codemirror_mode": {
        "name": "ipython",
        "version": 3
      },
      "file_extension": ".py",
      "mimetype": "text/x-python",
      "name": "python",
      "nbconvert_exporter": "python",
      "pygments_lexer": "ipython3",
      "version": "3.12.3"
    },
    "papermill": {
      "default_parameters": {},
      "duration": 505.601322,
      "end_time": "2022-10-14T19:35:40.068671",
      "environment_variables": {},
      "exception": null,
      "input_path": "__notebook__.ipynb",
      "output_path": "__notebook__.ipynb",
      "parameters": {},
      "start_time": "2022-10-14T19:27:14.467349",
      "version": "2.3.4"
    }
  },
  "nbformat": 4,
  "nbformat_minor": 5
}
